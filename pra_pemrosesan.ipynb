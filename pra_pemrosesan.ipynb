{
  "cells": [
    {
      "cell_type": "markdown",
      "metadata": {
        "colab_type": "text",
        "id": "view-in-github"
      },
      "source": [
        "<a href=\"https://colab.research.google.com/github/SriYanisaa/chatbot-kampus-merdeka-deep-learning/blob/main/pra_pemrosesan.ipynb\" target=\"_parent\"><img src=\"https://colab.research.google.com/assets/colab-badge.svg\" alt=\"Open In Colab\"/></a>"
      ]
    },
    {
      "cell_type": "markdown",
      "metadata": {
        "id": "xubIAqKVykMO"
      },
      "source": [
        "# PraPemrosesan Data"
      ]
    },
    {
      "cell_type": "code",
      "execution_count": 1,
      "metadata": {
        "colab": {
          "base_uri": "https://localhost:8080/"
        },
        "id": "8a74dn6XykMc",
        "outputId": "5d970c8f-03f0-4fa5-8fd7-365530c670af"
      },
      "outputs": [
        {
          "name": "stderr",
          "output_type": "stream",
          "text": [
            "[nltk_data] Downloading package punkt to\n",
            "[nltk_data]     C:\\Users\\Owner\\AppData\\Roaming\\nltk_data...\n",
            "[nltk_data]   Package punkt is already up-to-date!\n",
            "[nltk_data] Downloading package wordnet to\n",
            "[nltk_data]     C:\\Users\\Owner\\AppData\\Roaming\\nltk_data...\n",
            "[nltk_data]   Package wordnet is already up-to-date!\n"
          ]
        },
        {
          "data": {
            "text/plain": [
              "True"
            ]
          },
          "execution_count": 1,
          "metadata": {},
          "output_type": "execute_result"
        }
      ],
      "source": [
        "import pandas as pd\n",
        "import numpy as np\n",
        "import json\n",
        "import nltk\n",
        "from nltk.stem import WordNetLemmatizer\n",
        "import string\n",
        "import tensorflow as tf\n",
        "import matplotlib.pyplot as plt\n",
        "from tensorflow.keras.preprocessing.text import Tokenizer\n",
        "from tensorflow.keras.preprocessing.sequence import pad_sequences\n",
        "from tensorflow.keras.models import Model\n",
        "from tensorflow.keras.utils import plot_model\n",
        "from tensorflow.keras.layers import Input, Embedding, LSTM\n",
        "from tensorflow.keras.layers import Flatten, Dense, GlobalMaxPool1D\n",
        "from sklearn.preprocessing import LabelEncoder\n",
        "import pickle\n",
        "\n",
        "nltk.download('punkt')\n",
        "nltk.download('wordnet')"
      ]
    },
    {
      "cell_type": "code",
      "execution_count": 2,
      "metadata": {
        "id": "RJkh6Q6PykMk"
      },
      "outputs": [],
      "source": [
        "# Importing the dataset\n",
        "with open('kampus_merdeka.json') as content:\n",
        "  data1 = json.load(content)\n",
        "\n",
        "# Mendapatkan semua data ke dalam list\n",
        "tags = [] # data tag\n",
        "inputs = [] # data input atau pattern\n",
        "responses = {} # data respon\n",
        "words = [] # Data kata\n",
        "classes = [] # Data Kelas atau Tag\n",
        "documents = [] # Data Kalimat Dokumen\n",
        "ignore_words = ['?', '!'] # Mengabaikan tanda spesial karakter\n",
        "# Tambahkan data intents dalam json\n",
        "for intent in data1['intents']:\n",
        "  responses[intent['tag']]=intent['responses']\n",
        "  for lines in intent['patterns']:\n",
        "    inputs.append(lines)\n",
        "    tags.append(intent['tag'])\n",
        "    # digunakan untuk pattern atau teks pertanyaan dalam json\n",
        "    for pattern in intent['patterns']:\n",
        "      w = nltk.word_tokenize(pattern)\n",
        "      words.extend(w)\n",
        "      documents.append((w, intent['tag']))\n",
        "      # tambahkan ke dalam list kelas dalam data\n",
        "      if intent['tag'] not in classes:\n",
        "        classes.append(intent['tag'])\n",
        "\n",
        "# Konversi data json ke dalam dataframe\n",
        "data = pd.DataFrame({\"patterns\":inputs, \"tags\":tags})"
      ]
    },
    {
      "cell_type": "code",
      "execution_count": 3,
      "metadata": {
        "colab": {
          "base_uri": "https://localhost:8080/",
          "height": 423
        },
        "id": "KUqlqgcbykMn",
        "outputId": "f4bc5e2b-65ec-417b-9d86-7fad39ce6103"
      },
      "outputs": [
        {
          "data": {
            "text/html": [
              "<div>\n",
              "<style scoped>\n",
              "    .dataframe tbody tr th:only-of-type {\n",
              "        vertical-align: middle;\n",
              "    }\n",
              "\n",
              "    .dataframe tbody tr th {\n",
              "        vertical-align: top;\n",
              "    }\n",
              "\n",
              "    .dataframe thead th {\n",
              "        text-align: right;\n",
              "    }\n",
              "</style>\n",
              "<table border=\"1\" class=\"dataframe\">\n",
              "  <thead>\n",
              "    <tr style=\"text-align: right;\">\n",
              "      <th></th>\n",
              "      <th>patterns</th>\n",
              "      <th>tags</th>\n",
              "    </tr>\n",
              "  </thead>\n",
              "  <tbody>\n",
              "    <tr>\n",
              "      <th>0</th>\n",
              "      <td>hallo</td>\n",
              "      <td>greeting</td>\n",
              "    </tr>\n",
              "    <tr>\n",
              "      <th>1</th>\n",
              "      <td>hai</td>\n",
              "      <td>greeting</td>\n",
              "    </tr>\n",
              "    <tr>\n",
              "      <th>2</th>\n",
              "      <td>halo</td>\n",
              "      <td>greeting</td>\n",
              "    </tr>\n",
              "    <tr>\n",
              "      <th>3</th>\n",
              "      <td>hei</td>\n",
              "      <td>greeting</td>\n",
              "    </tr>\n",
              "    <tr>\n",
              "      <th>4</th>\n",
              "      <td>hi</td>\n",
              "      <td>greeting</td>\n",
              "    </tr>\n",
              "    <tr>\n",
              "      <th>...</th>\n",
              "      <td>...</td>\n",
              "      <td>...</td>\n",
              "    </tr>\n",
              "    <tr>\n",
              "      <th>93</th>\n",
              "      <td>Apa itu PMMB?</td>\n",
              "      <td>penjelasan_PMMB</td>\n",
              "    </tr>\n",
              "    <tr>\n",
              "      <th>94</th>\n",
              "      <td>Apa saja persyaratan IISMA?</td>\n",
              "      <td>persyaratan_IISMA</td>\n",
              "    </tr>\n",
              "    <tr>\n",
              "      <th>95</th>\n",
              "      <td>Bagaimana periode pelaksanaan dan cara mendaft...</td>\n",
              "      <td>periode_dan_pendaftaran_PMMB</td>\n",
              "    </tr>\n",
              "    <tr>\n",
              "      <th>96</th>\n",
              "      <td>Apa saja manfaat apabila mengikuti PMMB?</td>\n",
              "      <td>manfaat_PMMB</td>\n",
              "    </tr>\n",
              "    <tr>\n",
              "      <th>97</th>\n",
              "      <td>Apa saja universitas yang tergabung dalam prog...</td>\n",
              "      <td>mitra_PMMB</td>\n",
              "    </tr>\n",
              "  </tbody>\n",
              "</table>\n",
              "<p>98 rows × 2 columns</p>\n",
              "</div>"
            ],
            "text/plain": [
              "                                             patterns  \\\n",
              "0                                               hallo   \n",
              "1                                                 hai   \n",
              "2                                                halo   \n",
              "3                                                 hei   \n",
              "4                                                  hi   \n",
              "..                                                ...   \n",
              "93                                      Apa itu PMMB?   \n",
              "94                        Apa saja persyaratan IISMA?   \n",
              "95  Bagaimana periode pelaksanaan dan cara mendaft...   \n",
              "96           Apa saja manfaat apabila mengikuti PMMB?   \n",
              "97  Apa saja universitas yang tergabung dalam prog...   \n",
              "\n",
              "                            tags  \n",
              "0                       greeting  \n",
              "1                       greeting  \n",
              "2                       greeting  \n",
              "3                       greeting  \n",
              "4                       greeting  \n",
              "..                           ...  \n",
              "93               penjelasan_PMMB  \n",
              "94             persyaratan_IISMA  \n",
              "95  periode_dan_pendaftaran_PMMB  \n",
              "96                  manfaat_PMMB  \n",
              "97                    mitra_PMMB  \n",
              "\n",
              "[98 rows x 2 columns]"
            ]
          },
          "execution_count": 3,
          "metadata": {},
          "output_type": "execute_result"
        }
      ],
      "source": [
        "data"
      ]
    },
    {
      "cell_type": "markdown",
      "metadata": {
        "id": "o4SjsjpWykMp"
      },
      "source": [
        "## Remove Punctuaction"
      ]
    },
    {
      "cell_type": "code",
      "execution_count": 4,
      "metadata": {
        "id": "GhOV5HO3ykMr"
      },
      "outputs": [],
      "source": [
        "# Removing Punctuations (Menghilangkan Punktuasi)\n",
        "data['patterns'] = data['patterns'].apply(lambda wrd:[ltrs.lower() for ltrs in wrd if ltrs not in string.punctuation])\n",
        "data['patterns'] = data['patterns'].apply(lambda wrd: ''.join(wrd))"
      ]
    },
    {
      "cell_type": "code",
      "execution_count": 5,
      "metadata": {
        "colab": {
          "base_uri": "https://localhost:8080/",
          "height": 423
        },
        "id": "202-SHjSykMs",
        "outputId": "792902d0-1933-42aa-d717-8b3e36e611f7"
      },
      "outputs": [
        {
          "data": {
            "text/html": [
              "<div>\n",
              "<style scoped>\n",
              "    .dataframe tbody tr th:only-of-type {\n",
              "        vertical-align: middle;\n",
              "    }\n",
              "\n",
              "    .dataframe tbody tr th {\n",
              "        vertical-align: top;\n",
              "    }\n",
              "\n",
              "    .dataframe thead th {\n",
              "        text-align: right;\n",
              "    }\n",
              "</style>\n",
              "<table border=\"1\" class=\"dataframe\">\n",
              "  <thead>\n",
              "    <tr style=\"text-align: right;\">\n",
              "      <th></th>\n",
              "      <th>patterns</th>\n",
              "      <th>tags</th>\n",
              "    </tr>\n",
              "  </thead>\n",
              "  <tbody>\n",
              "    <tr>\n",
              "      <th>0</th>\n",
              "      <td>hallo</td>\n",
              "      <td>greeting</td>\n",
              "    </tr>\n",
              "    <tr>\n",
              "      <th>1</th>\n",
              "      <td>hai</td>\n",
              "      <td>greeting</td>\n",
              "    </tr>\n",
              "    <tr>\n",
              "      <th>2</th>\n",
              "      <td>halo</td>\n",
              "      <td>greeting</td>\n",
              "    </tr>\n",
              "    <tr>\n",
              "      <th>3</th>\n",
              "      <td>hei</td>\n",
              "      <td>greeting</td>\n",
              "    </tr>\n",
              "    <tr>\n",
              "      <th>4</th>\n",
              "      <td>hi</td>\n",
              "      <td>greeting</td>\n",
              "    </tr>\n",
              "    <tr>\n",
              "      <th>...</th>\n",
              "      <td>...</td>\n",
              "      <td>...</td>\n",
              "    </tr>\n",
              "    <tr>\n",
              "      <th>93</th>\n",
              "      <td>apa itu pmmb</td>\n",
              "      <td>penjelasan_PMMB</td>\n",
              "    </tr>\n",
              "    <tr>\n",
              "      <th>94</th>\n",
              "      <td>apa saja persyaratan iisma</td>\n",
              "      <td>persyaratan_IISMA</td>\n",
              "    </tr>\n",
              "    <tr>\n",
              "      <th>95</th>\n",
              "      <td>bagaimana periode pelaksanaan dan cara mendaft...</td>\n",
              "      <td>periode_dan_pendaftaran_PMMB</td>\n",
              "    </tr>\n",
              "    <tr>\n",
              "      <th>96</th>\n",
              "      <td>apa saja manfaat apabila mengikuti pmmb</td>\n",
              "      <td>manfaat_PMMB</td>\n",
              "    </tr>\n",
              "    <tr>\n",
              "      <th>97</th>\n",
              "      <td>apa saja universitas yang tergabung dalam prog...</td>\n",
              "      <td>mitra_PMMB</td>\n",
              "    </tr>\n",
              "  </tbody>\n",
              "</table>\n",
              "<p>98 rows × 2 columns</p>\n",
              "</div>"
            ],
            "text/plain": [
              "                                             patterns  \\\n",
              "0                                               hallo   \n",
              "1                                                 hai   \n",
              "2                                                halo   \n",
              "3                                                 hei   \n",
              "4                                                  hi   \n",
              "..                                                ...   \n",
              "93                                       apa itu pmmb   \n",
              "94                         apa saja persyaratan iisma   \n",
              "95  bagaimana periode pelaksanaan dan cara mendaft...   \n",
              "96            apa saja manfaat apabila mengikuti pmmb   \n",
              "97  apa saja universitas yang tergabung dalam prog...   \n",
              "\n",
              "                            tags  \n",
              "0                       greeting  \n",
              "1                       greeting  \n",
              "2                       greeting  \n",
              "3                       greeting  \n",
              "4                       greeting  \n",
              "..                           ...  \n",
              "93               penjelasan_PMMB  \n",
              "94             persyaratan_IISMA  \n",
              "95  periode_dan_pendaftaran_PMMB  \n",
              "96                  manfaat_PMMB  \n",
              "97                    mitra_PMMB  \n",
              "\n",
              "[98 rows x 2 columns]"
            ]
          },
          "execution_count": 5,
          "metadata": {},
          "output_type": "execute_result"
        }
      ],
      "source": [
        "data"
      ]
    },
    {
      "cell_type": "code",
      "execution_count": 6,
      "metadata": {
        "id": "A2Fcru9jykMv"
      },
      "outputs": [],
      "source": [
        "data.to_csv(\"D:/clean_data_chatbot.csv\")"
      ]
    },
    {
      "cell_type": "markdown",
      "metadata": {
        "id": "cY6uM5qcykMx"
      },
      "source": [
        "## Lemmatization"
      ]
    },
    {
      "cell_type": "code",
      "execution_count": 7,
      "metadata": {
        "colab": {
          "base_uri": "https://localhost:8080/"
        },
        "id": "YEsLemsGykMy",
        "outputId": "5162ee96-b5df-4fdd-ba03-066de6355541"
      },
      "outputs": [
        {
          "name": "stdout",
          "output_type": "stream",
          "text": [
            "116 kata-kata yang di lematisasi :  ['afternoon', 'akan', 'akhir', 'apa', 'apabila', 'apakah', 'bagaimana', 'bai', 'banyak', 'benar', 'berapa', 'berserikat', 'bersertifikat', 'bidang/jurusan', 'bisa', 'bro', 'bumn', 'bye', 'byebye', 'byee', 'cara', 'dadah', 'daftarkan', 'dah', 'dalam', 'dan', 'dapat', 'dari', 'dengan', 'di', 'dilakukan', 'gaji/tunjangan', 'good', 'hai', 'haii', 'hallo', 'halo', 'harus', 'hei', 'hi', 'hy', 'iisma', 'independen', 'itu', 'iya', 'iyaaaa', 'jenjang', 'jumpa', 'jurusan', 'kampus', 'kasih', 'kawan', 'kegiatan', 'kemendikbud', 'kemensos', 'kinerja', 'lowongan', 'luar', 'maaci', 'magang', 'mahasiswa', 'makasi', 'makasih', 'malam', 'manfaat', 'masih', 'mempengaruhi', 'mendaftar', 'mendapatkan', 'menerima', 'mengajar', 'mengikuti', 'merdeka', 'mitra', 'morning', 'muda', 'pagi', 'pejuang', 'pelaksanaan', 'penilaian', 'periode', 'perkuliahan', 'persyaratan', 'pertukaran', 'perusahaan', 'pilihan', 'platform', 'pmmb', 'posisi', 'program', 'prose', 'saja', 'saku', 'sampai', 'saya', 'see', 'selama', 'selamat', 'seleksi', 'sesuai', 'si', 'siang', 'sore', 'studi', 'tergabung', 'terima', 'thank', 'thanks', 'thx', 'tinggal', 'tujuan', 'uang', 'universitas', 'website', 'yang', 'you']\n"
          ]
        }
      ],
      "source": [
        "lemmatizer = WordNetLemmatizer()\n",
        "words = [lemmatizer.lemmatize(w.lower()) for w in words if w not in ignore_words]\n",
        "words = sorted(list(set(words)))\n",
        "\n",
        "print (len(words), \"kata-kata yang di lematisasi : \", words)"
      ]
    },
    {
      "cell_type": "markdown",
      "metadata": {
        "id": "WNTw6U9KykM0"
      },
      "source": [
        "### Menyortir Data Kelas Tags"
      ]
    },
    {
      "cell_type": "code",
      "execution_count": 8,
      "metadata": {
        "colab": {
          "base_uri": "https://localhost:8080/"
        },
        "id": "zsdg35vtykM1",
        "outputId": "95fad4de-6292-43a6-bcd0-74f96cd2b1cd"
      },
      "outputs": [
        {
          "name": "stdout",
          "output_type": "stream",
          "text": [
            "41 classes ['goodbye', 'greeting', 'magang', 'manfaat_IISMA', 'manfaat_PMMB', 'manfaat_kampus_mengajar', 'manfaat_kampus_merdeka', 'manfaat_magang', 'manfaat_pejuang_muda', 'manfaat_pertukaran_mahasiswa', 'manfaat_studi_independen', 'mitra_IISMA', 'mitra_PMMB', 'mitra_magang', 'mitra_studi_independen', 'penjelasan_IISMA', 'penjelasan_PMMB', 'penjelasan_kampus_mengajar', 'penjelasan_kampus_merdeka', 'penjelasan_magang', 'penjelasan_pejuang_muda', 'penjelasan_pertukaran_mahasiswa', 'penjelasan_studi_independen', 'periode_dan_pendaftaran_IISMA', 'periode_dan_pendaftaran_PMMB', 'periode_dan_pendaftaran_kampus_mengajar', 'periode_dan_pendaftaran_magang', 'periode_dan_pendaftaran_pejuang_muda', 'periode_dan_pendaftaran_pertukaran_mahasiswa', 'periode_dan_pendaftaran_studi_independen', 'persyaratan_IISMA', 'persyaratan_kampus_mengajar', 'persyaratan_kampus_merdeka', 'persyaratan_magang', 'persyaratan_pejuang_muda', 'persyaratan_pertukaran_mahasiswa', 'persyaratan_studi_independen', 'program_kampus_merdeka', 'studi_independen', 'terimakasih', 'tujuan_kampus_merdeka']\n"
          ]
        }
      ],
      "source": [
        "# sorting pada data class\n",
        "classes = sorted(list(set(classes)))\n",
        "print (len(classes), \"classes\", classes)"
      ]
    },
    {
      "cell_type": "markdown",
      "metadata": {
        "id": "I3jrMXVVykM2"
      },
      "source": [
        "### Mencari Jumlah Keseluruhan Data Teks"
      ]
    },
    {
      "cell_type": "code",
      "execution_count": 9,
      "metadata": {
        "colab": {
          "base_uri": "https://localhost:8080/"
        },
        "id": "sOFQlDt-ykM3",
        "outputId": "d1946150-97c0-496f-fd9c-313758422849"
      },
      "outputs": [
        {
          "name": "stdout",
          "output_type": "stream",
          "text": [
            "636 documents\n"
          ]
        }
      ],
      "source": [
        "# documents = kombinasi antara data pattern dengan data tag dalam intents json\n",
        "print (len(documents), \"documents\")"
      ]
    },
    {
      "cell_type": "markdown",
      "metadata": {
        "id": "eLF1-xcIykM5"
      },
      "source": [
        "## Tokenisasi"
      ]
    },
    {
      "cell_type": "code",
      "execution_count": 10,
      "metadata": {
        "colab": {
          "base_uri": "https://localhost:8080/"
        },
        "id": "66nNB3ZbykM5",
        "outputId": "f0666168-66ff-4b53-fba7-f87eabb3e347"
      },
      "outputs": [
        {
          "data": {
            "text/plain": [
              "[[57],\n",
              " [58],\n",
              " [59],\n",
              " [60],\n",
              " [61],\n",
              " [62],\n",
              " [63],\n",
              " [64],\n",
              " [65],\n",
              " [66],\n",
              " [67],\n",
              " [68],\n",
              " [69],\n",
              " [70],\n",
              " [71],\n",
              " [72],\n",
              " [73],\n",
              " [74],\n",
              " [41],\n",
              " [75],\n",
              " [76, 41],\n",
              " [77, 78],\n",
              " [79, 80],\n",
              " [81],\n",
              " [82],\n",
              " [83, 42],\n",
              " [84],\n",
              " [85],\n",
              " [86],\n",
              " [87],\n",
              " [88, 42],\n",
              " [43, 44],\n",
              " [89],\n",
              " [43, 44, 45],\n",
              " [1, 15, 2, 3],\n",
              " [90],\n",
              " [91],\n",
              " [92],\n",
              " [1, 93, 2, 3],\n",
              " [1, 4, 16, 7, 2, 3],\n",
              " [1, 17, 7, 2, 3],\n",
              " [1, 4, 5, 2, 3],\n",
              " [5, 2, 3, 94],\n",
              " [5, 2, 3, 95],\n",
              " [5, 2, 3, 96],\n",
              " [8, 11],\n",
              " [6],\n",
              " [2, 26],\n",
              " [22],\n",
              " [27, 18, 3],\n",
              " [28, 29],\n",
              " [30],\n",
              " [1, 15, 8, 11],\n",
              " [1, 4, 17, 8, 11],\n",
              " [12, 23, 19, 9, 24, 13, 5, 8, 11],\n",
              " [1, 4, 16, 25, 7, 8, 11],\n",
              " [1, 4, 46, 20, 33, 34, 8, 11],\n",
              " [18, 47, 35, 9, 48, 1, 14, 20, 31, 7, 5, 8, 11, 10, 2, 3],\n",
              " [21, 36, 8, 37, 38, 39, 49, 14],\n",
              " [36, 8, 37, 38, 39, 35, 32, 2],\n",
              " [97, 19, 5, 8, 11, 10, 2, 3, 21, 14, 98, 31, 7, 99, 100, 32, 2],\n",
              " [21, 8, 11, 10, 2, 3, 50, 51, 52],\n",
              " [1, 15, 6, 10],\n",
              " [1, 4, 17, 6, 10],\n",
              " [12, 23, 19, 9, 24, 13, 5, 6, 10],\n",
              " [1, 4, 16, 25, 7, 6, 10],\n",
              " [1, 4, 46, 20, 33, 34, 6, 10],\n",
              " [1, 15, 2, 26],\n",
              " [1, 4, 17, 2, 26],\n",
              " [18, 47, 35, 9, 48, 1, 14, 20, 31, 7, 5, 6, 101, 2, 3],\n",
              " [21, 18, 20, 7, 5, 6, 10, 2, 3, 102, 103, 104],\n",
              " [12, 53, 105, 6, 2, 3, 106],\n",
              " [21, 36, 107, 9, 108, 6, 37, 38, 39, 49, 14],\n",
              " [12, 53, 54, 109, 6, 14, 110, 54, 111, 14, 32, 2],\n",
              " [112, 45, 40, 6, 20, 31, 14, 113],\n",
              " [21, 14, 31, 13, 40, 6, 32, 55, 114, 6, 10, 2, 3],\n",
              " [21, 6, 50, 51, 52],\n",
              " [21, 115, 13, 40, 6, 32, 55, 116, 2, 3],\n",
              " [12, 23, 19, 9, 24, 13, 5, 2, 26],\n",
              " [1, 4, 16, 25, 7, 2, 26],\n",
              " [1, 15, 22],\n",
              " [1, 4, 17, 22],\n",
              " [12, 23, 19, 9, 24, 13, 5, 22],\n",
              " [1, 4, 16, 25, 7, 22],\n",
              " [1, 4, 56, 20, 33, 34, 5, 22],\n",
              " [1, 15, 27, 18, 3],\n",
              " [1, 4, 17, 27, 18, 3],\n",
              " [12, 23, 19, 9, 24, 13, 5, 27, 18, 3],\n",
              " [1, 4, 16, 25, 7, 27, 18, 3],\n",
              " [1, 15, 28, 29],\n",
              " [1, 4, 17, 28, 29],\n",
              " [12, 23, 19, 9, 24, 13, 5, 28, 29],\n",
              " [1, 4, 16, 25, 7, 28, 29],\n",
              " [1, 15, 30],\n",
              " [1, 4, 17, 22],\n",
              " [12, 23, 19, 9, 24, 13, 5, 30],\n",
              " [1, 4, 16, 25, 7, 30],\n",
              " [1, 4, 56, 20, 33, 34, 5, 30]]"
            ]
          },
          "execution_count": 10,
          "metadata": {},
          "output_type": "execute_result"
        }
      ],
      "source": [
        "# Tokenize the data (Tokenisasi Data)\n",
        "tokenizer = Tokenizer(num_words=2000)\n",
        "tokenizer.fit_on_texts(data['patterns'])\n",
        "train = tokenizer.texts_to_sequences(data['patterns'])\n",
        "train"
      ]
    },
    {
      "cell_type": "markdown",
      "metadata": {
        "id": "CbkPdzP-ykM6"
      },
      "source": [
        "## Padding"
      ]
    },
    {
      "cell_type": "code",
      "execution_count": 11,
      "metadata": {
        "colab": {
          "base_uri": "https://localhost:8080/"
        },
        "id": "TJSJ-MUYykM7",
        "outputId": "e37d4e96-f76a-4a7b-eb93-65cafd9a6fcc"
      },
      "outputs": [
        {
          "name": "stdout",
          "output_type": "stream",
          "text": [
            "[[ 0  0  0 ...  0  0 57]\n",
            " [ 0  0  0 ...  0  0 58]\n",
            " [ 0  0  0 ...  0  0 59]\n",
            " ...\n",
            " [ 0  0  0 ... 13  5 30]\n",
            " [ 0  0  0 ... 25  7 30]\n",
            " [ 0  0  0 ... 34  5 30]]\n"
          ]
        }
      ],
      "source": [
        "# Melakukan proses padding pada data\n",
        "x_train = pad_sequences(train)\n",
        "# Menampilkan hasil padding\n",
        "print(x_train)"
      ]
    },
    {
      "cell_type": "markdown",
      "metadata": {
        "id": "YqmZVix_ykM8"
      },
      "source": [
        "## Encoding Text"
      ]
    },
    {
      "cell_type": "code",
      "execution_count": 12,
      "metadata": {
        "colab": {
          "base_uri": "https://localhost:8080/"
        },
        "id": "cn1TE6FsykM8",
        "outputId": "a974fba4-7b44-47d1-bdd8-fb5e631167c0"
      },
      "outputs": [
        {
          "name": "stdout",
          "output_type": "stream",
          "text": [
            "[ 1  1  1  1  1  1  1  1  1  1  1  1  1  1  1  1  0  0  0  0  0  0  0  0\n",
            "  0  0 39 39 39 39 39 39 39 39 18 18 18 18 40  6 32 37 37 37 37 37 37 37\n",
            " 37 37 37 37 22 36 29 10 14 38 38 38 38 38 19 33 26  7 13 17 31  2  2  2\n",
            "  2  2  2  2  2  2 25  5 15 30 23  3 11 21 35 28  9 20 34 27  8 16 30 24\n",
            "  4 12]\n"
          ]
        }
      ],
      "source": [
        "# Melakukan konversi data label tags dengan encoding\n",
        "le = LabelEncoder()\n",
        "y_train = le.fit_transform(data['tags'])\n",
        "print(y_train)"
      ]
    },
    {
      "cell_type": "markdown",
      "metadata": {
        "id": "BLvFUEmHykM9"
      },
      "source": [
        "## Input Length, Output Length and Vocabulary"
      ]
    },
    {
      "cell_type": "code",
      "execution_count": 13,
      "metadata": {
        "colab": {
          "base_uri": "https://localhost:8080/"
        },
        "id": "yU5iC369ykM-",
        "outputId": "184847b9-040b-434f-ee9b-4c3543e6dba3"
      },
      "outputs": [
        {
          "name": "stdout",
          "output_type": "stream",
          "text": [
            "17\n"
          ]
        }
      ],
      "source": [
        "# Melihat hasil input pada data teks\n",
        "input_shape = x_train.shape[1]\n",
        "print(input_shape)"
      ]
    },
    {
      "cell_type": "code",
      "execution_count": 14,
      "metadata": {
        "colab": {
          "base_uri": "https://localhost:8080/"
        },
        "id": "26jfn_99ykM_",
        "outputId": "c6af2c71-e545-4ff5-e190-a16902b67eb7"
      },
      "outputs": [
        {
          "name": "stdout",
          "output_type": "stream",
          "text": [
            "jumlah kata unik :  116\n",
            "panjang output:  41\n"
          ]
        }
      ],
      "source": [
        "# Melakukan definisi tiap kalimat dan kata pada data teks\n",
        "vocabulary = len(tokenizer.word_index)\n",
        "print(\"jumlah kata unik : \", vocabulary)\n",
        "\n",
        "# Melakukan pemeriksaan pada data output label teks\n",
        "output_length = le.classes_.shape[0]\n",
        "print(\"panjang output: \", output_length)"
      ]
    },
    {
      "cell_type": "markdown",
      "metadata": {
        "id": "ll0-FZ55ykNA"
      },
      "source": [
        "Input length dan output length terlihat sangat jelas hasilnya. Mereka adalah untuk bentuk input dan bentuk output dari data train atau latih yang akan diproses pada algoritma LSTM yang akan dilatih.\n",
        "\n",
        "Vocabulary Size adalah untuk lapisan penyematan untuk membuat representasi vektor unik untuk setiap kata."
      ]
    },
    {
      "cell_type": "markdown",
      "metadata": {
        "id": "9WLhL740ykNA"
      },
      "source": [
        "## Save Model Words & Classes"
      ]
    },
    {
      "cell_type": "code",
      "execution_count": 15,
      "metadata": {
        "id": "V6pjTNzAykNB"
      },
      "outputs": [],
      "source": [
        "# Simpan hasil pemrosesan teks dengan menggunakan pickle\n",
        "pickle.dump(words, open('words.pkl','wb'))\n",
        "pickle.dump(classes, open('classes.pkl','wb'))"
      ]
    },
    {
      "cell_type": "markdown",
      "metadata": {
        "id": "i5MS3qKjykNB"
      },
      "source": [
        "## Save Label Encoder & Tokenizer"
      ]
    },
    {
      "cell_type": "code",
      "execution_count": 16,
      "metadata": {
        "id": "ELhfjai0ykNC"
      },
      "outputs": [],
      "source": [
        "pickle.dump(le, open('le.pkl','wb'))\n",
        "pickle.dump(tokenizer, open('tokenizers.pkl','wb'))"
      ]
    },
    {
      "cell_type": "markdown",
      "metadata": {
        "id": "yrHZf9Rdr4pi"
      },
      "source": [
        "# MODEL"
      ]
    },
    {
      "cell_type": "code",
      "execution_count": 17,
      "metadata": {
        "id": "wTMM7B4h3bV2"
      },
      "outputs": [],
      "source": [
        "# Creating the model (Membuat Modelling)\n",
        "i = Input(shape=(input_shape,)) # Layer Input\n",
        "x = Embedding(vocabulary+1,10)(i) # Layer Embedding\n",
        "x = LSTM(10, return_sequences=True, recurrent_dropout=0.2)(x) # Layer Long Short Term Memory\n",
        "x = Flatten()(x) # Layer Flatten\n",
        "x = Dense(output_length, activation=\"softmax\")(x) # Layer Dense\n",
        "model  = Model(i,x) # Model yang telah disusun dari layer Input sampai layer Output\n",
        "\n",
        "# Compiling the model (Kompilasi Model)\n",
        "model.compile(loss=\"sparse_categorical_crossentropy\", optimizer='adam', metrics=['accuracy'])"
      ]
    },
    {
      "cell_type": "code",
      "execution_count": 18,
      "metadata": {
        "colab": {
          "base_uri": "https://localhost:8080/",
          "height": 533
        },
        "id": "kCI4EmXCyQ5q",
        "outputId": "5a5eab0c-525f-41d1-ddbc-43c7e2dd8402"
      },
      "outputs": [
        {
          "name": "stdout",
          "output_type": "stream",
          "text": [
            "You must install pydot (`pip install pydot`) and install graphviz (see instructions at https://graphviz.gitlab.io/download/) for plot_model to work.\n"
          ]
        }
      ],
      "source": [
        "# Visualization Plot Architecture Model (Visualisasi Plot Arsitektur Model)\n",
        "plot_model(model, to_file='model_plot.png', show_shapes=True, show_layer_names=True)"
      ]
    },
    {
      "cell_type": "code",
      "execution_count": 19,
      "metadata": {
        "colab": {
          "base_uri": "https://localhost:8080/"
        },
        "id": "Tq0qnNhRz6jf",
        "outputId": "a86500df-728a-45e2-d7db-9a0773e8d62b"
      },
      "outputs": [
        {
          "name": "stdout",
          "output_type": "stream",
          "text": [
            "Model: \"model\"\n",
            "_________________________________________________________________\n",
            " Layer (type)                Output Shape              Param #   \n",
            "=================================================================\n",
            " input_1 (InputLayer)        [(None, 17)]              0         \n",
            "                                                                 \n",
            " embedding (Embedding)       (None, 17, 10)            1170      \n",
            "                                                                 \n",
            " lstm (LSTM)                 (None, 17, 10)            840       \n",
            "                                                                 \n",
            " flatten (Flatten)           (None, 170)               0         \n",
            "                                                                 \n",
            " dense (Dense)               (None, 41)                7011      \n",
            "                                                                 \n",
            "=================================================================\n",
            "Total params: 9021 (35.24 KB)\n",
            "Trainable params: 9021 (35.24 KB)\n",
            "Non-trainable params: 0 (0.00 Byte)\n",
            "_________________________________________________________________\n"
          ]
        }
      ],
      "source": [
        "# Menampilkan parameter pada model LSTM\n",
        "model.summary()"
      ]
    },
    {
      "cell_type": "code",
      "execution_count": 20,
      "metadata": {
        "colab": {
          "base_uri": "https://localhost:8080/"
        },
        "id": "C0pc-Drx0ZQt",
        "outputId": "9f6c8149-c179-4889-9d23-5d2fa685ee32"
      },
      "outputs": [
        {
          "name": "stdout",
          "output_type": "stream",
          "text": [
            "Epoch 1/350\n",
            "4/4 [==============================] - 5s 21ms/step - loss: 3.7154 - accuracy: 0.0204\n",
            "Epoch 2/350\n",
            "4/4 [==============================] - 0s 14ms/step - loss: 3.7013 - accuracy: 0.0204\n",
            "Epoch 3/350\n",
            "4/4 [==============================] - 0s 17ms/step - loss: 3.6882 - accuracy: 0.0918\n",
            "Epoch 4/350\n",
            "4/4 [==============================] - 0s 17ms/step - loss: 3.6727 - accuracy: 0.1020\n",
            "Epoch 5/350\n",
            "4/4 [==============================] - 0s 19ms/step - loss: 3.6541 - accuracy: 0.1020\n",
            "Epoch 6/350\n",
            "4/4 [==============================] - 0s 16ms/step - loss: 3.6297 - accuracy: 0.1122\n",
            "Epoch 7/350\n",
            "4/4 [==============================] - 0s 17ms/step - loss: 3.6002 - accuracy: 0.1020\n",
            "Epoch 8/350\n",
            "4/4 [==============================] - 0s 17ms/step - loss: 3.5579 - accuracy: 0.1020\n",
            "Epoch 9/350\n",
            "4/4 [==============================] - 0s 16ms/step - loss: 3.5072 - accuracy: 0.1020\n",
            "Epoch 10/350\n",
            "4/4 [==============================] - 0s 24ms/step - loss: 3.4432 - accuracy: 0.1020\n",
            "Epoch 11/350\n",
            "4/4 [==============================] - 0s 17ms/step - loss: 3.3639 - accuracy: 0.1224\n",
            "Epoch 12/350\n",
            "4/4 [==============================] - 0s 20ms/step - loss: 3.2713 - accuracy: 0.1429\n",
            "Epoch 13/350\n",
            "4/4 [==============================] - 0s 18ms/step - loss: 3.1818 - accuracy: 0.1735\n",
            "Epoch 14/350\n",
            "4/4 [==============================] - 0s 20ms/step - loss: 3.1074 - accuracy: 0.1633\n",
            "Epoch 15/350\n",
            "4/4 [==============================] - 0s 16ms/step - loss: 3.0809 - accuracy: 0.1633\n",
            "Epoch 16/350\n",
            "4/4 [==============================] - 0s 38ms/step - loss: 3.0561 - accuracy: 0.1633\n",
            "Epoch 17/350\n",
            "4/4 [==============================] - 0s 37ms/step - loss: 3.0524 - accuracy: 0.1633\n",
            "Epoch 18/350\n",
            "4/4 [==============================] - 0s 27ms/step - loss: 3.0547 - accuracy: 0.1633\n",
            "Epoch 19/350\n",
            "4/4 [==============================] - 0s 16ms/step - loss: 3.0440 - accuracy: 0.1633\n",
            "Epoch 20/350\n",
            "4/4 [==============================] - 0s 24ms/step - loss: 3.0316 - accuracy: 0.1633\n",
            "Epoch 21/350\n",
            "4/4 [==============================] - 0s 16ms/step - loss: 3.0168 - accuracy: 0.1633\n",
            "Epoch 22/350\n",
            "4/4 [==============================] - 0s 19ms/step - loss: 2.9943 - accuracy: 0.1633\n",
            "Epoch 23/350\n",
            "4/4 [==============================] - 0s 15ms/step - loss: 2.9846 - accuracy: 0.1633\n",
            "Epoch 24/350\n",
            "4/4 [==============================] - 0s 17ms/step - loss: 2.9814 - accuracy: 0.1633\n",
            "Epoch 25/350\n",
            "4/4 [==============================] - 0s 16ms/step - loss: 2.9829 - accuracy: 0.1633\n",
            "Epoch 26/350\n",
            "4/4 [==============================] - 0s 21ms/step - loss: 2.9789 - accuracy: 0.1633\n",
            "Epoch 27/350\n",
            "4/4 [==============================] - 0s 16ms/step - loss: 2.9747 - accuracy: 0.1633\n",
            "Epoch 28/350\n",
            "4/4 [==============================] - 0s 18ms/step - loss: 2.9578 - accuracy: 0.1633\n",
            "Epoch 29/350\n",
            "4/4 [==============================] - 0s 21ms/step - loss: 2.9412 - accuracy: 0.1633\n",
            "Epoch 30/350\n",
            "4/4 [==============================] - 0s 23ms/step - loss: 2.9278 - accuracy: 0.1633\n",
            "Epoch 31/350\n",
            "4/4 [==============================] - 0s 16ms/step - loss: 2.9116 - accuracy: 0.1633\n",
            "Epoch 32/350\n",
            "4/4 [==============================] - 0s 16ms/step - loss: 2.9099 - accuracy: 0.1633\n",
            "Epoch 33/350\n",
            "4/4 [==============================] - 0s 21ms/step - loss: 2.8996 - accuracy: 0.1633\n",
            "Epoch 34/350\n",
            "4/4 [==============================] - 0s 19ms/step - loss: 2.8920 - accuracy: 0.1633\n",
            "Epoch 35/350\n",
            "4/4 [==============================] - 0s 30ms/step - loss: 2.8813 - accuracy: 0.1633\n",
            "Epoch 36/350\n",
            "4/4 [==============================] - 0s 17ms/step - loss: 2.8579 - accuracy: 0.1633\n",
            "Epoch 37/350\n",
            "4/4 [==============================] - 0s 25ms/step - loss: 2.8527 - accuracy: 0.1633\n",
            "Epoch 38/350\n",
            "4/4 [==============================] - 0s 15ms/step - loss: 2.8372 - accuracy: 0.1633\n",
            "Epoch 39/350\n",
            "4/4 [==============================] - 0s 24ms/step - loss: 2.8202 - accuracy: 0.1633\n",
            "Epoch 40/350\n",
            "4/4 [==============================] - 0s 15ms/step - loss: 2.8031 - accuracy: 0.1633\n",
            "Epoch 41/350\n",
            "4/4 [==============================] - 0s 14ms/step - loss: 2.7887 - accuracy: 0.1633\n",
            "Epoch 42/350\n",
            "4/4 [==============================] - 0s 23ms/step - loss: 2.7818 - accuracy: 0.1633\n",
            "Epoch 43/350\n",
            "4/4 [==============================] - 0s 24ms/step - loss: 2.7692 - accuracy: 0.1633\n",
            "Epoch 44/350\n",
            "4/4 [==============================] - 0s 29ms/step - loss: 2.7806 - accuracy: 0.1633\n",
            "Epoch 45/350\n",
            "4/4 [==============================] - 0s 15ms/step - loss: 2.7573 - accuracy: 0.1633\n",
            "Epoch 46/350\n",
            "4/4 [==============================] - 0s 20ms/step - loss: 2.7376 - accuracy: 0.1633\n",
            "Epoch 47/350\n",
            "4/4 [==============================] - 0s 26ms/step - loss: 2.7111 - accuracy: 0.1633\n",
            "Epoch 48/350\n",
            "4/4 [==============================] - 0s 17ms/step - loss: 2.7015 - accuracy: 0.1633\n",
            "Epoch 49/350\n",
            "4/4 [==============================] - 0s 20ms/step - loss: 2.6889 - accuracy: 0.1837\n",
            "Epoch 50/350\n",
            "4/4 [==============================] - 0s 19ms/step - loss: 2.6773 - accuracy: 0.1735\n",
            "Epoch 51/350\n",
            "4/4 [==============================] - 0s 33ms/step - loss: 2.6630 - accuracy: 0.2041\n",
            "Epoch 52/350\n",
            "4/4 [==============================] - 0s 25ms/step - loss: 2.6506 - accuracy: 0.2041\n",
            "Epoch 53/350\n",
            "4/4 [==============================] - 0s 17ms/step - loss: 2.6360 - accuracy: 0.2143\n",
            "Epoch 54/350\n",
            "4/4 [==============================] - 0s 17ms/step - loss: 2.6258 - accuracy: 0.2041\n",
            "Epoch 55/350\n",
            "4/4 [==============================] - 0s 17ms/step - loss: 2.6041 - accuracy: 0.2041\n",
            "Epoch 56/350\n",
            "4/4 [==============================] - 0s 18ms/step - loss: 2.6011 - accuracy: 0.2245\n",
            "Epoch 57/350\n",
            "4/4 [==============================] - 0s 30ms/step - loss: 2.5872 - accuracy: 0.1939\n",
            "Epoch 58/350\n",
            "4/4 [==============================] - 0s 17ms/step - loss: 2.5660 - accuracy: 0.2245\n",
            "Epoch 59/350\n",
            "4/4 [==============================] - 0s 32ms/step - loss: 2.5537 - accuracy: 0.2143\n",
            "Epoch 60/350\n",
            "4/4 [==============================] - 0s 17ms/step - loss: 2.5519 - accuracy: 0.2143\n",
            "Epoch 61/350\n",
            "4/4 [==============================] - 0s 17ms/step - loss: 2.5222 - accuracy: 0.2449\n",
            "Epoch 62/350\n",
            "4/4 [==============================] - 0s 27ms/step - loss: 2.5029 - accuracy: 0.2449\n",
            "Epoch 63/350\n",
            "4/4 [==============================] - 0s 24ms/step - loss: 2.4813 - accuracy: 0.2755\n",
            "Epoch 64/350\n",
            "4/4 [==============================] - 0s 18ms/step - loss: 2.4691 - accuracy: 0.2653\n",
            "Epoch 65/350\n",
            "4/4 [==============================] - 0s 22ms/step - loss: 2.4599 - accuracy: 0.2755\n",
            "Epoch 66/350\n",
            "4/4 [==============================] - 0s 21ms/step - loss: 2.4435 - accuracy: 0.2755\n",
            "Epoch 67/350\n",
            "4/4 [==============================] - 0s 20ms/step - loss: 2.4276 - accuracy: 0.2653\n",
            "Epoch 68/350\n",
            "4/4 [==============================] - 0s 13ms/step - loss: 2.4139 - accuracy: 0.2653\n",
            "Epoch 69/350\n",
            "4/4 [==============================] - 0s 17ms/step - loss: 2.4071 - accuracy: 0.2959\n",
            "Epoch 70/350\n",
            "4/4 [==============================] - 0s 17ms/step - loss: 2.3936 - accuracy: 0.2653\n",
            "Epoch 71/350\n",
            "4/4 [==============================] - 0s 20ms/step - loss: 2.3732 - accuracy: 0.2857\n",
            "Epoch 72/350\n",
            "4/4 [==============================] - 0s 20ms/step - loss: 2.3563 - accuracy: 0.3265\n",
            "Epoch 73/350\n",
            "4/4 [==============================] - 0s 17ms/step - loss: 2.3392 - accuracy: 0.3265\n",
            "Epoch 74/350\n",
            "4/4 [==============================] - 0s 19ms/step - loss: 2.3109 - accuracy: 0.3163\n",
            "Epoch 75/350\n",
            "4/4 [==============================] - 0s 22ms/step - loss: 2.2833 - accuracy: 0.3163\n",
            "Epoch 76/350\n",
            "4/4 [==============================] - 0s 18ms/step - loss: 2.2682 - accuracy: 0.3163\n",
            "Epoch 77/350\n",
            "4/4 [==============================] - 0s 20ms/step - loss: 2.2542 - accuracy: 0.3163\n",
            "Epoch 78/350\n",
            "4/4 [==============================] - 0s 16ms/step - loss: 2.2328 - accuracy: 0.2959\n",
            "Epoch 79/350\n",
            "4/4 [==============================] - 0s 16ms/step - loss: 2.2016 - accuracy: 0.3061\n",
            "Epoch 80/350\n",
            "4/4 [==============================] - 0s 19ms/step - loss: 2.1874 - accuracy: 0.3265\n",
            "Epoch 81/350\n",
            "4/4 [==============================] - 0s 20ms/step - loss: 2.1772 - accuracy: 0.3265\n",
            "Epoch 82/350\n",
            "4/4 [==============================] - 0s 17ms/step - loss: 2.1543 - accuracy: 0.3265\n",
            "Epoch 83/350\n",
            "4/4 [==============================] - 0s 20ms/step - loss: 2.1269 - accuracy: 0.3469\n",
            "Epoch 84/350\n",
            "4/4 [==============================] - 0s 29ms/step - loss: 2.1258 - accuracy: 0.3265\n",
            "Epoch 85/350\n",
            "4/4 [==============================] - 0s 32ms/step - loss: 2.0970 - accuracy: 0.3469\n",
            "Epoch 86/350\n",
            "4/4 [==============================] - 0s 45ms/step - loss: 2.0837 - accuracy: 0.3878\n",
            "Epoch 87/350\n",
            "4/4 [==============================] - 0s 17ms/step - loss: 2.0629 - accuracy: 0.3571\n",
            "Epoch 88/350\n",
            "4/4 [==============================] - 0s 15ms/step - loss: 2.0417 - accuracy: 0.3571\n",
            "Epoch 89/350\n",
            "4/4 [==============================] - 0s 17ms/step - loss: 2.0304 - accuracy: 0.3571\n",
            "Epoch 90/350\n",
            "4/4 [==============================] - 0s 16ms/step - loss: 1.9985 - accuracy: 0.3367\n",
            "Epoch 91/350\n",
            "4/4 [==============================] - 0s 24ms/step - loss: 1.9831 - accuracy: 0.3469\n",
            "Epoch 92/350\n",
            "4/4 [==============================] - 0s 33ms/step - loss: 1.9689 - accuracy: 0.3571\n",
            "Epoch 93/350\n",
            "4/4 [==============================] - 0s 49ms/step - loss: 1.9591 - accuracy: 0.3571\n",
            "Epoch 94/350\n",
            "4/4 [==============================] - 0s 17ms/step - loss: 1.9343 - accuracy: 0.3571\n",
            "Epoch 95/350\n",
            "4/4 [==============================] - 0s 17ms/step - loss: 1.9188 - accuracy: 0.3673\n",
            "Epoch 96/350\n",
            "4/4 [==============================] - 0s 21ms/step - loss: 1.9006 - accuracy: 0.3469\n",
            "Epoch 97/350\n",
            "4/4 [==============================] - 0s 28ms/step - loss: 1.8881 - accuracy: 0.3878\n",
            "Epoch 98/350\n",
            "4/4 [==============================] - 0s 31ms/step - loss: 1.8802 - accuracy: 0.4592\n",
            "Epoch 99/350\n",
            "4/4 [==============================] - 0s 38ms/step - loss: 1.8672 - accuracy: 0.4490\n",
            "Epoch 100/350\n",
            "4/4 [==============================] - 0s 25ms/step - loss: 1.8516 - accuracy: 0.4592\n",
            "Epoch 101/350\n",
            "4/4 [==============================] - 0s 22ms/step - loss: 1.8414 - accuracy: 0.4490\n",
            "Epoch 102/350\n",
            "4/4 [==============================] - 0s 19ms/step - loss: 1.8236 - accuracy: 0.4694\n",
            "Epoch 103/350\n",
            "4/4 [==============================] - 0s 21ms/step - loss: 1.8028 - accuracy: 0.4388\n",
            "Epoch 104/350\n",
            "4/4 [==============================] - 0s 20ms/step - loss: 1.7931 - accuracy: 0.4388\n",
            "Epoch 105/350\n",
            "4/4 [==============================] - 0s 20ms/step - loss: 1.7703 - accuracy: 0.4082\n",
            "Epoch 106/350\n",
            "4/4 [==============================] - 0s 23ms/step - loss: 1.7789 - accuracy: 0.4082\n",
            "Epoch 107/350\n",
            "4/4 [==============================] - 0s 36ms/step - loss: 1.7699 - accuracy: 0.3980\n",
            "Epoch 108/350\n",
            "4/4 [==============================] - 0s 21ms/step - loss: 1.7674 - accuracy: 0.3980\n",
            "Epoch 109/350\n",
            "4/4 [==============================] - 0s 19ms/step - loss: 1.7559 - accuracy: 0.4082\n",
            "Epoch 110/350\n",
            "4/4 [==============================] - 0s 21ms/step - loss: 1.7369 - accuracy: 0.4592\n",
            "Epoch 111/350\n",
            "4/4 [==============================] - 0s 21ms/step - loss: 1.7200 - accuracy: 0.4490\n",
            "Epoch 112/350\n",
            "4/4 [==============================] - 0s 27ms/step - loss: 1.7185 - accuracy: 0.3980\n",
            "Epoch 113/350\n",
            "4/4 [==============================] - 0s 30ms/step - loss: 1.7028 - accuracy: 0.4082\n",
            "Epoch 114/350\n",
            "4/4 [==============================] - 0s 24ms/step - loss: 1.6699 - accuracy: 0.4490\n",
            "Epoch 115/350\n",
            "4/4 [==============================] - 0s 23ms/step - loss: 1.6801 - accuracy: 0.5000\n",
            "Epoch 116/350\n",
            "4/4 [==============================] - 0s 16ms/step - loss: 1.6903 - accuracy: 0.5204\n",
            "Epoch 117/350\n",
            "4/4 [==============================] - 0s 20ms/step - loss: 1.6786 - accuracy: 0.4694\n",
            "Epoch 118/350\n",
            "4/4 [==============================] - 0s 25ms/step - loss: 1.6513 - accuracy: 0.4796\n",
            "Epoch 119/350\n",
            "4/4 [==============================] - 0s 20ms/step - loss: 1.6576 - accuracy: 0.5102\n",
            "Epoch 120/350\n",
            "4/4 [==============================] - 0s 28ms/step - loss: 1.6479 - accuracy: 0.5102\n",
            "Epoch 121/350\n",
            "4/4 [==============================] - 0s 17ms/step - loss: 1.6509 - accuracy: 0.4388\n",
            "Epoch 122/350\n",
            "4/4 [==============================] - 0s 19ms/step - loss: 1.6413 - accuracy: 0.4694\n",
            "Epoch 123/350\n",
            "4/4 [==============================] - 0s 23ms/step - loss: 1.6033 - accuracy: 0.5102\n",
            "Epoch 124/350\n",
            "4/4 [==============================] - 0s 16ms/step - loss: 1.6162 - accuracy: 0.4592\n",
            "Epoch 125/350\n",
            "4/4 [==============================] - 0s 20ms/step - loss: 1.5992 - accuracy: 0.4694\n",
            "Epoch 126/350\n",
            "4/4 [==============================] - 0s 20ms/step - loss: 1.5891 - accuracy: 0.4694\n",
            "Epoch 127/350\n",
            "4/4 [==============================] - 0s 17ms/step - loss: 1.5732 - accuracy: 0.4796\n",
            "Epoch 128/350\n",
            "4/4 [==============================] - 0s 17ms/step - loss: 1.5695 - accuracy: 0.5102\n",
            "Epoch 129/350\n",
            "4/4 [==============================] - 0s 29ms/step - loss: 1.5654 - accuracy: 0.4796\n",
            "Epoch 130/350\n",
            "4/4 [==============================] - 0s 18ms/step - loss: 1.5520 - accuracy: 0.4898\n",
            "Epoch 131/350\n",
            "4/4 [==============================] - 0s 21ms/step - loss: 1.5134 - accuracy: 0.5204\n",
            "Epoch 132/350\n",
            "4/4 [==============================] - 0s 17ms/step - loss: 1.5330 - accuracy: 0.5612\n",
            "Epoch 133/350\n",
            "4/4 [==============================] - 0s 16ms/step - loss: 1.5173 - accuracy: 0.5816\n",
            "Epoch 134/350\n",
            "4/4 [==============================] - 0s 16ms/step - loss: 1.4961 - accuracy: 0.5714\n",
            "Epoch 135/350\n",
            "4/4 [==============================] - 0s 18ms/step - loss: 1.4942 - accuracy: 0.5816\n",
            "Epoch 136/350\n",
            "4/4 [==============================] - 0s 16ms/step - loss: 1.5112 - accuracy: 0.5204\n",
            "Epoch 137/350\n",
            "4/4 [==============================] - 0s 22ms/step - loss: 1.4925 - accuracy: 0.5306\n",
            "Epoch 138/350\n",
            "4/4 [==============================] - 0s 16ms/step - loss: 1.4804 - accuracy: 0.5714\n",
            "Epoch 139/350\n",
            "4/4 [==============================] - 0s 17ms/step - loss: 1.4700 - accuracy: 0.5816\n",
            "Epoch 140/350\n",
            "4/4 [==============================] - 0s 26ms/step - loss: 1.4622 - accuracy: 0.6122\n",
            "Epoch 141/350\n",
            "4/4 [==============================] - 0s 32ms/step - loss: 1.4636 - accuracy: 0.6122\n",
            "Epoch 142/350\n",
            "4/4 [==============================] - 0s 21ms/step - loss: 1.4363 - accuracy: 0.5918\n",
            "Epoch 143/350\n",
            "4/4 [==============================] - 0s 25ms/step - loss: 1.4421 - accuracy: 0.5918\n",
            "Epoch 144/350\n",
            "4/4 [==============================] - 0s 15ms/step - loss: 1.4171 - accuracy: 0.6429\n",
            "Epoch 145/350\n",
            "4/4 [==============================] - 0s 20ms/step - loss: 1.4218 - accuracy: 0.5918\n",
            "Epoch 146/350\n",
            "4/4 [==============================] - 0s 19ms/step - loss: 1.4210 - accuracy: 0.5918\n",
            "Epoch 147/350\n",
            "4/4 [==============================] - 0s 15ms/step - loss: 1.3954 - accuracy: 0.5918\n",
            "Epoch 148/350\n",
            "4/4 [==============================] - 0s 17ms/step - loss: 1.3944 - accuracy: 0.6429\n",
            "Epoch 149/350\n",
            "4/4 [==============================] - 0s 18ms/step - loss: 1.3828 - accuracy: 0.6122\n",
            "Epoch 150/350\n",
            "4/4 [==============================] - 0s 26ms/step - loss: 1.3692 - accuracy: 0.6122\n",
            "Epoch 151/350\n",
            "4/4 [==============================] - 0s 19ms/step - loss: 1.3410 - accuracy: 0.6429\n",
            "Epoch 152/350\n",
            "4/4 [==============================] - 0s 16ms/step - loss: 1.3583 - accuracy: 0.6837\n",
            "Epoch 153/350\n",
            "4/4 [==============================] - 0s 27ms/step - loss: 1.3598 - accuracy: 0.6939\n",
            "Epoch 154/350\n",
            "4/4 [==============================] - 0s 27ms/step - loss: 1.3432 - accuracy: 0.6939\n",
            "Epoch 155/350\n",
            "4/4 [==============================] - 0s 21ms/step - loss: 1.3460 - accuracy: 0.6939\n",
            "Epoch 156/350\n",
            "4/4 [==============================] - 0s 36ms/step - loss: 1.3510 - accuracy: 0.6633\n",
            "Epoch 157/350\n",
            "4/4 [==============================] - 0s 33ms/step - loss: 1.3380 - accuracy: 0.6735\n",
            "Epoch 158/350\n",
            "4/4 [==============================] - 0s 18ms/step - loss: 1.3044 - accuracy: 0.6735\n",
            "Epoch 159/350\n",
            "4/4 [==============================] - 0s 23ms/step - loss: 1.3186 - accuracy: 0.6531\n",
            "Epoch 160/350\n",
            "4/4 [==============================] - 0s 16ms/step - loss: 1.3114 - accuracy: 0.6224\n",
            "Epoch 161/350\n",
            "4/4 [==============================] - 0s 17ms/step - loss: 1.2952 - accuracy: 0.6531\n",
            "Epoch 162/350\n",
            "4/4 [==============================] - 0s 17ms/step - loss: 1.2741 - accuracy: 0.6531\n",
            "Epoch 163/350\n",
            "4/4 [==============================] - 0s 19ms/step - loss: 1.2573 - accuracy: 0.6939\n",
            "Epoch 164/350\n",
            "4/4 [==============================] - 0s 18ms/step - loss: 1.2486 - accuracy: 0.6837\n",
            "Epoch 165/350\n",
            "4/4 [==============================] - 0s 24ms/step - loss: 1.2625 - accuracy: 0.6735\n",
            "Epoch 166/350\n",
            "4/4 [==============================] - 0s 27ms/step - loss: 1.2467 - accuracy: 0.6633\n",
            "Epoch 167/350\n",
            "4/4 [==============================] - 0s 18ms/step - loss: 1.2318 - accuracy: 0.6633\n",
            "Epoch 168/350\n",
            "4/4 [==============================] - 0s 16ms/step - loss: 1.2346 - accuracy: 0.6633\n",
            "Epoch 169/350\n",
            "4/4 [==============================] - 0s 26ms/step - loss: 1.2274 - accuracy: 0.6735\n",
            "Epoch 170/350\n",
            "4/4 [==============================] - 0s 35ms/step - loss: 1.2248 - accuracy: 0.6837\n",
            "Epoch 171/350\n",
            "4/4 [==============================] - 0s 48ms/step - loss: 1.2343 - accuracy: 0.7245\n",
            "Epoch 172/350\n",
            "4/4 [==============================] - 0s 22ms/step - loss: 1.2113 - accuracy: 0.7041\n",
            "Epoch 173/350\n",
            "4/4 [==============================] - 0s 19ms/step - loss: 1.1970 - accuracy: 0.6633\n",
            "Epoch 174/350\n",
            "4/4 [==============================] - 0s 16ms/step - loss: 1.1969 - accuracy: 0.6939\n",
            "Epoch 175/350\n",
            "4/4 [==============================] - 0s 20ms/step - loss: 1.1885 - accuracy: 0.7041\n",
            "Epoch 176/350\n",
            "4/4 [==============================] - 0s 25ms/step - loss: 1.1724 - accuracy: 0.6735\n",
            "Epoch 177/350\n",
            "4/4 [==============================] - 0s 21ms/step - loss: 1.1642 - accuracy: 0.6633\n",
            "Epoch 178/350\n",
            "4/4 [==============================] - 0s 17ms/step - loss: 1.1753 - accuracy: 0.6327\n",
            "Epoch 179/350\n",
            "4/4 [==============================] - 0s 23ms/step - loss: 1.1642 - accuracy: 0.6429\n",
            "Epoch 180/350\n",
            "4/4 [==============================] - 0s 23ms/step - loss: 1.1467 - accuracy: 0.6531\n",
            "Epoch 181/350\n",
            "4/4 [==============================] - 0s 20ms/step - loss: 1.1429 - accuracy: 0.6939\n",
            "Epoch 182/350\n",
            "4/4 [==============================] - 0s 27ms/step - loss: 1.1427 - accuracy: 0.6837\n",
            "Epoch 183/350\n",
            "4/4 [==============================] - 0s 22ms/step - loss: 1.1337 - accuracy: 0.6531\n",
            "Epoch 184/350\n",
            "4/4 [==============================] - 0s 19ms/step - loss: 1.1237 - accuracy: 0.6633\n",
            "Epoch 185/350\n",
            "4/4 [==============================] - 0s 24ms/step - loss: 1.1131 - accuracy: 0.6633\n",
            "Epoch 186/350\n",
            "4/4 [==============================] - 0s 29ms/step - loss: 1.1158 - accuracy: 0.6735\n",
            "Epoch 187/350\n",
            "4/4 [==============================] - 0s 21ms/step - loss: 1.1014 - accuracy: 0.6735\n",
            "Epoch 188/350\n",
            "4/4 [==============================] - 0s 32ms/step - loss: 1.0858 - accuracy: 0.7041\n",
            "Epoch 189/350\n",
            "4/4 [==============================] - 0s 19ms/step - loss: 1.0812 - accuracy: 0.7143\n",
            "Epoch 190/350\n",
            "4/4 [==============================] - 0s 24ms/step - loss: 1.0829 - accuracy: 0.7245\n",
            "Epoch 191/350\n",
            "4/4 [==============================] - 0s 26ms/step - loss: 1.0587 - accuracy: 0.7755\n",
            "Epoch 192/350\n",
            "4/4 [==============================] - 0s 22ms/step - loss: 1.0709 - accuracy: 0.7653\n",
            "Epoch 193/350\n",
            "4/4 [==============================] - 0s 26ms/step - loss: 1.0608 - accuracy: 0.7755\n",
            "Epoch 194/350\n",
            "4/4 [==============================] - 0s 23ms/step - loss: 1.0459 - accuracy: 0.7653\n",
            "Epoch 195/350\n",
            "4/4 [==============================] - 0s 23ms/step - loss: 1.0346 - accuracy: 0.7551\n",
            "Epoch 196/350\n",
            "4/4 [==============================] - 0s 22ms/step - loss: 1.0313 - accuracy: 0.7449\n",
            "Epoch 197/350\n",
            "4/4 [==============================] - 0s 17ms/step - loss: 1.0167 - accuracy: 0.7755\n",
            "Epoch 198/350\n",
            "4/4 [==============================] - 0s 26ms/step - loss: 1.0348 - accuracy: 0.7653\n",
            "Epoch 199/350\n",
            "4/4 [==============================] - 0s 24ms/step - loss: 1.0168 - accuracy: 0.7347\n",
            "Epoch 200/350\n",
            "4/4 [==============================] - 0s 19ms/step - loss: 1.0156 - accuracy: 0.7755\n",
            "Epoch 201/350\n",
            "4/4 [==============================] - 0s 45ms/step - loss: 1.0043 - accuracy: 0.7347\n",
            "Epoch 202/350\n",
            "4/4 [==============================] - 0s 25ms/step - loss: 0.9975 - accuracy: 0.7653\n",
            "Epoch 203/350\n",
            "4/4 [==============================] - 0s 31ms/step - loss: 0.9934 - accuracy: 0.7959\n",
            "Epoch 204/350\n",
            "4/4 [==============================] - 0s 16ms/step - loss: 0.9960 - accuracy: 0.8061\n",
            "Epoch 205/350\n",
            "4/4 [==============================] - 0s 22ms/step - loss: 0.9895 - accuracy: 0.7449\n",
            "Epoch 206/350\n",
            "4/4 [==============================] - 0s 21ms/step - loss: 0.9751 - accuracy: 0.7755\n",
            "Epoch 207/350\n",
            "4/4 [==============================] - 0s 23ms/step - loss: 1.0014 - accuracy: 0.7245\n",
            "Epoch 208/350\n",
            "4/4 [==============================] - 0s 17ms/step - loss: 0.9960 - accuracy: 0.6735\n",
            "Epoch 209/350\n",
            "4/4 [==============================] - 0s 17ms/step - loss: 0.9718 - accuracy: 0.7857\n",
            "Epoch 210/350\n",
            "4/4 [==============================] - 0s 25ms/step - loss: 0.9516 - accuracy: 0.7857\n",
            "Epoch 211/350\n",
            "4/4 [==============================] - 0s 27ms/step - loss: 0.9500 - accuracy: 0.7551\n",
            "Epoch 212/350\n",
            "4/4 [==============================] - 0s 27ms/step - loss: 0.9501 - accuracy: 0.7755\n",
            "Epoch 213/350\n",
            "4/4 [==============================] - 0s 23ms/step - loss: 0.9626 - accuracy: 0.7551\n",
            "Epoch 214/350\n",
            "4/4 [==============================] - 0s 22ms/step - loss: 0.9420 - accuracy: 0.7755\n",
            "Epoch 215/350\n",
            "4/4 [==============================] - 0s 22ms/step - loss: 0.9423 - accuracy: 0.7449\n",
            "Epoch 216/350\n",
            "4/4 [==============================] - 0s 37ms/step - loss: 0.9338 - accuracy: 0.7449\n",
            "Epoch 217/350\n",
            "4/4 [==============================] - 0s 36ms/step - loss: 0.9414 - accuracy: 0.7653\n",
            "Epoch 218/350\n",
            "4/4 [==============================] - 0s 24ms/step - loss: 0.9186 - accuracy: 0.7449\n",
            "Epoch 219/350\n",
            "4/4 [==============================] - 0s 39ms/step - loss: 0.9150 - accuracy: 0.7653\n",
            "Epoch 220/350\n",
            "4/4 [==============================] - 0s 53ms/step - loss: 0.9071 - accuracy: 0.7551\n",
            "Epoch 221/350\n",
            "4/4 [==============================] - 0s 33ms/step - loss: 0.8953 - accuracy: 0.7551\n",
            "Epoch 222/350\n",
            "4/4 [==============================] - 0s 41ms/step - loss: 0.8978 - accuracy: 0.7449\n",
            "Epoch 223/350\n",
            "4/4 [==============================] - 0s 19ms/step - loss: 0.8972 - accuracy: 0.7653\n",
            "Epoch 224/350\n",
            "4/4 [==============================] - 0s 20ms/step - loss: 0.8780 - accuracy: 0.7857\n",
            "Epoch 225/350\n",
            "4/4 [==============================] - 0s 21ms/step - loss: 0.8686 - accuracy: 0.7653\n",
            "Epoch 226/350\n",
            "4/4 [==============================] - 0s 54ms/step - loss: 0.8638 - accuracy: 0.7755\n",
            "Epoch 227/350\n",
            "4/4 [==============================] - 0s 26ms/step - loss: 0.8681 - accuracy: 0.7653\n",
            "Epoch 228/350\n",
            "4/4 [==============================] - 0s 17ms/step - loss: 0.8717 - accuracy: 0.7653\n",
            "Epoch 229/350\n",
            "4/4 [==============================] - 0s 29ms/step - loss: 0.8441 - accuracy: 0.7755\n",
            "Epoch 230/350\n",
            "4/4 [==============================] - 0s 21ms/step - loss: 0.8515 - accuracy: 0.7755\n",
            "Epoch 231/350\n",
            "4/4 [==============================] - 0s 16ms/step - loss: 0.8431 - accuracy: 0.7959\n",
            "Epoch 232/350\n",
            "4/4 [==============================] - 0s 19ms/step - loss: 0.8342 - accuracy: 0.7857\n",
            "Epoch 233/350\n",
            "4/4 [==============================] - 0s 19ms/step - loss: 0.8385 - accuracy: 0.7755\n",
            "Epoch 234/350\n",
            "4/4 [==============================] - 0s 16ms/step - loss: 0.8301 - accuracy: 0.7755\n",
            "Epoch 235/350\n",
            "4/4 [==============================] - 0s 17ms/step - loss: 0.8306 - accuracy: 0.7959\n",
            "Epoch 236/350\n",
            "4/4 [==============================] - 0s 25ms/step - loss: 0.8253 - accuracy: 0.7857\n",
            "Epoch 237/350\n",
            "4/4 [==============================] - 0s 18ms/step - loss: 0.8266 - accuracy: 0.7653\n",
            "Epoch 238/350\n",
            "4/4 [==============================] - 0s 17ms/step - loss: 0.8140 - accuracy: 0.7857\n",
            "Epoch 239/350\n",
            "4/4 [==============================] - 0s 20ms/step - loss: 0.8113 - accuracy: 0.7653\n",
            "Epoch 240/350\n",
            "4/4 [==============================] - 0s 30ms/step - loss: 0.8145 - accuracy: 0.7959\n",
            "Epoch 241/350\n",
            "4/4 [==============================] - 0s 20ms/step - loss: 0.8015 - accuracy: 0.7857\n",
            "Epoch 242/350\n",
            "4/4 [==============================] - 0s 17ms/step - loss: 0.8028 - accuracy: 0.7755\n",
            "Epoch 243/350\n",
            "4/4 [==============================] - 0s 19ms/step - loss: 0.7967 - accuracy: 0.7959\n",
            "Epoch 244/350\n",
            "4/4 [==============================] - 0s 18ms/step - loss: 0.7955 - accuracy: 0.7857\n",
            "Epoch 245/350\n",
            "4/4 [==============================] - 0s 17ms/step - loss: 0.7837 - accuracy: 0.7653\n",
            "Epoch 246/350\n",
            "4/4 [==============================] - 0s 18ms/step - loss: 0.7768 - accuracy: 0.7857\n",
            "Epoch 247/350\n",
            "4/4 [==============================] - 0s 18ms/step - loss: 0.7649 - accuracy: 0.7959\n",
            "Epoch 248/350\n",
            "4/4 [==============================] - 0s 17ms/step - loss: 0.7662 - accuracy: 0.8061\n",
            "Epoch 249/350\n",
            "4/4 [==============================] - 0s 19ms/step - loss: 0.7647 - accuracy: 0.8061\n",
            "Epoch 250/350\n",
            "4/4 [==============================] - 0s 24ms/step - loss: 0.7588 - accuracy: 0.7959\n",
            "Epoch 251/350\n",
            "4/4 [==============================] - 0s 18ms/step - loss: 0.7554 - accuracy: 0.8061\n",
            "Epoch 252/350\n",
            "4/4 [==============================] - 0s 20ms/step - loss: 0.7588 - accuracy: 0.8061\n",
            "Epoch 253/350\n",
            "4/4 [==============================] - 0s 22ms/step - loss: 0.7530 - accuracy: 0.8061\n",
            "Epoch 254/350\n",
            "4/4 [==============================] - 0s 20ms/step - loss: 0.7449 - accuracy: 0.8265\n",
            "Epoch 255/350\n",
            "4/4 [==============================] - 0s 21ms/step - loss: 0.7370 - accuracy: 0.8061\n",
            "Epoch 256/350\n",
            "4/4 [==============================] - 0s 26ms/step - loss: 0.7505 - accuracy: 0.7959\n",
            "Epoch 257/350\n",
            "4/4 [==============================] - 0s 21ms/step - loss: 0.7349 - accuracy: 0.8367\n",
            "Epoch 258/350\n",
            "4/4 [==============================] - 0s 17ms/step - loss: 0.7307 - accuracy: 0.7959\n",
            "Epoch 259/350\n",
            "4/4 [==============================] - 0s 28ms/step - loss: 0.7249 - accuracy: 0.8367\n",
            "Epoch 260/350\n",
            "4/4 [==============================] - 0s 17ms/step - loss: 0.7224 - accuracy: 0.8265\n",
            "Epoch 261/350\n",
            "4/4 [==============================] - 0s 21ms/step - loss: 0.7314 - accuracy: 0.8265\n",
            "Epoch 262/350\n",
            "4/4 [==============================] - 0s 19ms/step - loss: 0.7230 - accuracy: 0.8367\n",
            "Epoch 263/350\n",
            "4/4 [==============================] - 0s 17ms/step - loss: 0.7105 - accuracy: 0.8469\n",
            "Epoch 264/350\n",
            "4/4 [==============================] - 0s 19ms/step - loss: 0.7053 - accuracy: 0.8469\n",
            "Epoch 265/350\n",
            "4/4 [==============================] - 0s 15ms/step - loss: 0.7011 - accuracy: 0.8571\n",
            "Epoch 266/350\n",
            "4/4 [==============================] - 0s 31ms/step - loss: 0.6985 - accuracy: 0.8265\n",
            "Epoch 267/350\n",
            "4/4 [==============================] - 0s 27ms/step - loss: 0.7018 - accuracy: 0.8163\n",
            "Epoch 268/350\n",
            "4/4 [==============================] - 0s 18ms/step - loss: 0.6973 - accuracy: 0.8163\n",
            "Epoch 269/350\n",
            "4/4 [==============================] - 0s 22ms/step - loss: 0.7089 - accuracy: 0.8163\n",
            "Epoch 270/350\n",
            "4/4 [==============================] - 0s 31ms/step - loss: 0.7064 - accuracy: 0.8265\n",
            "Epoch 271/350\n",
            "4/4 [==============================] - 0s 37ms/step - loss: 0.7006 - accuracy: 0.8163\n",
            "Epoch 272/350\n",
            "4/4 [==============================] - 0s 30ms/step - loss: 0.6891 - accuracy: 0.8265\n",
            "Epoch 273/350\n",
            "4/4 [==============================] - 0s 15ms/step - loss: 0.6725 - accuracy: 0.8469\n",
            "Epoch 274/350\n",
            "4/4 [==============================] - 0s 21ms/step - loss: 0.6768 - accuracy: 0.8061\n",
            "Epoch 275/350\n",
            "4/4 [==============================] - 0s 17ms/step - loss: 0.6742 - accuracy: 0.8061\n",
            "Epoch 276/350\n",
            "4/4 [==============================] - 0s 16ms/step - loss: 0.6745 - accuracy: 0.7959\n",
            "Epoch 277/350\n",
            "4/4 [==============================] - 0s 18ms/step - loss: 0.6712 - accuracy: 0.7959\n",
            "Epoch 278/350\n",
            "4/4 [==============================] - 0s 18ms/step - loss: 0.6632 - accuracy: 0.8265\n",
            "Epoch 279/350\n",
            "4/4 [==============================] - 0s 18ms/step - loss: 0.6597 - accuracy: 0.8163\n",
            "Epoch 280/350\n",
            "4/4 [==============================] - 0s 22ms/step - loss: 0.6608 - accuracy: 0.7959\n",
            "Epoch 281/350\n",
            "4/4 [==============================] - 0s 18ms/step - loss: 0.6488 - accuracy: 0.8571\n",
            "Epoch 282/350\n",
            "4/4 [==============================] - 0s 25ms/step - loss: 0.6465 - accuracy: 0.8367\n",
            "Epoch 283/350\n",
            "4/4 [==============================] - 0s 22ms/step - loss: 0.6515 - accuracy: 0.8367\n",
            "Epoch 284/350\n",
            "4/4 [==============================] - 0s 20ms/step - loss: 0.6529 - accuracy: 0.8061\n",
            "Epoch 285/350\n",
            "4/4 [==============================] - 0s 25ms/step - loss: 0.6525 - accuracy: 0.7755\n",
            "Epoch 286/350\n",
            "4/4 [==============================] - 0s 21ms/step - loss: 0.6330 - accuracy: 0.8061\n",
            "Epoch 287/350\n",
            "4/4 [==============================] - 0s 21ms/step - loss: 0.6220 - accuracy: 0.8469\n",
            "Epoch 288/350\n",
            "4/4 [==============================] - 0s 25ms/step - loss: 0.6221 - accuracy: 0.8061\n",
            "Epoch 289/350\n",
            "4/4 [==============================] - 0s 19ms/step - loss: 0.6245 - accuracy: 0.8163\n",
            "Epoch 290/350\n",
            "4/4 [==============================] - 0s 21ms/step - loss: 0.6220 - accuracy: 0.8367\n",
            "Epoch 291/350\n",
            "4/4 [==============================] - 0s 23ms/step - loss: 0.6260 - accuracy: 0.8367\n",
            "Epoch 292/350\n",
            "4/4 [==============================] - 0s 20ms/step - loss: 0.6161 - accuracy: 0.8265\n",
            "Epoch 293/350\n",
            "4/4 [==============================] - 0s 18ms/step - loss: 0.6210 - accuracy: 0.8265\n",
            "Epoch 294/350\n",
            "4/4 [==============================] - 0s 20ms/step - loss: 0.6303 - accuracy: 0.8265\n",
            "Epoch 295/350\n",
            "4/4 [==============================] - 0s 20ms/step - loss: 0.6131 - accuracy: 0.8163\n",
            "Epoch 296/350\n",
            "4/4 [==============================] - 0s 15ms/step - loss: 0.6178 - accuracy: 0.7959\n",
            "Epoch 297/350\n",
            "4/4 [==============================] - 0s 17ms/step - loss: 0.6091 - accuracy: 0.8469\n",
            "Epoch 298/350\n",
            "4/4 [==============================] - 0s 22ms/step - loss: 0.5999 - accuracy: 0.8469\n",
            "Epoch 299/350\n",
            "4/4 [==============================] - 0s 17ms/step - loss: 0.6034 - accuracy: 0.8469\n",
            "Epoch 300/350\n",
            "4/4 [==============================] - 0s 17ms/step - loss: 0.5976 - accuracy: 0.8673\n",
            "Epoch 301/350\n",
            "4/4 [==============================] - 0s 18ms/step - loss: 0.6073 - accuracy: 0.8367\n",
            "Epoch 302/350\n",
            "4/4 [==============================] - 0s 16ms/step - loss: 0.5952 - accuracy: 0.8469\n",
            "Epoch 303/350\n",
            "4/4 [==============================] - 0s 27ms/step - loss: 0.5871 - accuracy: 0.8878\n",
            "Epoch 304/350\n",
            "4/4 [==============================] - 0s 29ms/step - loss: 0.5928 - accuracy: 0.8571\n",
            "Epoch 305/350\n",
            "4/4 [==============================] - 0s 24ms/step - loss: 0.5841 - accuracy: 0.8673\n",
            "Epoch 306/350\n",
            "4/4 [==============================] - 0s 21ms/step - loss: 0.5765 - accuracy: 0.8673\n",
            "Epoch 307/350\n",
            "4/4 [==============================] - 0s 18ms/step - loss: 0.5722 - accuracy: 0.8469\n",
            "Epoch 308/350\n",
            "4/4 [==============================] - 0s 19ms/step - loss: 0.5568 - accuracy: 0.8469\n",
            "Epoch 309/350\n",
            "4/4 [==============================] - 0s 16ms/step - loss: 0.5748 - accuracy: 0.8469\n",
            "Epoch 310/350\n",
            "4/4 [==============================] - 0s 18ms/step - loss: 0.5703 - accuracy: 0.8571\n",
            "Epoch 311/350\n",
            "4/4 [==============================] - 0s 20ms/step - loss: 0.5586 - accuracy: 0.8571\n",
            "Epoch 312/350\n",
            "4/4 [==============================] - 0s 14ms/step - loss: 0.5571 - accuracy: 0.8673\n",
            "Epoch 313/350\n",
            "4/4 [==============================] - 0s 16ms/step - loss: 0.5621 - accuracy: 0.8469\n",
            "Epoch 314/350\n",
            "4/4 [==============================] - 0s 28ms/step - loss: 0.5520 - accuracy: 0.8367\n",
            "Epoch 315/350\n",
            "4/4 [==============================] - 0s 20ms/step - loss: 0.5539 - accuracy: 0.8571\n",
            "Epoch 316/350\n",
            "4/4 [==============================] - 0s 19ms/step - loss: 0.5474 - accuracy: 0.8776\n",
            "Epoch 317/350\n",
            "4/4 [==============================] - 0s 17ms/step - loss: 0.5435 - accuracy: 0.8571\n",
            "Epoch 318/350\n",
            "4/4 [==============================] - 0s 18ms/step - loss: 0.5366 - accuracy: 0.8673\n",
            "Epoch 319/350\n",
            "4/4 [==============================] - 0s 20ms/step - loss: 0.5385 - accuracy: 0.8469\n",
            "Epoch 320/350\n",
            "4/4 [==============================] - 0s 33ms/step - loss: 0.5371 - accuracy: 0.8571\n",
            "Epoch 321/350\n",
            "4/4 [==============================] - 0s 17ms/step - loss: 0.5528 - accuracy: 0.8367\n",
            "Epoch 322/350\n",
            "4/4 [==============================] - 0s 22ms/step - loss: 0.5244 - accuracy: 0.8469\n",
            "Epoch 323/350\n",
            "4/4 [==============================] - 0s 20ms/step - loss: 0.5289 - accuracy: 0.8265\n",
            "Epoch 324/350\n",
            "4/4 [==============================] - 0s 16ms/step - loss: 0.5294 - accuracy: 0.8469\n",
            "Epoch 325/350\n",
            "4/4 [==============================] - 0s 16ms/step - loss: 0.5370 - accuracy: 0.8571\n",
            "Epoch 326/350\n",
            "4/4 [==============================] - 0s 21ms/step - loss: 0.5325 - accuracy: 0.8776\n",
            "Epoch 327/350\n",
            "4/4 [==============================] - 0s 17ms/step - loss: 0.5166 - accuracy: 0.8776\n",
            "Epoch 328/350\n",
            "4/4 [==============================] - 0s 17ms/step - loss: 0.5205 - accuracy: 0.8878\n",
            "Epoch 329/350\n",
            "4/4 [==============================] - 0s 17ms/step - loss: 0.5135 - accuracy: 0.8571\n",
            "Epoch 330/350\n",
            "4/4 [==============================] - 0s 19ms/step - loss: 0.5235 - accuracy: 0.8469\n",
            "Epoch 331/350\n",
            "4/4 [==============================] - 0s 16ms/step - loss: 0.5062 - accuracy: 0.8673\n",
            "Epoch 332/350\n",
            "4/4 [==============================] - 0s 18ms/step - loss: 0.5120 - accuracy: 0.8571\n",
            "Epoch 333/350\n",
            "4/4 [==============================] - 0s 21ms/step - loss: 0.4954 - accuracy: 0.8571\n",
            "Epoch 334/350\n",
            "4/4 [==============================] - 0s 24ms/step - loss: 0.4956 - accuracy: 0.8776\n",
            "Epoch 335/350\n",
            "4/4 [==============================] - 0s 20ms/step - loss: 0.4949 - accuracy: 0.8776\n",
            "Epoch 336/350\n",
            "4/4 [==============================] - 0s 35ms/step - loss: 0.4916 - accuracy: 0.8878\n",
            "Epoch 337/350\n",
            "4/4 [==============================] - 0s 38ms/step - loss: 0.4921 - accuracy: 0.8673\n",
            "Epoch 338/350\n",
            "4/4 [==============================] - 0s 27ms/step - loss: 0.5000 - accuracy: 0.8776\n",
            "Epoch 339/350\n",
            "4/4 [==============================] - 0s 27ms/step - loss: 0.4844 - accuracy: 0.8776\n",
            "Epoch 340/350\n",
            "4/4 [==============================] - 0s 24ms/step - loss: 0.4798 - accuracy: 0.8673\n",
            "Epoch 341/350\n",
            "4/4 [==============================] - 0s 21ms/step - loss: 0.4739 - accuracy: 0.8776\n",
            "Epoch 342/350\n",
            "4/4 [==============================] - 0s 24ms/step - loss: 0.4819 - accuracy: 0.8878\n",
            "Epoch 343/350\n",
            "4/4 [==============================] - 0s 21ms/step - loss: 0.4742 - accuracy: 0.8571\n",
            "Epoch 344/350\n",
            "4/4 [==============================] - 0s 17ms/step - loss: 0.4775 - accuracy: 0.8673\n",
            "Epoch 345/350\n",
            "4/4 [==============================] - 0s 20ms/step - loss: 0.4773 - accuracy: 0.8878\n",
            "Epoch 346/350\n",
            "4/4 [==============================] - 0s 23ms/step - loss: 0.4760 - accuracy: 0.8469\n",
            "Epoch 347/350\n",
            "4/4 [==============================] - 0s 24ms/step - loss: 0.4718 - accuracy: 0.8673\n",
            "Epoch 348/350\n",
            "4/4 [==============================] - 0s 16ms/step - loss: 0.4747 - accuracy: 0.8673\n",
            "Epoch 349/350\n",
            "4/4 [==============================] - 0s 22ms/step - loss: 0.4716 - accuracy: 0.8776\n",
            "Epoch 350/350\n",
            "4/4 [==============================] - 0s 19ms/step - loss: 0.4639 - accuracy: 0.8571\n"
          ]
        }
      ],
      "source": [
        "# Training the model (Melatih model data sampai 350 kali)\n",
        "train = model.fit(x_train, y_train, epochs=350)"
      ]
    },
    {
      "cell_type": "code",
      "execution_count": 21,
      "metadata": {},
      "outputs": [
        {
          "name": "stderr",
          "output_type": "stream",
          "text": [
            "c:\\Users\\Owner\\AppData\\Local\\Programs\\Python\\Python310\\lib\\site-packages\\keras\\src\\engine\\training.py:3000: UserWarning: You are saving your model as an HDF5 file via `model.save()`. This file format is considered legacy. We recommend using instead the native Keras format, e.g. `model.save('my_model.keras')`.\n",
            "  saving_api.save_model(\n"
          ]
        }
      ],
      "source": [
        "import os\n",
        "\n",
        "directory = 'D:/'\n",
        "os.makedirs(directory, exist_ok=True)\n",
        "\n",
        "model.save('D:/model_chatbot_kampus_merdeka.h5')"
      ]
    },
    {
      "cell_type": "code",
      "execution_count": 22,
      "metadata": {
        "colab": {
          "base_uri": "https://localhost:8080/",
          "height": 414
        },
        "id": "Pcu57pgf0cOR",
        "outputId": "53db5eb0-9f1e-4d53-fa9d-5946dd0926ba"
      },
      "outputs": [
        {
          "data": {
            "image/png": "[encoded data removed]",
            "text/plain": [
              "<Figure size 1008x360 with 2 Axes>"
            ]
          },
          "metadata": {
            "needs_background": "light"
          },
          "output_type": "display_data"
        }
      ],
      "source": [
        "# Plotting model Accuracy and Loss (Visualisasi Plot Hasil Akurasi dan Loss)\n",
        "# Plot Akurasi\n",
        "plt.figure(figsize=(14, 5))\n",
        "plt.subplot(1, 2, 1)\n",
        "plt.plot(train.history['accuracy'], label='Training Set Accuracy')\n",
        "plt.legend(loc='lower right')\n",
        "plt.title('Accuracy')\n",
        "# Plot Loss\n",
        "plt.subplot(1, 2, 2)\n",
        "plt.plot(train.history['loss'], label='Training Set Loss')\n",
        "plt.legend(loc='upper right')\n",
        "plt.title('Loss')\n",
        "plt.show()"
      ]
    },
    {
      "cell_type": "markdown",
      "metadata": {},
      "source": [
        "## Evaluasi Model"
      ]
    },
    {
      "cell_type": "code",
      "execution_count": 23,
      "metadata": {},
      "outputs": [
        {
          "name": "stdout",
          "output_type": "stream",
          "text": [
            "Epoch 1/10\n",
            "3/3 [==============================] - 1s 474ms/step - loss: 0.4756 - accuracy: 0.8462 - val_loss: 0.3938 - val_accuracy: 0.9500\n",
            "Epoch 2/10\n",
            "3/3 [==============================] - 0s 65ms/step - loss: 0.4748 - accuracy: 0.8718 - val_loss: 0.4056 - val_accuracy: 0.9500\n",
            "Epoch 3/10\n",
            "3/3 [==============================] - 0s 68ms/step - loss: 0.4681 - accuracy: 0.8718 - val_loss: 0.4181 - val_accuracy: 0.9500\n",
            "Epoch 4/10\n",
            "3/3 [==============================] - 0s 43ms/step - loss: 0.4582 - accuracy: 0.8846 - val_loss: 0.4319 - val_accuracy: 0.9000\n",
            "Epoch 5/10\n",
            "3/3 [==============================] - 0s 40ms/step - loss: 0.4515 - accuracy: 0.8974 - val_loss: 0.4472 - val_accuracy: 0.9000\n",
            "Epoch 6/10\n",
            "3/3 [==============================] - 0s 42ms/step - loss: 0.4478 - accuracy: 0.9103 - val_loss: 0.4615 - val_accuracy: 0.9000\n",
            "Epoch 7/10\n",
            "3/3 [==============================] - 0s 42ms/step - loss: 0.4495 - accuracy: 0.9103 - val_loss: 0.4780 - val_accuracy: 0.9000\n",
            "Epoch 8/10\n",
            "3/3 [==============================] - 0s 41ms/step - loss: 0.4353 - accuracy: 0.8718 - val_loss: 0.4931 - val_accuracy: 0.9000\n",
            "Epoch 9/10\n",
            "3/3 [==============================] - 0s 42ms/step - loss: 0.4359 - accuracy: 0.9231 - val_loss: 0.5069 - val_accuracy: 0.9000\n",
            "Epoch 10/10\n",
            "3/3 [==============================] - 0s 43ms/step - loss: 0.4291 - accuracy: 0.8974 - val_loss: 0.5200 - val_accuracy: 0.9000\n",
            "1/1 [==============================] - 0s 42ms/step - loss: 0.5200 - accuracy: 0.9000\n",
            "Loss: 0.5200024843215942\n",
            "Accuracy: 0.8999999761581421\n"
          ]
        }
      ],
      "source": [
        "from sklearn.model_selection import train_test_split\n",
        "\n",
        "# X_train dan y_train adalah data latih, X_test dan y_test adalah data uji\n",
        "X_train, X_test, y_train, y_test = train_test_split(x_train, y_train, test_size=0.2, random_state=42)\n",
        "\n",
        "# Latih model\n",
        "model.fit(X_train, y_train, epochs=10, batch_size=32, validation_data=(X_test, y_test))\n",
        "\n",
        "# Evaluasi model pada data uji\n",
        "evaluation_result = model.evaluate(X_test, y_test)\n",
        "\n",
        "print(\"Loss:\", evaluation_result[0])\n",
        "print(\"Accuracy:\", evaluation_result[1])"
      ]
    },
    {
      "cell_type": "markdown",
      "metadata": {},
      "source": [
        "## Testing Chatbot"
      ]
    },
    {
      "cell_type": "code",
      "execution_count": 24,
      "metadata": {},
      "outputs": [],
      "source": [
        "from gtts import gTTS\n",
        "import random\n",
        "import time\n",
        "import os\n",
        "import IPython.display as ipd"
      ]
    },
    {
      "cell_type": "code",
      "execution_count": 25,
      "metadata": {
        "id": "iwM0FvzT0lp2"
      },
      "outputs": [
        {
          "name": "stderr",
          "output_type": "stream",
          "text": [
            "c:\\Users\\Owner\\AppData\\Local\\Programs\\Python\\Python310\\lib\\site-packages\\pydub\\utils.py:170: RuntimeWarning: Couldn't find ffmpeg or avconv - defaulting to ffmpeg, but may not work\n",
            "  warn(\"Couldn't find ffmpeg or avconv - defaulting to ffmpeg, but may not work\", RuntimeWarning)\n"
          ]
        },
        {
          "name": "stdout",
          "output_type": "stream",
          "text": [
            "1/1 [==============================] - 1s 574ms/step\n",
            "1\n",
            "🤖 Bot :  greeting\n",
            "🤖 Bot :  Hai ! Mau tau tentang apa tentang kampus merdeka?\n",
            "1/1 [==============================] - 0s 40ms/step\n",
            "1\n",
            "🤖 Bot :  greeting\n",
            "🤖 Bot :  Hai! Mau tau informasi tentang apa nih?\n",
            "1/1 [==============================] - 0s 48ms/step\n",
            "0\n",
            "🤖 Bot :  goodbye\n",
            "🤖 Bot :  Dahh, semoga harimu menyenangkan yaa!\n"
          ]
        }
      ],
      "source": [
        "import os\n",
        "from pydub import AudioSegment\n",
        "\n",
        "# Membuat Input Chat\n",
        "while True:\n",
        "    texts_p = []\n",
        "    prediction_input = input('👨‍🦰 Kamu : ')\n",
        "\n",
        "    # Menghapus punktuasi atau tanda baca dan konversi ke huruf kecil\n",
        "    prediction_input = [letters.lower() for letters in prediction_input if letters not in string.punctuation]\n",
        "    prediction_input = ''.join(prediction_input)\n",
        "    texts_p.append(prediction_input)\n",
        "\n",
        "    # Melakukan Tokenisasi dan Padding pada data teks\n",
        "    prediction_input = tokenizer.texts_to_sequences(texts_p)\n",
        "    # Konversi data teks menjadi array\n",
        "    prediction_input = np.array(prediction_input).reshape(-1)\n",
        "    prediction_input = pad_sequences([prediction_input], input_shape)\n",
        "\n",
        "    # Mendapatkan hasil prediksi keluaran pada model\n",
        "    output = model.predict(prediction_input)\n",
        "    output = output.argmax()\n",
        "    print(output)\n",
        "\n",
        "    # Menemukan respon sesuai data tag dan memainkan suara bot\n",
        "    response_tag = le.inverse_transform([output])[0]\n",
        "    \n",
        "    # print response tag\n",
        "    print(\"🤖 Bot : \", response_tag)\n",
        "    \n",
        "    # Bot akan melakukan random jawaban percakapan dari hasil pertanyaan\n",
        "    print(\"🤖 Bot : \", random.choice(responses[response_tag]))\n",
        "    \n",
        "    # Tambahkan respon 'goodbye' agar bot bisa berhenti melakukan percakapan\n",
        "    if response_tag == \"goodbye\":\n",
        "        break"
      ]
    }
  ],
  "metadata": {
    "colab": {
      "include_colab_link": true,
      "provenance": []
    },
    "kernelspec": {
      "display_name": "Python 3",
      "language": "python",
      "name": "python3"
    },
    "language_info": {
      "codemirror_mode": {
        "name": "ipython",
        "version": 3
      },
      "file_extension": ".py",
      "mimetype": "text/x-python",
      "name": "python",
      "nbconvert_exporter": "python",
      "pygments_lexer": "ipython3",
      "version": "3.10.2"
    }
  },
  "nbformat": 4,
  "nbformat_minor": 0
}
