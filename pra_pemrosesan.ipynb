{
  "cells": [
    {
      "cell_type": "markdown",
      "metadata": {
        "colab_type": "text",
        "id": "view-in-github"
      },
      "source": [
        "<a href=\"https://colab.research.google.com/github/SriYanisaa/chatbot-kampus-merdeka-deep-learning/blob/main/pra_pemrosesan.ipynb\" target=\"_parent\"><img src=\"https://colab.research.google.com/assets/colab-badge.svg\" alt=\"Open In Colab\"/></a>"
      ]
    },
    {
      "cell_type": "markdown",
      "metadata": {
        "id": "xubIAqKVykMO"
      },
      "source": [
        "# PraPemrosesan Data"
      ]
    },
    {
      "cell_type": "code",
      "execution_count": 1,
      "metadata": {
        "colab": {
          "base_uri": "https://localhost:8080/"
        },
        "id": "8a74dn6XykMc",
        "outputId": "5d970c8f-03f0-4fa5-8fd7-365530c670af"
      },
      "outputs": [
        {
          "name": "stderr",
          "output_type": "stream",
          "text": [
            "[nltk_data] Downloading package punkt to\n",
            "[nltk_data]     C:\\Users\\Owner\\AppData\\Roaming\\nltk_data...\n",
            "[nltk_data]   Package punkt is already up-to-date!\n",
            "[nltk_data] Downloading package wordnet to\n",
            "[nltk_data]     C:\\Users\\Owner\\AppData\\Roaming\\nltk_data...\n",
            "[nltk_data]   Package wordnet is already up-to-date!\n"
          ]
        },
        {
          "data": {
            "text/plain": [
              "True"
            ]
          },
          "execution_count": 1,
          "metadata": {},
          "output_type": "execute_result"
        }
      ],
      "source": [
        "import pandas as pd\n",
        "import numpy as np\n",
        "import json\n",
        "import nltk\n",
        "from nltk.stem import WordNetLemmatizer\n",
        "import string\n",
        "import tensorflow as tf\n",
        "import matplotlib.pyplot as plt\n",
        "from tensorflow.keras.preprocessing.text import Tokenizer\n",
        "from tensorflow.keras.preprocessing.sequence import pad_sequences\n",
        "from tensorflow.keras.models import Model\n",
        "from tensorflow.keras.utils import plot_model\n",
        "from tensorflow.keras.layers import Input, Embedding, LSTM\n",
        "from tensorflow.keras.layers import Flatten, Dense, GlobalMaxPool1D\n",
        "from sklearn.preprocessing import LabelEncoder\n",
        "import pickle\n",
        "\n",
        "nltk.download('punkt')\n",
        "nltk.download('wordnet')"
      ]
    },
    {
      "cell_type": "code",
      "execution_count": 2,
      "metadata": {
        "id": "RJkh6Q6PykMk"
      },
      "outputs": [],
      "source": [
        "# Importing the dataset\n",
        "with open('kampus_merdeka.json') as content:\n",
        "  data1 = json.load(content)\n",
        "\n",
        "# Mendapatkan semua data ke dalam list\n",
        "tags = [] # data tag\n",
        "inputs = [] # data input atau pattern\n",
        "responses = {} # data respon\n",
        "words = [] # Data kata\n",
        "classes = [] # Data Kelas atau Tag\n",
        "documents = [] # Data Kalimat Dokumen\n",
        "ignore_words = ['?', '!'] # Mengabaikan tanda spesial karakter\n",
        "# Tambahkan data intents dalam json\n",
        "for intent in data1['intents']:\n",
        "  responses[intent['tag']]=intent['responses']\n",
        "  for lines in intent['patterns']:\n",
        "    inputs.append(lines)\n",
        "    tags.append(intent['tag'])\n",
        "    # digunakan untuk pattern atau teks pertanyaan dalam json\n",
        "    for pattern in intent['patterns']:\n",
        "      w = nltk.word_tokenize(pattern)\n",
        "      words.extend(w)\n",
        "      documents.append((w, intent['tag']))\n",
        "      # tambahkan ke dalam list kelas dalam data\n",
        "      if intent['tag'] not in classes:\n",
        "        classes.append(intent['tag'])\n",
        "\n",
        "# Konversi data json ke dalam dataframe\n",
        "data = pd.DataFrame({\"patterns\":inputs, \"tags\":tags})"
      ]
    },
    {
      "cell_type": "code",
      "execution_count": 3,
      "metadata": {
        "colab": {
          "base_uri": "https://localhost:8080/",
          "height": 423
        },
        "id": "KUqlqgcbykMn",
        "outputId": "f4bc5e2b-65ec-417b-9d86-7fad39ce6103"
      },
      "outputs": [
        {
          "data": {
            "text/html": [
              "<div>\n",
              "<style scoped>\n",
              "    .dataframe tbody tr th:only-of-type {\n",
              "        vertical-align: middle;\n",
              "    }\n",
              "\n",
              "    .dataframe tbody tr th {\n",
              "        vertical-align: top;\n",
              "    }\n",
              "\n",
              "    .dataframe thead th {\n",
              "        text-align: right;\n",
              "    }\n",
              "</style>\n",
              "<table border=\"1\" class=\"dataframe\">\n",
              "  <thead>\n",
              "    <tr style=\"text-align: right;\">\n",
              "      <th></th>\n",
              "      <th>patterns</th>\n",
              "      <th>tags</th>\n",
              "    </tr>\n",
              "  </thead>\n",
              "  <tbody>\n",
              "    <tr>\n",
              "      <th>0</th>\n",
              "      <td>hallo</td>\n",
              "      <td>greeting</td>\n",
              "    </tr>\n",
              "    <tr>\n",
              "      <th>1</th>\n",
              "      <td>hai</td>\n",
              "      <td>greeting</td>\n",
              "    </tr>\n",
              "    <tr>\n",
              "      <th>2</th>\n",
              "      <td>halo</td>\n",
              "      <td>greeting</td>\n",
              "    </tr>\n",
              "    <tr>\n",
              "      <th>3</th>\n",
              "      <td>hei</td>\n",
              "      <td>greeting</td>\n",
              "    </tr>\n",
              "    <tr>\n",
              "      <th>4</th>\n",
              "      <td>hi</td>\n",
              "      <td>greeting</td>\n",
              "    </tr>\n",
              "    <tr>\n",
              "      <th>...</th>\n",
              "      <td>...</td>\n",
              "      <td>...</td>\n",
              "    </tr>\n",
              "    <tr>\n",
              "      <th>75</th>\n",
              "      <td>Apa itu PMMB?</td>\n",
              "      <td>penjelasan_PMMB</td>\n",
              "    </tr>\n",
              "    <tr>\n",
              "      <th>76</th>\n",
              "      <td>Apa saja persyaratan IISMA?</td>\n",
              "      <td>persyaratan_IISMA</td>\n",
              "    </tr>\n",
              "    <tr>\n",
              "      <th>77</th>\n",
              "      <td>Bagaimana periode pelaksanaan dan cara mendaft...</td>\n",
              "      <td>periode_dan_pendaftaran_PMMB</td>\n",
              "    </tr>\n",
              "    <tr>\n",
              "      <th>78</th>\n",
              "      <td>Apa saja manfaat apabila mengikuti PMMB?</td>\n",
              "      <td>manfaat_PMMB</td>\n",
              "    </tr>\n",
              "    <tr>\n",
              "      <th>79</th>\n",
              "      <td>Apa saja universitas yang tergabung dalam prog...</td>\n",
              "      <td>mitra_PMMB</td>\n",
              "    </tr>\n",
              "  </tbody>\n",
              "</table>\n",
              "<p>80 rows × 2 columns</p>\n",
              "</div>"
            ],
            "text/plain": [
              "                                             patterns  \\\n",
              "0                                               hallo   \n",
              "1                                                 hai   \n",
              "2                                                halo   \n",
              "3                                                 hei   \n",
              "4                                                  hi   \n",
              "..                                                ...   \n",
              "75                                      Apa itu PMMB?   \n",
              "76                        Apa saja persyaratan IISMA?   \n",
              "77  Bagaimana periode pelaksanaan dan cara mendaft...   \n",
              "78           Apa saja manfaat apabila mengikuti PMMB?   \n",
              "79  Apa saja universitas yang tergabung dalam prog...   \n",
              "\n",
              "                            tags  \n",
              "0                       greeting  \n",
              "1                       greeting  \n",
              "2                       greeting  \n",
              "3                       greeting  \n",
              "4                       greeting  \n",
              "..                           ...  \n",
              "75               penjelasan_PMMB  \n",
              "76             persyaratan_IISMA  \n",
              "77  periode_dan_pendaftaran_PMMB  \n",
              "78                  manfaat_PMMB  \n",
              "79                    mitra_PMMB  \n",
              "\n",
              "[80 rows x 2 columns]"
            ]
          },
          "execution_count": 3,
          "metadata": {},
          "output_type": "execute_result"
        }
      ],
      "source": [
        "data"
      ]
    },
    {
      "cell_type": "markdown",
      "metadata": {
        "id": "o4SjsjpWykMp"
      },
      "source": [
        "## Remove Punctuaction"
      ]
    },
    {
      "cell_type": "code",
      "execution_count": 4,
      "metadata": {
        "id": "GhOV5HO3ykMr"
      },
      "outputs": [],
      "source": [
        "# Removing Punctuations (Menghilangkan Punktuasi)\n",
        "data['patterns'] = data['patterns'].apply(lambda wrd:[ltrs.lower() for ltrs in wrd if ltrs not in string.punctuation])\n",
        "data['patterns'] = data['patterns'].apply(lambda wrd: ''.join(wrd))"
      ]
    },
    {
      "cell_type": "code",
      "execution_count": 5,
      "metadata": {
        "colab": {
          "base_uri": "https://localhost:8080/",
          "height": 423
        },
        "id": "202-SHjSykMs",
        "outputId": "792902d0-1933-42aa-d717-8b3e36e611f7"
      },
      "outputs": [
        {
          "data": {
            "text/html": [
              "<div>\n",
              "<style scoped>\n",
              "    .dataframe tbody tr th:only-of-type {\n",
              "        vertical-align: middle;\n",
              "    }\n",
              "\n",
              "    .dataframe tbody tr th {\n",
              "        vertical-align: top;\n",
              "    }\n",
              "\n",
              "    .dataframe thead th {\n",
              "        text-align: right;\n",
              "    }\n",
              "</style>\n",
              "<table border=\"1\" class=\"dataframe\">\n",
              "  <thead>\n",
              "    <tr style=\"text-align: right;\">\n",
              "      <th></th>\n",
              "      <th>patterns</th>\n",
              "      <th>tags</th>\n",
              "    </tr>\n",
              "  </thead>\n",
              "  <tbody>\n",
              "    <tr>\n",
              "      <th>0</th>\n",
              "      <td>hallo</td>\n",
              "      <td>greeting</td>\n",
              "    </tr>\n",
              "    <tr>\n",
              "      <th>1</th>\n",
              "      <td>hai</td>\n",
              "      <td>greeting</td>\n",
              "    </tr>\n",
              "    <tr>\n",
              "      <th>2</th>\n",
              "      <td>halo</td>\n",
              "      <td>greeting</td>\n",
              "    </tr>\n",
              "    <tr>\n",
              "      <th>3</th>\n",
              "      <td>hei</td>\n",
              "      <td>greeting</td>\n",
              "    </tr>\n",
              "    <tr>\n",
              "      <th>4</th>\n",
              "      <td>hi</td>\n",
              "      <td>greeting</td>\n",
              "    </tr>\n",
              "    <tr>\n",
              "      <th>...</th>\n",
              "      <td>...</td>\n",
              "      <td>...</td>\n",
              "    </tr>\n",
              "    <tr>\n",
              "      <th>75</th>\n",
              "      <td>apa itu pmmb</td>\n",
              "      <td>penjelasan_PMMB</td>\n",
              "    </tr>\n",
              "    <tr>\n",
              "      <th>76</th>\n",
              "      <td>apa saja persyaratan iisma</td>\n",
              "      <td>persyaratan_IISMA</td>\n",
              "    </tr>\n",
              "    <tr>\n",
              "      <th>77</th>\n",
              "      <td>bagaimana periode pelaksanaan dan cara mendaft...</td>\n",
              "      <td>periode_dan_pendaftaran_PMMB</td>\n",
              "    </tr>\n",
              "    <tr>\n",
              "      <th>78</th>\n",
              "      <td>apa saja manfaat apabila mengikuti pmmb</td>\n",
              "      <td>manfaat_PMMB</td>\n",
              "    </tr>\n",
              "    <tr>\n",
              "      <th>79</th>\n",
              "      <td>apa saja universitas yang tergabung dalam prog...</td>\n",
              "      <td>mitra_PMMB</td>\n",
              "    </tr>\n",
              "  </tbody>\n",
              "</table>\n",
              "<p>80 rows × 2 columns</p>\n",
              "</div>"
            ],
            "text/plain": [
              "                                             patterns  \\\n",
              "0                                               hallo   \n",
              "1                                                 hai   \n",
              "2                                                halo   \n",
              "3                                                 hei   \n",
              "4                                                  hi   \n",
              "..                                                ...   \n",
              "75                                       apa itu pmmb   \n",
              "76                         apa saja persyaratan iisma   \n",
              "77  bagaimana periode pelaksanaan dan cara mendaft...   \n",
              "78            apa saja manfaat apabila mengikuti pmmb   \n",
              "79  apa saja universitas yang tergabung dalam prog...   \n",
              "\n",
              "                            tags  \n",
              "0                       greeting  \n",
              "1                       greeting  \n",
              "2                       greeting  \n",
              "3                       greeting  \n",
              "4                       greeting  \n",
              "..                           ...  \n",
              "75               penjelasan_PMMB  \n",
              "76             persyaratan_IISMA  \n",
              "77  periode_dan_pendaftaran_PMMB  \n",
              "78                  manfaat_PMMB  \n",
              "79                    mitra_PMMB  \n",
              "\n",
              "[80 rows x 2 columns]"
            ]
          },
          "execution_count": 5,
          "metadata": {},
          "output_type": "execute_result"
        }
      ],
      "source": [
        "data"
      ]
    },
    {
      "cell_type": "code",
      "execution_count": 6,
      "metadata": {
        "id": "A2Fcru9jykMv"
      },
      "outputs": [
        {
          "ename": "OSError",
          "evalue": "[Errno 9] Bad file descriptor",
          "output_type": "error",
          "traceback": [
            "\u001b[1;31m---------------------------------------------------------------------------\u001b[0m",
            "\u001b[1;31mOSError\u001b[0m                                   Traceback (most recent call last)",
            "\u001b[1;31mOSError\u001b[0m: [Errno 9] Bad file descriptor",
            "\nDuring handling of the above exception, another exception occurred:\n",
            "\u001b[1;31mOSError\u001b[0m                                   Traceback (most recent call last)",
            "\u001b[1;32md:\\Kuliah\\Semester 7\\Deep Learning\\chatbot-kampus-merdeka-deep-learning\\pra_pemrosesan.ipynb Cell 9\u001b[0m line \u001b[0;36m<cell line: 1>\u001b[1;34m()\u001b[0m\n\u001b[1;32m----> <a href='vscode-notebook-cell:/d%3A/Kuliah/Semester%207/Deep%20Learning/chatbot-kampus-merdeka-deep-learning/pra_pemrosesan.ipynb#X11sZmlsZQ%3D%3D?line=0'>1</a>\u001b[0m data\u001b[39m.\u001b[39;49mto_csv(\u001b[39m\"\u001b[39;49m\u001b[39mclean_data_chatbot.csv\u001b[39;49m\u001b[39m\"\u001b[39;49m)\n",
            "File \u001b[1;32mc:\\Users\\Owner\\AppData\\Local\\Programs\\Python\\Python310\\lib\\site-packages\\pandas\\util\\_decorators.py:211\u001b[0m, in \u001b[0;36mdeprecate_kwarg.<locals>._deprecate_kwarg.<locals>.wrapper\u001b[1;34m(*args, **kwargs)\u001b[0m\n\u001b[0;32m    209\u001b[0m     \u001b[39melse\u001b[39;00m:\n\u001b[0;32m    210\u001b[0m         kwargs[new_arg_name] \u001b[39m=\u001b[39m new_arg_value\n\u001b[1;32m--> 211\u001b[0m \u001b[39mreturn\u001b[39;00m func(\u001b[39m*\u001b[39margs, \u001b[39m*\u001b[39m\u001b[39m*\u001b[39mkwargs)\n",
            "File \u001b[1;32mc:\\Users\\Owner\\AppData\\Local\\Programs\\Python\\Python310\\lib\\site-packages\\pandas\\core\\generic.py:3720\u001b[0m, in \u001b[0;36mNDFrame.to_csv\u001b[1;34m(self, path_or_buf, sep, na_rep, float_format, columns, header, index, index_label, mode, encoding, compression, quoting, quotechar, lineterminator, chunksize, date_format, doublequote, escapechar, decimal, errors, storage_options)\u001b[0m\n\u001b[0;32m   3709\u001b[0m df \u001b[39m=\u001b[39m \u001b[39mself\u001b[39m \u001b[39mif\u001b[39;00m \u001b[39misinstance\u001b[39m(\u001b[39mself\u001b[39m, ABCDataFrame) \u001b[39melse\u001b[39;00m \u001b[39mself\u001b[39m\u001b[39m.\u001b[39mto_frame()\n\u001b[0;32m   3711\u001b[0m formatter \u001b[39m=\u001b[39m DataFrameFormatter(\n\u001b[0;32m   3712\u001b[0m     frame\u001b[39m=\u001b[39mdf,\n\u001b[0;32m   3713\u001b[0m     header\u001b[39m=\u001b[39mheader,\n\u001b[1;32m   (...)\u001b[0m\n\u001b[0;32m   3717\u001b[0m     decimal\u001b[39m=\u001b[39mdecimal,\n\u001b[0;32m   3718\u001b[0m )\n\u001b[1;32m-> 3720\u001b[0m \u001b[39mreturn\u001b[39;00m DataFrameRenderer(formatter)\u001b[39m.\u001b[39;49mto_csv(\n\u001b[0;32m   3721\u001b[0m     path_or_buf,\n\u001b[0;32m   3722\u001b[0m     lineterminator\u001b[39m=\u001b[39;49mlineterminator,\n\u001b[0;32m   3723\u001b[0m     sep\u001b[39m=\u001b[39;49msep,\n\u001b[0;32m   3724\u001b[0m     encoding\u001b[39m=\u001b[39;49mencoding,\n\u001b[0;32m   3725\u001b[0m     errors\u001b[39m=\u001b[39;49merrors,\n\u001b[0;32m   3726\u001b[0m     compression\u001b[39m=\u001b[39;49mcompression,\n\u001b[0;32m   3727\u001b[0m     quoting\u001b[39m=\u001b[39;49mquoting,\n\u001b[0;32m   3728\u001b[0m     columns\u001b[39m=\u001b[39;49mcolumns,\n\u001b[0;32m   3729\u001b[0m     index_label\u001b[39m=\u001b[39;49mindex_label,\n\u001b[0;32m   3730\u001b[0m     mode\u001b[39m=\u001b[39;49mmode,\n\u001b[0;32m   3731\u001b[0m     chunksize\u001b[39m=\u001b[39;49mchunksize,\n\u001b[0;32m   3732\u001b[0m     quotechar\u001b[39m=\u001b[39;49mquotechar,\n\u001b[0;32m   3733\u001b[0m     date_format\u001b[39m=\u001b[39;49mdate_format,\n\u001b[0;32m   3734\u001b[0m     doublequote\u001b[39m=\u001b[39;49mdoublequote,\n\u001b[0;32m   3735\u001b[0m     escapechar\u001b[39m=\u001b[39;49mescapechar,\n\u001b[0;32m   3736\u001b[0m     storage_options\u001b[39m=\u001b[39;49mstorage_options,\n\u001b[0;32m   3737\u001b[0m )\n",
            "File \u001b[1;32mc:\\Users\\Owner\\AppData\\Local\\Programs\\Python\\Python310\\lib\\site-packages\\pandas\\util\\_decorators.py:211\u001b[0m, in \u001b[0;36mdeprecate_kwarg.<locals>._deprecate_kwarg.<locals>.wrapper\u001b[1;34m(*args, **kwargs)\u001b[0m\n\u001b[0;32m    209\u001b[0m     \u001b[39melse\u001b[39;00m:\n\u001b[0;32m    210\u001b[0m         kwargs[new_arg_name] \u001b[39m=\u001b[39m new_arg_value\n\u001b[1;32m--> 211\u001b[0m \u001b[39mreturn\u001b[39;00m func(\u001b[39m*\u001b[39margs, \u001b[39m*\u001b[39m\u001b[39m*\u001b[39mkwargs)\n",
            "File \u001b[1;32mc:\\Users\\Owner\\AppData\\Local\\Programs\\Python\\Python310\\lib\\site-packages\\pandas\\io\\formats\\format.py:1189\u001b[0m, in \u001b[0;36mDataFrameRenderer.to_csv\u001b[1;34m(self, path_or_buf, encoding, sep, columns, index_label, mode, compression, quoting, quotechar, lineterminator, chunksize, date_format, doublequote, escapechar, errors, storage_options)\u001b[0m\n\u001b[0;32m   1168\u001b[0m     created_buffer \u001b[39m=\u001b[39m \u001b[39mFalse\u001b[39;00m\n\u001b[0;32m   1170\u001b[0m csv_formatter \u001b[39m=\u001b[39m CSVFormatter(\n\u001b[0;32m   1171\u001b[0m     path_or_buf\u001b[39m=\u001b[39mpath_or_buf,\n\u001b[0;32m   1172\u001b[0m     lineterminator\u001b[39m=\u001b[39mlineterminator,\n\u001b[1;32m   (...)\u001b[0m\n\u001b[0;32m   1187\u001b[0m     formatter\u001b[39m=\u001b[39m\u001b[39mself\u001b[39m\u001b[39m.\u001b[39mfmt,\n\u001b[0;32m   1188\u001b[0m )\n\u001b[1;32m-> 1189\u001b[0m csv_formatter\u001b[39m.\u001b[39;49msave()\n\u001b[0;32m   1191\u001b[0m \u001b[39mif\u001b[39;00m created_buffer:\n\u001b[0;32m   1192\u001b[0m     \u001b[39massert\u001b[39;00m \u001b[39misinstance\u001b[39m(path_or_buf, StringIO)\n",
            "File \u001b[1;32mc:\\Users\\Owner\\AppData\\Local\\Programs\\Python\\Python310\\lib\\site-packages\\pandas\\io\\formats\\csvs.py:241\u001b[0m, in \u001b[0;36mCSVFormatter.save\u001b[1;34m(self)\u001b[0m\n\u001b[0;32m    237\u001b[0m \u001b[39m\u001b[39m\u001b[39m\"\"\"\u001b[39;00m\n\u001b[0;32m    238\u001b[0m \u001b[39mCreate the writer & save.\u001b[39;00m\n\u001b[0;32m    239\u001b[0m \u001b[39m\"\"\"\u001b[39;00m\n\u001b[0;32m    240\u001b[0m \u001b[39m# apply compression and byte/text conversion\u001b[39;00m\n\u001b[1;32m--> 241\u001b[0m \u001b[39mwith\u001b[39;00m get_handle(\n\u001b[0;32m    242\u001b[0m     \u001b[39mself\u001b[39m\u001b[39m.\u001b[39mfilepath_or_buffer,\n\u001b[0;32m    243\u001b[0m     \u001b[39mself\u001b[39m\u001b[39m.\u001b[39mmode,\n\u001b[0;32m    244\u001b[0m     encoding\u001b[39m=\u001b[39m\u001b[39mself\u001b[39m\u001b[39m.\u001b[39mencoding,\n\u001b[0;32m    245\u001b[0m     errors\u001b[39m=\u001b[39m\u001b[39mself\u001b[39m\u001b[39m.\u001b[39merrors,\n\u001b[0;32m    246\u001b[0m     compression\u001b[39m=\u001b[39m\u001b[39mself\u001b[39m\u001b[39m.\u001b[39mcompression,\n\u001b[0;32m    247\u001b[0m     storage_options\u001b[39m=\u001b[39m\u001b[39mself\u001b[39m\u001b[39m.\u001b[39mstorage_options,\n\u001b[0;32m    248\u001b[0m ) \u001b[39mas\u001b[39;00m handles:\n\u001b[0;32m    249\u001b[0m \n\u001b[0;32m    250\u001b[0m     \u001b[39m# Note: self.encoding is irrelevant here\u001b[39;00m\n\u001b[0;32m    251\u001b[0m     \u001b[39mself\u001b[39m\u001b[39m.\u001b[39mwriter \u001b[39m=\u001b[39m csvlib\u001b[39m.\u001b[39mwriter(\n\u001b[0;32m    252\u001b[0m         handles\u001b[39m.\u001b[39mhandle,\n\u001b[0;32m    253\u001b[0m         lineterminator\u001b[39m=\u001b[39m\u001b[39mself\u001b[39m\u001b[39m.\u001b[39mlineterminator,\n\u001b[1;32m   (...)\u001b[0m\n\u001b[0;32m    258\u001b[0m         quotechar\u001b[39m=\u001b[39m\u001b[39mself\u001b[39m\u001b[39m.\u001b[39mquotechar,\n\u001b[0;32m    259\u001b[0m     )\n\u001b[0;32m    261\u001b[0m     \u001b[39mself\u001b[39m\u001b[39m.\u001b[39m_save()\n",
            "File \u001b[1;32mc:\\Users\\Owner\\AppData\\Local\\Programs\\Python\\Python310\\lib\\site-packages\\pandas\\io\\common.py:133\u001b[0m, in \u001b[0;36mIOHandles.__exit__\u001b[1;34m(self, *args)\u001b[0m\n\u001b[0;32m    132\u001b[0m \u001b[39mdef\u001b[39;00m \u001b[39m__exit__\u001b[39m(\u001b[39mself\u001b[39m, \u001b[39m*\u001b[39margs: Any) \u001b[39m-\u001b[39m\u001b[39m>\u001b[39m \u001b[39mNone\u001b[39;00m:\n\u001b[1;32m--> 133\u001b[0m     \u001b[39mself\u001b[39;49m\u001b[39m.\u001b[39;49mclose()\n",
            "File \u001b[1;32mc:\\Users\\Owner\\AppData\\Local\\Programs\\Python\\Python310\\lib\\site-packages\\pandas\\io\\common.py:125\u001b[0m, in \u001b[0;36mIOHandles.close\u001b[1;34m(self)\u001b[0m\n\u001b[0;32m    123\u001b[0m     \u001b[39mself\u001b[39m\u001b[39m.\u001b[39mcreated_handles\u001b[39m.\u001b[39mremove(\u001b[39mself\u001b[39m\u001b[39m.\u001b[39mhandle)\n\u001b[0;32m    124\u001b[0m \u001b[39mfor\u001b[39;00m handle \u001b[39min\u001b[39;00m \u001b[39mself\u001b[39m\u001b[39m.\u001b[39mcreated_handles:\n\u001b[1;32m--> 125\u001b[0m     handle\u001b[39m.\u001b[39;49mclose()\n\u001b[0;32m    126\u001b[0m \u001b[39mself\u001b[39m\u001b[39m.\u001b[39mcreated_handles \u001b[39m=\u001b[39m []\n\u001b[0;32m    127\u001b[0m \u001b[39mself\u001b[39m\u001b[39m.\u001b[39mis_wrapped \u001b[39m=\u001b[39m \u001b[39mFalse\u001b[39;00m\n",
            "\u001b[1;31mOSError\u001b[0m: [Errno 9] Bad file descriptor"
          ]
        }
      ],
      "source": [
        "data.to_csv(\"clean_data_chatbot.csv\")"
      ]
    },
    {
      "cell_type": "markdown",
      "metadata": {
        "id": "cY6uM5qcykMx"
      },
      "source": [
        "## Lemmatization"
      ]
    },
    {
      "cell_type": "code",
      "execution_count": 7,
      "metadata": {
        "colab": {
          "base_uri": "https://localhost:8080/"
        },
        "id": "YEsLemsGykMy",
        "outputId": "5162ee96-b5df-4fdd-ba03-066de6355541"
      },
      "outputs": [
        {
          "name": "stdout",
          "output_type": "stream",
          "text": [
            "69 kata-kata yang di lematisasi :  ['afternoon', 'apa', 'apabila', 'bagaimana', 'bai', 'banyak', 'bersertifikat', 'bro', 'bumn', 'bye', 'byee', 'cara', 'dadah', 'dah', 'dalam', 'dan', 'good', 'hai', 'hallo', 'halo', 'hei', 'hi', 'hy', 'iisma', 'independen', 'itu', 'jumpa', 'kampus', 'kasih', 'kawan', 'kemendikbud', 'kemensos', 'magang', 'mahasiswa', 'makasih', 'malam', 'manfaat', 'mendaftar', 'mengajar', 'mengikuti', 'merdeka', 'mitra', 'morning', 'muda', 'pagi', 'pejuang', 'pelaksanaan', 'periode', 'persyaratan', 'pertukaran', 'pmmb', 'program', 'saja', 'sampai', 'see', 'selamat', 'si', 'siang', 'sore', 'studi', 'tergabung', 'terima', 'thank', 'thanks', 'tinggal', 'tujuan', 'universitas', 'yang', 'you']\n"
          ]
        }
      ],
      "source": [
        "lemmatizer = WordNetLemmatizer()\n",
        "words = [lemmatizer.lemmatize(w.lower()) for w in words if w not in ignore_words]\n",
        "words = sorted(list(set(words)))\n",
        "\n",
        "print (len(words), \"kata-kata yang di lematisasi : \", words)"
      ]
    },
    {
      "cell_type": "markdown",
      "metadata": {
        "id": "WNTw6U9KykM0"
      },
      "source": [
        "### Menyortir Data Kelas Tags"
      ]
    },
    {
      "cell_type": "code",
      "execution_count": 8,
      "metadata": {
        "colab": {
          "base_uri": "https://localhost:8080/"
        },
        "id": "zsdg35vtykM1",
        "outputId": "95fad4de-6292-43a6-bcd0-74f96cd2b1cd"
      },
      "outputs": [
        {
          "name": "stdout",
          "output_type": "stream",
          "text": [
            "38 classes ['goodbye', 'greeting', 'manfaat_IISMA', 'manfaat_PMMB', 'manfaat_kampus_mengajar', 'manfaat_magang', 'manfaat_pejuang_muda', 'manfaat_pertukaran_mahasiswa', 'manfaat_studi_independen', 'mitra_IISMA', 'mitra_PMMB', 'mitra_magang', 'mitra_studi_independen', 'penjelasan_IISMA', 'penjelasan_PMMB', 'penjelasan_kampus_mengajar', 'penjelasan_kampus_merdeka', 'penjelasan_magang', 'penjelasan_pejuang_muda', 'penjelasan_pertukaran_mahasiswa', 'penjelasan_studi_independen', 'periode_dan_pendaftaran_IISMA', 'periode_dan_pendaftaran_PMMB', 'periode_dan_pendaftaran_kampus_mengajar', 'periode_dan_pendaftaran_magang', 'periode_dan_pendaftaran_pejuang_muda', 'periode_dan_pendaftaran_pertukaran_mahasiswa', 'periode_dan_pendaftaran_studi_independen', 'persyaratan_IISMA', 'persyaratan_kampus_mengajar', 'persyaratan_kampus_merdeka', 'persyaratan_magang', 'persyaratan_pejuang_muda', 'persyaratan_pertukaran_mahasiswa', 'persyaratan_studi_independen', 'program_kampus_merdeka', 'terimakasih', 'tujuan_kampus_merdeka']\n"
          ]
        }
      ],
      "source": [
        "# sorting pada data class\n",
        "classes = sorted(list(set(classes)))\n",
        "print (len(classes), \"classes\", classes)"
      ]
    },
    {
      "cell_type": "markdown",
      "metadata": {
        "id": "I3jrMXVVykM2"
      },
      "source": [
        "### Mencari Jumlah Keseluruhan Data Teks"
      ]
    },
    {
      "cell_type": "code",
      "execution_count": 9,
      "metadata": {
        "colab": {
          "base_uri": "https://localhost:8080/"
        },
        "id": "sOFQlDt-ykM3",
        "outputId": "d1946150-97c0-496f-fd9c-313758422849"
      },
      "outputs": [
        {
          "name": "stdout",
          "output_type": "stream",
          "text": [
            "425 documents\n"
          ]
        }
      ],
      "source": [
        "# documents = kombinasi antara data pattern dengan data tag dalam intents json\n",
        "print (len(documents), \"documents\")"
      ]
    },
    {
      "cell_type": "markdown",
      "metadata": {
        "id": "eLF1-xcIykM5"
      },
      "source": [
        "## Tokenisasi"
      ]
    },
    {
      "cell_type": "code",
      "execution_count": 3,
      "metadata": {
        "colab": {
          "base_uri": "https://localhost:8080/"
        },
        "id": "66nNB3ZbykM5",
        "outputId": "f0666168-66ff-4b53-fba7-f87eabb3e347"
      },
      "outputs": [
        {
          "data": {
            "text/plain": [
              "[[37],\n",
              " [38],\n",
              " [39],\n",
              " [40],\n",
              " [41],\n",
              " [42],\n",
              " [43],\n",
              " [44],\n",
              " [45],\n",
              " [46],\n",
              " [47],\n",
              " [48],\n",
              " [49],\n",
              " [50],\n",
              " [51],\n",
              " [52],\n",
              " [53],\n",
              " [31],\n",
              " [54],\n",
              " [55, 31],\n",
              " [56, 57],\n",
              " [58, 59],\n",
              " [60],\n",
              " [61, 32],\n",
              " [62],\n",
              " [63, 32],\n",
              " [33, 34],\n",
              " [64],\n",
              " [33, 34, 65],\n",
              " [1, 6, 4, 5],\n",
              " [1, 66, 4, 5],\n",
              " [1, 7, 8, 4, 5],\n",
              " [1, 2, 3, 4, 5],\n",
              " [3, 4, 5, 67],\n",
              " [3, 4, 5, 68],\n",
              " [3, 4, 5, 69],\n",
              " [18, 19],\n",
              " [20],\n",
              " [4, 21],\n",
              " [9],\n",
              " [22, 23, 5],\n",
              " [24, 25],\n",
              " [26],\n",
              " [1, 6, 18, 19],\n",
              " [1, 2, 7, 18, 19],\n",
              " [10, 11, 12, 13, 14, 15, 3, 18, 19],\n",
              " [1, 2, 16, 17, 8, 18, 19],\n",
              " [1, 2, 35, 28, 29, 30, 18, 19],\n",
              " [1, 6, 20, 27],\n",
              " [1, 2, 7, 20, 27],\n",
              " [10, 11, 12, 13, 14, 15, 3, 20, 27],\n",
              " [1, 2, 16, 17, 8, 20, 27],\n",
              " [1, 2, 35, 28, 29, 30, 20, 27],\n",
              " [1, 6, 4, 21],\n",
              " [1, 2, 7, 4, 21],\n",
              " [10, 11, 12, 13, 14, 15, 3, 4, 21],\n",
              " [1, 2, 16, 17, 8, 4, 21],\n",
              " [1, 6, 9],\n",
              " [1, 2, 7, 9],\n",
              " [10, 11, 12, 13, 14, 15, 3, 9],\n",
              " [1, 2, 16, 17, 8, 9],\n",
              " [1, 2, 36, 28, 29, 30, 3, 9],\n",
              " [1, 6, 22, 23, 5],\n",
              " [1, 2, 7, 22, 23, 5],\n",
              " [10, 11, 12, 13, 14, 15, 3, 22, 23, 5],\n",
              " [1, 2, 16, 17, 8, 22, 23, 5],\n",
              " [1, 6, 24, 25],\n",
              " [1, 2, 7, 24, 25],\n",
              " [10, 11, 12, 13, 14, 15, 3, 24, 25],\n",
              " [1, 2, 16, 17, 8, 24, 25],\n",
              " [1, 6, 26],\n",
              " [1, 2, 7, 9],\n",
              " [10, 11, 12, 13, 14, 15, 3, 26],\n",
              " [1, 2, 16, 17, 8, 26],\n",
              " [1, 2, 36, 28, 29, 30, 3, 26]]"
            ]
          },
          "execution_count": 3,
          "metadata": {},
          "output_type": "execute_result"
        }
      ],
      "source": [
        "# Tokenize the data (Tokenisasi Data)\n",
        "tokenizer = Tokenizer(num_words=2000)\n",
        "tokenizer.fit_on_texts(data['patterns'])\n",
        "train = tokenizer.texts_to_sequences(data['patterns'])\n",
        "train"
      ]
    },
    {
      "cell_type": "markdown",
      "metadata": {
        "id": "CbkPdzP-ykM6"
      },
      "source": [
        "## Padding"
      ]
    },
    {
      "cell_type": "code",
      "execution_count": 4,
      "metadata": {
        "colab": {
          "base_uri": "https://localhost:8080/"
        },
        "id": "TJSJ-MUYykM7",
        "outputId": "e37d4e96-f76a-4a7b-eb93-65cafd9a6fcc"
      },
      "outputs": [
        {
          "name": "stdout",
          "output_type": "stream",
          "text": [
            "[[ 0  0  0  0  0  0  0  0  0 37]\n",
            " [ 0  0  0  0  0  0  0  0  0 38]\n",
            " [ 0  0  0  0  0  0  0  0  0 39]\n",
            " [ 0  0  0  0  0  0  0  0  0 40]\n",
            " [ 0  0  0  0  0  0  0  0  0 41]\n",
            " [ 0  0  0  0  0  0  0  0  0 42]\n",
            " [ 0  0  0  0  0  0  0  0  0 43]\n",
            " [ 0  0  0  0  0  0  0  0  0 44]\n",
            " [ 0  0  0  0  0  0  0  0  0 45]\n",
            " [ 0  0  0  0  0  0  0  0  0 46]\n",
            " [ 0  0  0  0  0  0  0  0  0 47]\n",
            " [ 0  0  0  0  0  0  0  0  0 48]\n",
            " [ 0  0  0  0  0  0  0  0  0 49]\n",
            " [ 0  0  0  0  0  0  0  0  0 50]\n",
            " [ 0  0  0  0  0  0  0  0  0 51]\n",
            " [ 0  0  0  0  0  0  0  0  0 52]\n",
            " [ 0  0  0  0  0  0  0  0  0 53]\n",
            " [ 0  0  0  0  0  0  0  0  0 31]\n",
            " [ 0  0  0  0  0  0  0  0  0 54]\n",
            " [ 0  0  0  0  0  0  0  0 55 31]\n",
            " [ 0  0  0  0  0  0  0  0 56 57]\n",
            " [ 0  0  0  0  0  0  0  0 58 59]\n",
            " [ 0  0  0  0  0  0  0  0  0 60]\n",
            " [ 0  0  0  0  0  0  0  0 61 32]\n",
            " [ 0  0  0  0  0  0  0  0  0 62]\n",
            " [ 0  0  0  0  0  0  0  0 63 32]\n",
            " [ 0  0  0  0  0  0  0  0 33 34]\n",
            " [ 0  0  0  0  0  0  0  0  0 64]\n",
            " [ 0  0  0  0  0  0  0 33 34 65]\n",
            " [ 0  0  0  0  0  0  1  6  4  5]\n",
            " [ 0  0  0  0  0  0  1 66  4  5]\n",
            " [ 0  0  0  0  0  1  7  8  4  5]\n",
            " [ 0  0  0  0  0  1  2  3  4  5]\n",
            " [ 0  0  0  0  0  0  3  4  5 67]\n",
            " [ 0  0  0  0  0  0  3  4  5 68]\n",
            " [ 0  0  0  0  0  0  3  4  5 69]\n",
            " [ 0  0  0  0  0  0  0  0 18 19]\n",
            " [ 0  0  0  0  0  0  0  0  0 20]\n",
            " [ 0  0  0  0  0  0  0  0  4 21]\n",
            " [ 0  0  0  0  0  0  0  0  0  9]\n",
            " [ 0  0  0  0  0  0  0 22 23  5]\n",
            " [ 0  0  0  0  0  0  0  0 24 25]\n",
            " [ 0  0  0  0  0  0  0  0  0 26]\n",
            " [ 0  0  0  0  0  0  1  6 18 19]\n",
            " [ 0  0  0  0  0  1  2  7 18 19]\n",
            " [ 0 10 11 12 13 14 15  3 18 19]\n",
            " [ 0  0  0  1  2 16 17  8 18 19]\n",
            " [ 0  0  1  2 35 28 29 30 18 19]\n",
            " [ 0  0  0  0  0  0  1  6 20 27]\n",
            " [ 0  0  0  0  0  1  2  7 20 27]\n",
            " [ 0 10 11 12 13 14 15  3 20 27]\n",
            " [ 0  0  0  1  2 16 17  8 20 27]\n",
            " [ 0  0  1  2 35 28 29 30 20 27]\n",
            " [ 0  0  0  0  0  0  1  6  4 21]\n",
            " [ 0  0  0  0  0  1  2  7  4 21]\n",
            " [ 0 10 11 12 13 14 15  3  4 21]\n",
            " [ 0  0  0  1  2 16 17  8  4 21]\n",
            " [ 0  0  0  0  0  0  0  1  6  9]\n",
            " [ 0  0  0  0  0  0  1  2  7  9]\n",
            " [ 0  0 10 11 12 13 14 15  3  9]\n",
            " [ 0  0  0  0  1  2 16 17  8  9]\n",
            " [ 0  0  1  2 36 28 29 30  3  9]\n",
            " [ 0  0  0  0  0  1  6 22 23  5]\n",
            " [ 0  0  0  0  1  2  7 22 23  5]\n",
            " [10 11 12 13 14 15  3 22 23  5]\n",
            " [ 0  0  1  2 16 17  8 22 23  5]\n",
            " [ 0  0  0  0  0  0  1  6 24 25]\n",
            " [ 0  0  0  0  0  1  2  7 24 25]\n",
            " [ 0 10 11 12 13 14 15  3 24 25]\n",
            " [ 0  0  0  1  2 16 17  8 24 25]\n",
            " [ 0  0  0  0  0  0  0  1  6 26]\n",
            " [ 0  0  0  0  0  0  1  2  7  9]\n",
            " [ 0  0 10 11 12 13 14 15  3 26]\n",
            " [ 0  0  0  0  1  2 16 17  8 26]\n",
            " [ 0  0  1  2 36 28 29 30  3 26]]\n"
          ]
        }
      ],
      "source": [
        "# Melakukan proses padding pada data\n",
        "x_train = pad_sequences(train)\n",
        "# Menampilkan hasil padding\n",
        "print(x_train)"
      ]
    },
    {
      "cell_type": "markdown",
      "metadata": {
        "id": "YqmZVix_ykM8"
      },
      "source": [
        "## Encoding Text"
      ]
    },
    {
      "cell_type": "code",
      "execution_count": 5,
      "metadata": {
        "colab": {
          "base_uri": "https://localhost:8080/"
        },
        "id": "cn1TE6FsykM8",
        "outputId": "a974fba4-7b44-47d1-bdd8-fb5e631167c0"
      },
      "outputs": [
        {
          "name": "stdout",
          "output_type": "stream",
          "text": [
            "[ 1  1  1  1  1  1  1  1  1  1  1  1  1  1  1  0  0  0  0  0  0  0  0  0\n",
            " 36 36 36 36 36 16 37 30 35 35 35 35 35 35 35 35 35 35 35 20 34 27  8 12\n",
            " 17 31 24  5 11 15 29 23  4 13 28 21  2  9 19 33 26  7 18 32 25  6 14 28\n",
            " 22  3 10]\n"
          ]
        }
      ],
      "source": [
        "# Melakukan konversi data label tags dengan encoding\n",
        "le = LabelEncoder()\n",
        "y_train = le.fit_transform(data['tags'])\n",
        "print(y_train)"
      ]
    },
    {
      "cell_type": "markdown",
      "metadata": {
        "id": "BLvFUEmHykM9"
      },
      "source": [
        "## Input Length, Output Length and Vocabulary"
      ]
    },
    {
      "cell_type": "code",
      "execution_count": 6,
      "metadata": {
        "colab": {
          "base_uri": "https://localhost:8080/"
        },
        "id": "yU5iC369ykM-",
        "outputId": "184847b9-040b-434f-ee9b-4c3543e6dba3"
      },
      "outputs": [
        {
          "name": "stdout",
          "output_type": "stream",
          "text": [
            "10\n"
          ]
        }
      ],
      "source": [
        "# Melihat hasil input pada data teks\n",
        "input_shape = x_train.shape[1]\n",
        "print(input_shape)"
      ]
    },
    {
      "cell_type": "code",
      "execution_count": 7,
      "metadata": {
        "colab": {
          "base_uri": "https://localhost:8080/"
        },
        "id": "26jfn_99ykM_",
        "outputId": "c6af2c71-e545-4ff5-e190-a16902b67eb7"
      },
      "outputs": [
        {
          "name": "stdout",
          "output_type": "stream",
          "text": [
            "jumlah kata unik :  69\n",
            "panjang output:  38\n"
          ]
        }
      ],
      "source": [
        "# Melakukan definisi tiap kalimat dan kata pada data teks\n",
        "vocabulary = len(tokenizer.word_index)\n",
        "print(\"jumlah kata unik : \", vocabulary)\n",
        "\n",
        "# Melakukan pemeriksaan pada data output label teks\n",
        "output_length = le.classes_.shape[0]\n",
        "print(\"panjang output: \", output_length)"
      ]
    },
    {
      "cell_type": "markdown",
      "metadata": {
        "id": "ll0-FZ55ykNA"
      },
      "source": [
        "Input length dan output length terlihat sangat jelas hasilnya. Mereka adalah untuk bentuk input dan bentuk output dari data train atau latih yang akan diproses pada algoritma LSTM yang akan dilatih.\n",
        "\n",
        "Vocabulary Size adalah untuk lapisan penyematan untuk membuat representasi vektor unik untuk setiap kata."
      ]
    },
    {
      "cell_type": "markdown",
      "metadata": {
        "id": "9WLhL740ykNA"
      },
      "source": [
        "## Save Model Words & Classes"
      ]
    },
    {
      "cell_type": "code",
      "execution_count": 8,
      "metadata": {
        "id": "V6pjTNzAykNB"
      },
      "outputs": [],
      "source": [
        "# Simpan hasil pemrosesan teks dengan menggunakan pickle\n",
        "pickle.dump(words, open('words.pkl','wb'))\n",
        "pickle.dump(classes, open('classes.pkl','wb'))"
      ]
    },
    {
      "cell_type": "markdown",
      "metadata": {
        "id": "i5MS3qKjykNB"
      },
      "source": [
        "## Save Label Encoder & Tokenizer"
      ]
    },
    {
      "cell_type": "code",
      "execution_count": 9,
      "metadata": {
        "id": "ELhfjai0ykNC"
      },
      "outputs": [],
      "source": [
        "pickle.dump(le, open('le.pkl','wb'))\n",
        "pickle.dump(tokenizer, open('tokenizers.pkl','wb'))"
      ]
    },
    {
      "cell_type": "markdown",
      "metadata": {
        "id": "yrHZf9Rdr4pi"
      },
      "source": [
        "# MODEL"
      ]
    },
    {
      "cell_type": "code",
      "execution_count": 10,
      "metadata": {
        "id": "wTMM7B4h3bV2"
      },
      "outputs": [],
      "source": [
        "# Creating the model (Membuat Modelling)\n",
        "i = Input(shape=(input_shape,)) # Layer Input\n",
        "x = Embedding(vocabulary+1,10)(i) # Layer Embedding\n",
        "x = LSTM(10, return_sequences=True, recurrent_dropout=0.2)(x) # Layer Long Short Term Memory\n",
        "x = Flatten()(x) # Layer Flatten\n",
        "x = Dense(output_length, activation=\"softmax\")(x) # Layer Dense\n",
        "model  = Model(i,x) # Model yang telah disusun dari layer Input sampai layer Output\n",
        "\n",
        "# Compiling the model (Kompilasi Model)\n",
        "model.compile(loss=\"sparse_categorical_crossentropy\", optimizer='adam', metrics=['accuracy'])"
      ]
    },
    {
      "cell_type": "code",
      "execution_count": 11,
      "metadata": {
        "colab": {
          "base_uri": "https://localhost:8080/",
          "height": 533
        },
        "id": "kCI4EmXCyQ5q",
        "outputId": "5a5eab0c-525f-41d1-ddbc-43c7e2dd8402"
      },
      "outputs": [
        {
          "name": "stdout",
          "output_type": "stream",
          "text": [
            "You must install pydot (`pip install pydot`) and install graphviz (see instructions at https://graphviz.gitlab.io/download/) for plot_model to work.\n"
          ]
        }
      ],
      "source": [
        "# Visualization Plot Architecture Model (Visualisasi Plot Arsitektur Model)\n",
        "plot_model(model, to_file='model_plot.png', show_shapes=True, show_layer_names=True)"
      ]
    },
    {
      "cell_type": "code",
      "execution_count": 12,
      "metadata": {
        "colab": {
          "base_uri": "https://localhost:8080/"
        },
        "id": "Tq0qnNhRz6jf",
        "outputId": "a86500df-728a-45e2-d7db-9a0773e8d62b"
      },
      "outputs": [
        {
          "name": "stdout",
          "output_type": "stream",
          "text": [
            "Model: \"model\"\n",
            "_________________________________________________________________\n",
            " Layer (type)                Output Shape              Param #   \n",
            "=================================================================\n",
            " input_1 (InputLayer)        [(None, 10)]              0         \n",
            "                                                                 \n",
            " embedding (Embedding)       (None, 10, 10)            700       \n",
            "                                                                 \n",
            " lstm (LSTM)                 (None, 10, 10)            840       \n",
            "                                                                 \n",
            " flatten (Flatten)           (None, 100)               0         \n",
            "                                                                 \n",
            " dense (Dense)               (None, 38)                3838      \n",
            "                                                                 \n",
            "=================================================================\n",
            "Total params: 5378 (21.01 KB)\n",
            "Trainable params: 5378 (21.01 KB)\n",
            "Non-trainable params: 0 (0.00 Byte)\n",
            "_________________________________________________________________\n"
          ]
        }
      ],
      "source": [
        "# Menampilkan parameter pada model LSTM\n",
        "model.summary()"
      ]
    },
    {
      "cell_type": "code",
      "execution_count": 13,
      "metadata": {
        "colab": {
          "base_uri": "https://localhost:8080/"
        },
        "id": "C0pc-Drx0ZQt",
        "outputId": "9f6c8149-c179-4889-9d23-5d2fa685ee32"
      },
      "outputs": [
        {
          "name": "stdout",
          "output_type": "stream",
          "text": [
            "Epoch 1/350\n",
            "3/3 [==============================] - 4s 15ms/step - loss: 3.6365 - accuracy: 0.0133\n",
            "Epoch 2/350\n",
            "3/3 [==============================] - 0s 10ms/step - loss: 3.6289 - accuracy: 0.0400\n",
            "Epoch 3/350\n",
            "3/3 [==============================] - 0s 14ms/step - loss: 3.6224 - accuracy: 0.2400\n",
            "Epoch 4/350\n",
            "3/3 [==============================] - 0s 11ms/step - loss: 3.6147 - accuracy: 0.2533\n",
            "Epoch 5/350\n",
            "3/3 [==============================] - 0s 12ms/step - loss: 3.6061 - accuracy: 0.2800\n",
            "Epoch 6/350\n",
            "3/3 [==============================] - 0s 12ms/step - loss: 3.5954 - accuracy: 0.2533\n",
            "Epoch 7/350\n",
            "3/3 [==============================] - 0s 14ms/step - loss: 3.5837 - accuracy: 0.2533\n",
            "Epoch 8/350\n",
            "3/3 [==============================] - 0s 16ms/step - loss: 3.5683 - accuracy: 0.2533\n",
            "Epoch 9/350\n",
            "3/3 [==============================] - 0s 13ms/step - loss: 3.5515 - accuracy: 0.2533\n",
            "Epoch 10/350\n",
            "3/3 [==============================] - 0s 15ms/step - loss: 3.5292 - accuracy: 0.2133\n",
            "Epoch 11/350\n",
            "3/3 [==============================] - 0s 13ms/step - loss: 3.5014 - accuracy: 0.2000\n",
            "Epoch 12/350\n",
            "3/3 [==============================] - 0s 23ms/step - loss: 3.4731 - accuracy: 0.2000\n",
            "Epoch 13/350\n",
            "3/3 [==============================] - 0s 16ms/step - loss: 3.4318 - accuracy: 0.2000\n",
            "Epoch 14/350\n",
            "3/3 [==============================] - 0s 20ms/step - loss: 3.3904 - accuracy: 0.2000\n",
            "Epoch 15/350\n",
            "3/3 [==============================] - 0s 13ms/step - loss: 3.3328 - accuracy: 0.2000\n",
            "Epoch 16/350\n",
            "3/3 [==============================] - 0s 15ms/step - loss: 3.2718 - accuracy: 0.2000\n",
            "Epoch 17/350\n",
            "3/3 [==============================] - 0s 13ms/step - loss: 3.2002 - accuracy: 0.2000\n",
            "Epoch 18/350\n",
            "3/3 [==============================] - 0s 33ms/step - loss: 3.1245 - accuracy: 0.2000\n",
            "Epoch 19/350\n",
            "3/3 [==============================] - 0s 11ms/step - loss: 3.0438 - accuracy: 0.2000\n",
            "Epoch 20/350\n",
            "3/3 [==============================] - 0s 24ms/step - loss: 2.9664 - accuracy: 0.2000\n",
            "Epoch 21/350\n",
            "3/3 [==============================] - 0s 22ms/step - loss: 2.8879 - accuracy: 0.2000\n",
            "Epoch 22/350\n",
            "3/3 [==============================] - 0s 13ms/step - loss: 2.8459 - accuracy: 0.2000\n",
            "Epoch 23/350\n",
            "3/3 [==============================] - 0s 14ms/step - loss: 2.8186 - accuracy: 0.2000\n",
            "Epoch 24/350\n",
            "3/3 [==============================] - 0s 13ms/step - loss: 2.8238 - accuracy: 0.2000\n",
            "Epoch 25/350\n",
            "3/3 [==============================] - 0s 12ms/step - loss: 2.8190 - accuracy: 0.2000\n",
            "Epoch 26/350\n",
            "3/3 [==============================] - 0s 19ms/step - loss: 2.7957 - accuracy: 0.2000\n",
            "Epoch 27/350\n",
            "3/3 [==============================] - 0s 13ms/step - loss: 2.7601 - accuracy: 0.2000\n",
            "Epoch 28/350\n",
            "3/3 [==============================] - 0s 13ms/step - loss: 2.7347 - accuracy: 0.2000\n",
            "Epoch 29/350\n",
            "3/3 [==============================] - 0s 12ms/step - loss: 2.7205 - accuracy: 0.2000\n",
            "Epoch 30/350\n",
            "3/3 [==============================] - 0s 20ms/step - loss: 2.6950 - accuracy: 0.2133\n",
            "Epoch 31/350\n",
            "3/3 [==============================] - 0s 16ms/step - loss: 2.6901 - accuracy: 0.2133\n",
            "Epoch 32/350\n",
            "3/3 [==============================] - 0s 13ms/step - loss: 2.6598 - accuracy: 0.2133\n",
            "Epoch 33/350\n",
            "3/3 [==============================] - 0s 18ms/step - loss: 2.6446 - accuracy: 0.2133\n",
            "Epoch 34/350\n",
            "3/3 [==============================] - 0s 18ms/step - loss: 2.6339 - accuracy: 0.2267\n",
            "Epoch 35/350\n",
            "3/3 [==============================] - 0s 14ms/step - loss: 2.6084 - accuracy: 0.2267\n",
            "Epoch 36/350\n",
            "3/3 [==============================] - 0s 13ms/step - loss: 2.5974 - accuracy: 0.2267\n",
            "Epoch 37/350\n",
            "3/3 [==============================] - 0s 19ms/step - loss: 2.5796 - accuracy: 0.2533\n",
            "Epoch 38/350\n",
            "3/3 [==============================] - 0s 14ms/step - loss: 2.5702 - accuracy: 0.2400\n",
            "Epoch 39/350\n",
            "3/3 [==============================] - 0s 17ms/step - loss: 2.5454 - accuracy: 0.2533\n",
            "Epoch 40/350\n",
            "3/3 [==============================] - 0s 18ms/step - loss: 2.5319 - accuracy: 0.2533\n",
            "Epoch 41/350\n",
            "3/3 [==============================] - 0s 13ms/step - loss: 2.5137 - accuracy: 0.2400\n",
            "Epoch 42/350\n",
            "3/3 [==============================] - 0s 12ms/step - loss: 2.4922 - accuracy: 0.2667\n",
            "Epoch 43/350\n",
            "3/3 [==============================] - 0s 13ms/step - loss: 2.4788 - accuracy: 0.2533\n",
            "Epoch 44/350\n",
            "3/3 [==============================] - 0s 11ms/step - loss: 2.4699 - accuracy: 0.2667\n",
            "Epoch 45/350\n",
            "3/3 [==============================] - 0s 12ms/step - loss: 2.4492 - accuracy: 0.2667\n",
            "Epoch 46/350\n",
            "3/3 [==============================] - 0s 14ms/step - loss: 2.4413 - accuracy: 0.3067\n",
            "Epoch 47/350\n",
            "3/3 [==============================] - 0s 14ms/step - loss: 2.4202 - accuracy: 0.2800\n",
            "Epoch 48/350\n",
            "3/3 [==============================] - 0s 16ms/step - loss: 2.4121 - accuracy: 0.2667\n",
            "Epoch 49/350\n",
            "3/3 [==============================] - 0s 13ms/step - loss: 2.3968 - accuracy: 0.3067\n",
            "Epoch 50/350\n",
            "3/3 [==============================] - 0s 17ms/step - loss: 2.3849 - accuracy: 0.3067\n",
            "Epoch 51/350\n",
            "3/3 [==============================] - 0s 14ms/step - loss: 2.3556 - accuracy: 0.2933\n",
            "Epoch 52/350\n",
            "3/3 [==============================] - 0s 18ms/step - loss: 2.3475 - accuracy: 0.2667\n",
            "Epoch 53/350\n",
            "3/3 [==============================] - 0s 16ms/step - loss: 2.3440 - accuracy: 0.2667\n",
            "Epoch 54/350\n",
            "3/3 [==============================] - 0s 18ms/step - loss: 2.3319 - accuracy: 0.2933\n",
            "Epoch 55/350\n",
            "3/3 [==============================] - 0s 15ms/step - loss: 2.3125 - accuracy: 0.2533\n",
            "Epoch 56/350\n",
            "3/3 [==============================] - 0s 16ms/step - loss: 2.3021 - accuracy: 0.2533\n",
            "Epoch 57/350\n",
            "3/3 [==============================] - 0s 12ms/step - loss: 2.2868 - accuracy: 0.2667\n",
            "Epoch 58/350\n",
            "3/3 [==============================] - 0s 13ms/step - loss: 2.2770 - accuracy: 0.2800\n",
            "Epoch 59/350\n",
            "3/3 [==============================] - 0s 14ms/step - loss: 2.2628 - accuracy: 0.2667\n",
            "Epoch 60/350\n",
            "3/3 [==============================] - 0s 13ms/step - loss: 2.2490 - accuracy: 0.2800\n",
            "Epoch 61/350\n",
            "3/3 [==============================] - 0s 13ms/step - loss: 2.2520 - accuracy: 0.2667\n",
            "Epoch 62/350\n",
            "3/3 [==============================] - 0s 12ms/step - loss: 2.2308 - accuracy: 0.3067\n",
            "Epoch 63/350\n",
            "3/3 [==============================] - 0s 13ms/step - loss: 2.2168 - accuracy: 0.2933\n",
            "Epoch 64/350\n",
            "3/3 [==============================] - 0s 14ms/step - loss: 2.2138 - accuracy: 0.3067\n",
            "Epoch 65/350\n",
            "3/3 [==============================] - 0s 15ms/step - loss: 2.2008 - accuracy: 0.3067\n",
            "Epoch 66/350\n",
            "3/3 [==============================] - 0s 14ms/step - loss: 2.1779 - accuracy: 0.3200\n",
            "Epoch 67/350\n",
            "3/3 [==============================] - 0s 13ms/step - loss: 2.1647 - accuracy: 0.3067\n",
            "Epoch 68/350\n",
            "3/3 [==============================] - 0s 14ms/step - loss: 2.1736 - accuracy: 0.3067\n",
            "Epoch 69/350\n",
            "3/3 [==============================] - 0s 22ms/step - loss: 2.1454 - accuracy: 0.3200\n",
            "Epoch 70/350\n",
            "3/3 [==============================] - 0s 11ms/step - loss: 2.1359 - accuracy: 0.3333\n",
            "Epoch 71/350\n",
            "3/3 [==============================] - 0s 43ms/step - loss: 2.1291 - accuracy: 0.3600\n",
            "Epoch 72/350\n",
            "3/3 [==============================] - 0s 13ms/step - loss: 2.1185 - accuracy: 0.3467\n",
            "Epoch 73/350\n",
            "3/3 [==============================] - 0s 14ms/step - loss: 2.1086 - accuracy: 0.3200\n",
            "Epoch 74/350\n",
            "3/3 [==============================] - 0s 13ms/step - loss: 2.1025 - accuracy: 0.3600\n",
            "Epoch 75/350\n",
            "3/3 [==============================] - 0s 17ms/step - loss: 2.0940 - accuracy: 0.3333\n",
            "Epoch 76/350\n",
            "3/3 [==============================] - 0s 13ms/step - loss: 2.0733 - accuracy: 0.3467\n",
            "Epoch 77/350\n",
            "3/3 [==============================] - 0s 13ms/step - loss: 2.0679 - accuracy: 0.3600\n",
            "Epoch 78/350\n",
            "3/3 [==============================] - 0s 17ms/step - loss: 2.0415 - accuracy: 0.3733\n",
            "Epoch 79/350\n",
            "3/3 [==============================] - 0s 16ms/step - loss: 2.0394 - accuracy: 0.3600\n",
            "Epoch 80/350\n",
            "3/3 [==============================] - 0s 13ms/step - loss: 2.0285 - accuracy: 0.3600\n",
            "Epoch 81/350\n",
            "3/3 [==============================] - 0s 15ms/step - loss: 2.0151 - accuracy: 0.3867\n",
            "Epoch 82/350\n",
            "3/3 [==============================] - 0s 12ms/step - loss: 2.0147 - accuracy: 0.3733\n",
            "Epoch 83/350\n",
            "3/3 [==============================] - 0s 12ms/step - loss: 1.9902 - accuracy: 0.3733\n",
            "Epoch 84/350\n",
            "3/3 [==============================] - 0s 13ms/step - loss: 1.9803 - accuracy: 0.3733\n",
            "Epoch 85/350\n",
            "3/3 [==============================] - 0s 21ms/step - loss: 1.9801 - accuracy: 0.3867\n",
            "Epoch 86/350\n",
            "3/3 [==============================] - 0s 13ms/step - loss: 1.9675 - accuracy: 0.3867\n",
            "Epoch 87/350\n",
            "3/3 [==============================] - 0s 19ms/step - loss: 1.9523 - accuracy: 0.3733\n",
            "Epoch 88/350\n",
            "3/3 [==============================] - 0s 14ms/step - loss: 1.9423 - accuracy: 0.3733\n",
            "Epoch 89/350\n",
            "3/3 [==============================] - 0s 15ms/step - loss: 1.9361 - accuracy: 0.3867\n",
            "Epoch 90/350\n",
            "3/3 [==============================] - 0s 15ms/step - loss: 1.9241 - accuracy: 0.3733\n",
            "Epoch 91/350\n",
            "3/3 [==============================] - 0s 15ms/step - loss: 1.9115 - accuracy: 0.3733\n",
            "Epoch 92/350\n",
            "3/3 [==============================] - 0s 14ms/step - loss: 1.9099 - accuracy: 0.3867\n",
            "Epoch 93/350\n",
            "3/3 [==============================] - 0s 17ms/step - loss: 1.8924 - accuracy: 0.4133\n",
            "Epoch 94/350\n",
            "3/3 [==============================] - 0s 25ms/step - loss: 1.8828 - accuracy: 0.3733\n",
            "Epoch 95/350\n",
            "3/3 [==============================] - 0s 13ms/step - loss: 1.8644 - accuracy: 0.4133\n",
            "Epoch 96/350\n",
            "3/3 [==============================] - 0s 22ms/step - loss: 1.8621 - accuracy: 0.4000\n",
            "Epoch 97/350\n",
            "3/3 [==============================] - 0s 11ms/step - loss: 1.8403 - accuracy: 0.4000\n",
            "Epoch 98/350\n",
            "3/3 [==============================] - 0s 14ms/step - loss: 1.8248 - accuracy: 0.4133\n",
            "Epoch 99/350\n",
            "3/3 [==============================] - 0s 25ms/step - loss: 1.8209 - accuracy: 0.4133\n",
            "Epoch 100/350\n",
            "3/3 [==============================] - 0s 14ms/step - loss: 1.8094 - accuracy: 0.4267\n",
            "Epoch 101/350\n",
            "3/3 [==============================] - 0s 22ms/step - loss: 1.8026 - accuracy: 0.4133\n",
            "Epoch 102/350\n",
            "3/3 [==============================] - 0s 12ms/step - loss: 1.7869 - accuracy: 0.4400\n",
            "Epoch 103/350\n",
            "3/3 [==============================] - 0s 23ms/step - loss: 1.7803 - accuracy: 0.4267\n",
            "Epoch 104/350\n",
            "3/3 [==============================] - 0s 12ms/step - loss: 1.7689 - accuracy: 0.4267\n",
            "Epoch 105/350\n",
            "3/3 [==============================] - 0s 13ms/step - loss: 1.7635 - accuracy: 0.4400\n",
            "Epoch 106/350\n",
            "3/3 [==============================] - 0s 14ms/step - loss: 1.7536 - accuracy: 0.4133\n",
            "Epoch 107/350\n",
            "3/3 [==============================] - 0s 16ms/step - loss: 1.7337 - accuracy: 0.4400\n",
            "Epoch 108/350\n",
            "3/3 [==============================] - 0s 20ms/step - loss: 1.7220 - accuracy: 0.4400\n",
            "Epoch 109/350\n",
            "3/3 [==============================] - 0s 14ms/step - loss: 1.7079 - accuracy: 0.4400\n",
            "Epoch 110/350\n",
            "3/3 [==============================] - 0s 16ms/step - loss: 1.7060 - accuracy: 0.4533\n",
            "Epoch 111/350\n",
            "3/3 [==============================] - 0s 20ms/step - loss: 1.7083 - accuracy: 0.4267\n",
            "Epoch 112/350\n",
            "3/3 [==============================] - 0s 12ms/step - loss: 1.6916 - accuracy: 0.4267\n",
            "Epoch 113/350\n",
            "3/3 [==============================] - 0s 15ms/step - loss: 1.6674 - accuracy: 0.4533\n",
            "Epoch 114/350\n",
            "3/3 [==============================] - 0s 16ms/step - loss: 1.6660 - accuracy: 0.4800\n",
            "Epoch 115/350\n",
            "3/3 [==============================] - 0s 16ms/step - loss: 1.6548 - accuracy: 0.4800\n",
            "Epoch 116/350\n",
            "3/3 [==============================] - 0s 13ms/step - loss: 1.6352 - accuracy: 0.4933\n",
            "Epoch 117/350\n",
            "3/3 [==============================] - 0s 13ms/step - loss: 1.6437 - accuracy: 0.4667\n",
            "Epoch 118/350\n",
            "3/3 [==============================] - 0s 36ms/step - loss: 1.6348 - accuracy: 0.4933\n",
            "Epoch 119/350\n",
            "3/3 [==============================] - 0s 14ms/step - loss: 1.6189 - accuracy: 0.4267\n",
            "Epoch 120/350\n",
            "3/3 [==============================] - 0s 16ms/step - loss: 1.6079 - accuracy: 0.4800\n",
            "Epoch 121/350\n",
            "3/3 [==============================] - 0s 13ms/step - loss: 1.6021 - accuracy: 0.4800\n",
            "Epoch 122/350\n",
            "3/3 [==============================] - 0s 13ms/step - loss: 1.5909 - accuracy: 0.5067\n",
            "Epoch 123/350\n",
            "3/3 [==============================] - 0s 20ms/step - loss: 1.5839 - accuracy: 0.4933\n",
            "Epoch 124/350\n",
            "3/3 [==============================] - 0s 14ms/step - loss: 1.5665 - accuracy: 0.4933\n",
            "Epoch 125/350\n",
            "3/3 [==============================] - 0s 14ms/step - loss: 1.5583 - accuracy: 0.4933\n",
            "Epoch 126/350\n",
            "3/3 [==============================] - 0s 13ms/step - loss: 1.5438 - accuracy: 0.5600\n",
            "Epoch 127/350\n",
            "3/3 [==============================] - 0s 16ms/step - loss: 1.5354 - accuracy: 0.5200\n",
            "Epoch 128/350\n",
            "3/3 [==============================] - 0s 14ms/step - loss: 1.5360 - accuracy: 0.5067\n",
            "Epoch 129/350\n",
            "3/3 [==============================] - 0s 13ms/step - loss: 1.5287 - accuracy: 0.5200\n",
            "Epoch 130/350\n",
            "3/3 [==============================] - 0s 25ms/step - loss: 1.5209 - accuracy: 0.5200\n",
            "Epoch 131/350\n",
            "3/3 [==============================] - 0s 15ms/step - loss: 1.5158 - accuracy: 0.5200\n",
            "Epoch 132/350\n",
            "3/3 [==============================] - 0s 20ms/step - loss: 1.4963 - accuracy: 0.5067\n",
            "Epoch 133/350\n",
            "3/3 [==============================] - 0s 16ms/step - loss: 1.4902 - accuracy: 0.5333\n",
            "Epoch 134/350\n",
            "3/3 [==============================] - 0s 11ms/step - loss: 1.4806 - accuracy: 0.5600\n",
            "Epoch 135/350\n",
            "3/3 [==============================] - 0s 13ms/step - loss: 1.4795 - accuracy: 0.5333\n",
            "Epoch 136/350\n",
            "3/3 [==============================] - 0s 18ms/step - loss: 1.4681 - accuracy: 0.5867\n",
            "Epoch 137/350\n",
            "3/3 [==============================] - 0s 32ms/step - loss: 1.4687 - accuracy: 0.5200\n",
            "Epoch 138/350\n",
            "3/3 [==============================] - 0s 14ms/step - loss: 1.4564 - accuracy: 0.5200\n",
            "Epoch 139/350\n",
            "3/3 [==============================] - 0s 41ms/step - loss: 1.4468 - accuracy: 0.5333\n",
            "Epoch 140/350\n",
            "3/3 [==============================] - 0s 15ms/step - loss: 1.4363 - accuracy: 0.5333\n",
            "Epoch 141/350\n",
            "3/3 [==============================] - 0s 15ms/step - loss: 1.4191 - accuracy: 0.5467\n",
            "Epoch 142/350\n",
            "3/3 [==============================] - 0s 13ms/step - loss: 1.4127 - accuracy: 0.5467\n",
            "Epoch 143/350\n",
            "3/3 [==============================] - 0s 13ms/step - loss: 1.4105 - accuracy: 0.5600\n",
            "Epoch 144/350\n",
            "3/3 [==============================] - 0s 13ms/step - loss: 1.3932 - accuracy: 0.5467\n",
            "Epoch 145/350\n",
            "3/3 [==============================] - 0s 15ms/step - loss: 1.3943 - accuracy: 0.5467\n",
            "Epoch 146/350\n",
            "3/3 [==============================] - 0s 14ms/step - loss: 1.3872 - accuracy: 0.5333\n",
            "Epoch 147/350\n",
            "3/3 [==============================] - 0s 20ms/step - loss: 1.3796 - accuracy: 0.5333\n",
            "Epoch 148/350\n",
            "3/3 [==============================] - 0s 12ms/step - loss: 1.3607 - accuracy: 0.5467\n",
            "Epoch 149/350\n",
            "3/3 [==============================] - 0s 12ms/step - loss: 1.3620 - accuracy: 0.5467\n",
            "Epoch 150/350\n",
            "3/3 [==============================] - 0s 13ms/step - loss: 1.3612 - accuracy: 0.5467\n",
            "Epoch 151/350\n",
            "3/3 [==============================] - 0s 15ms/step - loss: 1.3527 - accuracy: 0.5600\n",
            "Epoch 152/350\n",
            "3/3 [==============================] - 0s 14ms/step - loss: 1.3348 - accuracy: 0.5733\n",
            "Epoch 153/350\n",
            "3/3 [==============================] - 0s 12ms/step - loss: 1.3289 - accuracy: 0.5467\n",
            "Epoch 154/350\n",
            "3/3 [==============================] - 0s 15ms/step - loss: 1.3255 - accuracy: 0.5333\n",
            "Epoch 155/350\n",
            "3/3 [==============================] - 0s 12ms/step - loss: 1.3143 - accuracy: 0.5733\n",
            "Epoch 156/350\n",
            "3/3 [==============================] - 0s 13ms/step - loss: 1.3040 - accuracy: 0.5867\n",
            "Epoch 157/350\n",
            "3/3 [==============================] - 0s 17ms/step - loss: 1.2928 - accuracy: 0.6000\n",
            "Epoch 158/350\n",
            "3/3 [==============================] - 0s 22ms/step - loss: 1.2816 - accuracy: 0.6000\n",
            "Epoch 159/350\n",
            "3/3 [==============================] - 0s 33ms/step - loss: 1.2919 - accuracy: 0.5867\n",
            "Epoch 160/350\n",
            "3/3 [==============================] - 0s 12ms/step - loss: 1.2787 - accuracy: 0.6133\n",
            "Epoch 161/350\n",
            "3/3 [==============================] - 0s 15ms/step - loss: 1.2776 - accuracy: 0.6000\n",
            "Epoch 162/350\n",
            "3/3 [==============================] - 0s 13ms/step - loss: 1.2693 - accuracy: 0.6133\n",
            "Epoch 163/350\n",
            "3/3 [==============================] - 0s 12ms/step - loss: 1.2499 - accuracy: 0.6133\n",
            "Epoch 164/350\n",
            "3/3 [==============================] - 0s 12ms/step - loss: 1.2288 - accuracy: 0.6533\n",
            "Epoch 165/350\n",
            "3/3 [==============================] - 0s 16ms/step - loss: 1.2384 - accuracy: 0.5867\n",
            "Epoch 166/350\n",
            "3/3 [==============================] - 0s 17ms/step - loss: 1.2315 - accuracy: 0.6133\n",
            "Epoch 167/350\n",
            "3/3 [==============================] - 0s 15ms/step - loss: 1.2263 - accuracy: 0.6267\n",
            "Epoch 168/350\n",
            "3/3 [==============================] - 0s 17ms/step - loss: 1.2285 - accuracy: 0.6133\n",
            "Epoch 169/350\n",
            "3/3 [==============================] - 0s 13ms/step - loss: 1.2099 - accuracy: 0.6267\n",
            "Epoch 170/350\n",
            "3/3 [==============================] - 0s 14ms/step - loss: 1.2098 - accuracy: 0.6400\n",
            "Epoch 171/350\n",
            "3/3 [==============================] - 0s 16ms/step - loss: 1.1939 - accuracy: 0.6667\n",
            "Epoch 172/350\n",
            "3/3 [==============================] - 0s 13ms/step - loss: 1.1845 - accuracy: 0.6267\n",
            "Epoch 173/350\n",
            "3/3 [==============================] - 0s 14ms/step - loss: 1.1721 - accuracy: 0.6133\n",
            "Epoch 174/350\n",
            "3/3 [==============================] - 0s 13ms/step - loss: 1.1760 - accuracy: 0.6533\n",
            "Epoch 175/350\n",
            "3/3 [==============================] - 0s 17ms/step - loss: 1.1708 - accuracy: 0.6133\n",
            "Epoch 176/350\n",
            "3/3 [==============================] - 0s 13ms/step - loss: 1.1612 - accuracy: 0.6000\n",
            "Epoch 177/350\n",
            "3/3 [==============================] - 0s 14ms/step - loss: 1.1433 - accuracy: 0.6133\n",
            "Epoch 178/350\n",
            "3/3 [==============================] - 0s 15ms/step - loss: 1.1415 - accuracy: 0.5867\n",
            "Epoch 179/350\n",
            "3/3 [==============================] - 0s 13ms/step - loss: 1.1310 - accuracy: 0.6400\n",
            "Epoch 180/350\n",
            "3/3 [==============================] - 0s 18ms/step - loss: 1.1252 - accuracy: 0.6267\n",
            "Epoch 181/350\n",
            "3/3 [==============================] - 0s 14ms/step - loss: 1.1126 - accuracy: 0.6667\n",
            "Epoch 182/350\n",
            "3/3 [==============================] - 0s 32ms/step - loss: 1.1029 - accuracy: 0.6667\n",
            "Epoch 183/350\n",
            "3/3 [==============================] - 0s 12ms/step - loss: 1.0915 - accuracy: 0.6133\n",
            "Epoch 184/350\n",
            "3/3 [==============================] - 0s 14ms/step - loss: 1.0874 - accuracy: 0.6267\n",
            "Epoch 185/350\n",
            "3/3 [==============================] - 0s 17ms/step - loss: 1.0835 - accuracy: 0.6000\n",
            "Epoch 186/350\n",
            "3/3 [==============================] - 0s 19ms/step - loss: 1.0767 - accuracy: 0.6133\n",
            "Epoch 187/350\n",
            "3/3 [==============================] - 0s 11ms/step - loss: 1.0570 - accuracy: 0.6400\n",
            "Epoch 188/350\n",
            "3/3 [==============================] - 0s 14ms/step - loss: 1.0622 - accuracy: 0.6000\n",
            "Epoch 189/350\n",
            "3/3 [==============================] - 0s 18ms/step - loss: 1.0556 - accuracy: 0.6533\n",
            "Epoch 190/350\n",
            "3/3 [==============================] - 0s 16ms/step - loss: 1.0431 - accuracy: 0.6400\n",
            "Epoch 191/350\n",
            "3/3 [==============================] - 0s 14ms/step - loss: 1.0296 - accuracy: 0.6267\n",
            "Epoch 192/350\n",
            "3/3 [==============================] - 0s 14ms/step - loss: 1.0333 - accuracy: 0.6400\n",
            "Epoch 193/350\n",
            "3/3 [==============================] - 0s 15ms/step - loss: 1.0230 - accuracy: 0.6400\n",
            "Epoch 194/350\n",
            "3/3 [==============================] - 0s 19ms/step - loss: 1.0171 - accuracy: 0.6933\n",
            "Epoch 195/350\n",
            "3/3 [==============================] - 0s 18ms/step - loss: 1.0128 - accuracy: 0.7600\n",
            "Epoch 196/350\n",
            "3/3 [==============================] - 0s 13ms/step - loss: 0.9980 - accuracy: 0.7600\n",
            "Epoch 197/350\n",
            "3/3 [==============================] - 0s 16ms/step - loss: 0.9904 - accuracy: 0.7600\n",
            "Epoch 198/350\n",
            "3/3 [==============================] - 0s 11ms/step - loss: 0.9855 - accuracy: 0.7733\n",
            "Epoch 199/350\n",
            "3/3 [==============================] - 0s 14ms/step - loss: 0.9638 - accuracy: 0.8000\n",
            "Epoch 200/350\n",
            "3/3 [==============================] - 0s 11ms/step - loss: 0.9657 - accuracy: 0.7733\n",
            "Epoch 201/350\n",
            "3/3 [==============================] - 0s 22ms/step - loss: 0.9553 - accuracy: 0.7467\n",
            "Epoch 202/350\n",
            "3/3 [==============================] - 0s 19ms/step - loss: 0.9492 - accuracy: 0.7467\n",
            "Epoch 203/350\n",
            "3/3 [==============================] - 0s 13ms/step - loss: 0.9409 - accuracy: 0.7467\n",
            "Epoch 204/350\n",
            "3/3 [==============================] - 0s 22ms/step - loss: 0.9349 - accuracy: 0.7867\n",
            "Epoch 205/350\n",
            "3/3 [==============================] - 0s 22ms/step - loss: 0.9136 - accuracy: 0.8533\n",
            "Epoch 206/350\n",
            "3/3 [==============================] - 0s 15ms/step - loss: 0.9165 - accuracy: 0.8267\n",
            "Epoch 207/350\n",
            "3/3 [==============================] - 0s 14ms/step - loss: 0.9015 - accuracy: 0.8533\n",
            "Epoch 208/350\n",
            "3/3 [==============================] - 0s 12ms/step - loss: 0.9008 - accuracy: 0.8267\n",
            "Epoch 209/350\n",
            "3/3 [==============================] - 0s 14ms/step - loss: 0.8952 - accuracy: 0.8533\n",
            "Epoch 210/350\n",
            "3/3 [==============================] - 0s 13ms/step - loss: 0.8863 - accuracy: 0.8533\n",
            "Epoch 211/350\n",
            "3/3 [==============================] - 0s 18ms/step - loss: 0.8798 - accuracy: 0.8267\n",
            "Epoch 212/350\n",
            "3/3 [==============================] - 0s 13ms/step - loss: 0.8716 - accuracy: 0.8400\n",
            "Epoch 213/350\n",
            "3/3 [==============================] - 0s 12ms/step - loss: 0.8636 - accuracy: 0.8533\n",
            "Epoch 214/350\n",
            "3/3 [==============================] - 0s 14ms/step - loss: 0.8463 - accuracy: 0.8533\n",
            "Epoch 215/350\n",
            "3/3 [==============================] - 0s 14ms/step - loss: 0.8500 - accuracy: 0.8133\n",
            "Epoch 216/350\n",
            "3/3 [==============================] - 0s 14ms/step - loss: 0.8410 - accuracy: 0.8000\n",
            "Epoch 217/350\n",
            "3/3 [==============================] - 0s 22ms/step - loss: 0.8376 - accuracy: 0.8533\n",
            "Epoch 218/350\n",
            "3/3 [==============================] - 0s 13ms/step - loss: 0.8280 - accuracy: 0.8533\n",
            "Epoch 219/350\n",
            "3/3 [==============================] - 0s 14ms/step - loss: 0.8234 - accuracy: 0.8800\n",
            "Epoch 220/350\n",
            "3/3 [==============================] - 0s 14ms/step - loss: 0.8159 - accuracy: 0.8267\n",
            "Epoch 221/350\n",
            "3/3 [==============================] - 0s 14ms/step - loss: 0.8122 - accuracy: 0.8533\n",
            "Epoch 222/350\n",
            "3/3 [==============================] - 0s 13ms/step - loss: 0.8021 - accuracy: 0.8533\n",
            "Epoch 223/350\n",
            "3/3 [==============================] - 0s 14ms/step - loss: 0.7957 - accuracy: 0.8667\n",
            "Epoch 224/350\n",
            "3/3 [==============================] - 0s 15ms/step - loss: 0.7882 - accuracy: 0.8667\n",
            "Epoch 225/350\n",
            "3/3 [==============================] - 0s 13ms/step - loss: 0.7778 - accuracy: 0.8933\n",
            "Epoch 226/350\n",
            "3/3 [==============================] - 0s 13ms/step - loss: 0.7740 - accuracy: 0.8933\n",
            "Epoch 227/350\n",
            "3/3 [==============================] - 0s 32ms/step - loss: 0.7543 - accuracy: 0.8800\n",
            "Epoch 228/350\n",
            "3/3 [==============================] - 0s 15ms/step - loss: 0.7649 - accuracy: 0.8267\n",
            "Epoch 229/350\n",
            "3/3 [==============================] - 0s 34ms/step - loss: 0.7551 - accuracy: 0.8667\n",
            "Epoch 230/350\n",
            "3/3 [==============================] - 0s 20ms/step - loss: 0.7548 - accuracy: 0.8533\n",
            "Epoch 231/350\n",
            "3/3 [==============================] - 0s 13ms/step - loss: 0.7411 - accuracy: 0.8667\n",
            "Epoch 232/350\n",
            "3/3 [==============================] - 0s 13ms/step - loss: 0.7307 - accuracy: 0.8667\n",
            "Epoch 233/350\n",
            "3/3 [==============================] - 0s 12ms/step - loss: 0.7296 - accuracy: 0.8667\n",
            "Epoch 234/350\n",
            "3/3 [==============================] - 0s 12ms/step - loss: 0.7314 - accuracy: 0.8533\n",
            "Epoch 235/350\n",
            "3/3 [==============================] - 0s 16ms/step - loss: 0.7198 - accuracy: 0.8800\n",
            "Epoch 236/350\n",
            "3/3 [==============================] - 0s 30ms/step - loss: 0.7116 - accuracy: 0.8667\n",
            "Epoch 237/350\n",
            "3/3 [==============================] - 0s 16ms/step - loss: 0.6991 - accuracy: 0.8667\n",
            "Epoch 238/350\n",
            "3/3 [==============================] - 0s 19ms/step - loss: 0.7013 - accuracy: 0.8667\n",
            "Epoch 239/350\n",
            "3/3 [==============================] - 0s 13ms/step - loss: 0.6999 - accuracy: 0.8800\n",
            "Epoch 240/350\n",
            "3/3 [==============================] - 0s 15ms/step - loss: 0.6960 - accuracy: 0.8667\n",
            "Epoch 241/350\n",
            "3/3 [==============================] - 0s 13ms/step - loss: 0.6852 - accuracy: 0.8800\n",
            "Epoch 242/350\n",
            "3/3 [==============================] - 0s 15ms/step - loss: 0.6751 - accuracy: 0.8800\n",
            "Epoch 243/350\n",
            "3/3 [==============================] - 0s 16ms/step - loss: 0.6773 - accuracy: 0.8667\n",
            "Epoch 244/350\n",
            "3/3 [==============================] - 0s 13ms/step - loss: 0.6717 - accuracy: 0.8800\n",
            "Epoch 245/350\n",
            "3/3 [==============================] - 0s 13ms/step - loss: 0.6612 - accuracy: 0.8933\n",
            "Epoch 246/350\n",
            "3/3 [==============================] - 0s 14ms/step - loss: 0.6479 - accuracy: 0.9200\n",
            "Epoch 247/350\n",
            "3/3 [==============================] - 0s 41ms/step - loss: 0.6504 - accuracy: 0.8667\n",
            "Epoch 248/350\n",
            "3/3 [==============================] - 0s 15ms/step - loss: 0.6442 - accuracy: 0.9200\n",
            "Epoch 249/350\n",
            "3/3 [==============================] - 0s 30ms/step - loss: 0.6363 - accuracy: 0.9200\n",
            "Epoch 250/350\n",
            "3/3 [==============================] - 0s 23ms/step - loss: 0.6335 - accuracy: 0.8800\n",
            "Epoch 251/350\n",
            "3/3 [==============================] - 0s 13ms/step - loss: 0.6277 - accuracy: 0.8800\n",
            "Epoch 252/350\n",
            "3/3 [==============================] - 0s 13ms/step - loss: 0.6263 - accuracy: 0.9200\n",
            "Epoch 253/350\n",
            "3/3 [==============================] - 0s 19ms/step - loss: 0.6244 - accuracy: 0.8800\n",
            "Epoch 254/350\n",
            "3/3 [==============================] - 0s 17ms/step - loss: 0.6184 - accuracy: 0.9200\n",
            "Epoch 255/350\n",
            "3/3 [==============================] - 0s 12ms/step - loss: 0.6064 - accuracy: 0.9067\n",
            "Epoch 256/350\n",
            "3/3 [==============================] - 0s 13ms/step - loss: 0.6150 - accuracy: 0.8667\n",
            "Epoch 257/350\n",
            "3/3 [==============================] - 0s 14ms/step - loss: 0.5981 - accuracy: 0.8800\n",
            "Epoch 258/350\n",
            "3/3 [==============================] - 0s 13ms/step - loss: 0.5908 - accuracy: 0.9067\n",
            "Epoch 259/350\n",
            "3/3 [==============================] - 0s 19ms/step - loss: 0.5994 - accuracy: 0.9333\n",
            "Epoch 260/350\n",
            "3/3 [==============================] - 0s 12ms/step - loss: 0.5865 - accuracy: 0.9067\n",
            "Epoch 261/350\n",
            "3/3 [==============================] - 0s 15ms/step - loss: 0.5874 - accuracy: 0.8933\n",
            "Epoch 262/350\n",
            "3/3 [==============================] - 0s 11ms/step - loss: 0.5749 - accuracy: 0.8800\n",
            "Epoch 263/350\n",
            "3/3 [==============================] - 0s 13ms/step - loss: 0.5736 - accuracy: 0.9067\n",
            "Epoch 264/350\n",
            "3/3 [==============================] - 0s 19ms/step - loss: 0.5688 - accuracy: 0.9067\n",
            "Epoch 265/350\n",
            "3/3 [==============================] - 0s 12ms/step - loss: 0.5651 - accuracy: 0.9200\n",
            "Epoch 266/350\n",
            "3/3 [==============================] - 0s 12ms/step - loss: 0.5593 - accuracy: 0.8800\n",
            "Epoch 267/350\n",
            "3/3 [==============================] - 0s 16ms/step - loss: 0.5540 - accuracy: 0.9200\n",
            "Epoch 268/350\n",
            "3/3 [==============================] - 0s 15ms/step - loss: 0.5522 - accuracy: 0.9067\n",
            "Epoch 269/350\n",
            "3/3 [==============================] - 0s 16ms/step - loss: 0.5485 - accuracy: 0.9067\n",
            "Epoch 270/350\n",
            "3/3 [==============================] - 0s 13ms/step - loss: 0.5395 - accuracy: 0.8800\n",
            "Epoch 271/350\n",
            "3/3 [==============================] - 0s 12ms/step - loss: 0.5369 - accuracy: 0.8800\n",
            "Epoch 272/350\n",
            "3/3 [==============================] - 0s 12ms/step - loss: 0.5323 - accuracy: 0.9067\n",
            "Epoch 273/350\n",
            "3/3 [==============================] - 0s 12ms/step - loss: 0.5293 - accuracy: 0.9067\n",
            "Epoch 274/350\n",
            "3/3 [==============================] - 0s 13ms/step - loss: 0.5244 - accuracy: 0.8933\n",
            "Epoch 275/350\n",
            "3/3 [==============================] - 0s 15ms/step - loss: 0.5208 - accuracy: 0.9333\n",
            "Epoch 276/350\n",
            "3/3 [==============================] - 0s 15ms/step - loss: 0.5186 - accuracy: 0.9067\n",
            "Epoch 277/350\n",
            "3/3 [==============================] - 0s 14ms/step - loss: 0.5180 - accuracy: 0.8933\n",
            "Epoch 278/350\n",
            "3/3 [==============================] - 0s 16ms/step - loss: 0.5245 - accuracy: 0.8800\n",
            "Epoch 279/350\n",
            "3/3 [==============================] - 0s 13ms/step - loss: 0.5008 - accuracy: 0.9467\n",
            "Epoch 280/350\n",
            "3/3 [==============================] - 0s 13ms/step - loss: 0.5061 - accuracy: 0.9333\n",
            "Epoch 281/350\n",
            "3/3 [==============================] - 0s 19ms/step - loss: 0.4904 - accuracy: 0.9467\n",
            "Epoch 282/350\n",
            "3/3 [==============================] - 0s 21ms/step - loss: 0.4960 - accuracy: 0.9200\n",
            "Epoch 283/350\n",
            "3/3 [==============================] - 0s 15ms/step - loss: 0.4941 - accuracy: 0.9067\n",
            "Epoch 284/350\n",
            "3/3 [==============================] - 0s 11ms/step - loss: 0.4889 - accuracy: 0.9200\n",
            "Epoch 285/350\n",
            "3/3 [==============================] - 0s 18ms/step - loss: 0.4812 - accuracy: 0.9333\n",
            "Epoch 286/350\n",
            "3/3 [==============================] - 0s 13ms/step - loss: 0.4793 - accuracy: 0.9467\n",
            "Epoch 287/350\n",
            "3/3 [==============================] - 0s 11ms/step - loss: 0.4780 - accuracy: 0.9200\n",
            "Epoch 288/350\n",
            "3/3 [==============================] - 0s 14ms/step - loss: 0.4770 - accuracy: 0.9200\n",
            "Epoch 289/350\n",
            "3/3 [==============================] - 0s 14ms/step - loss: 0.4674 - accuracy: 0.9467\n",
            "Epoch 290/350\n",
            "3/3 [==============================] - 0s 14ms/step - loss: 0.4668 - accuracy: 0.9333\n",
            "Epoch 291/350\n",
            "3/3 [==============================] - 0s 15ms/step - loss: 0.4611 - accuracy: 0.9200\n",
            "Epoch 292/350\n",
            "3/3 [==============================] - 0s 25ms/step - loss: 0.4648 - accuracy: 0.9200\n",
            "Epoch 293/350\n",
            "3/3 [==============================] - 0s 11ms/step - loss: 0.4513 - accuracy: 0.9200\n",
            "Epoch 294/350\n",
            "3/3 [==============================] - 0s 33ms/step - loss: 0.4566 - accuracy: 0.9200\n",
            "Epoch 295/350\n",
            "3/3 [==============================] - 0s 17ms/step - loss: 0.4551 - accuracy: 0.9200\n",
            "Epoch 296/350\n",
            "3/3 [==============================] - 0s 17ms/step - loss: 0.4510 - accuracy: 0.9200\n",
            "Epoch 297/350\n",
            "3/3 [==============================] - 0s 17ms/step - loss: 0.4461 - accuracy: 0.9200\n",
            "Epoch 298/350\n",
            "3/3 [==============================] - 0s 16ms/step - loss: 0.4375 - accuracy: 0.9333\n",
            "Epoch 299/350\n",
            "3/3 [==============================] - 0s 11ms/step - loss: 0.4319 - accuracy: 0.9333\n",
            "Epoch 300/350\n",
            "3/3 [==============================] - 0s 14ms/step - loss: 0.4400 - accuracy: 0.9200\n",
            "Epoch 301/350\n",
            "3/3 [==============================] - 0s 17ms/step - loss: 0.4369 - accuracy: 0.9067\n",
            "Epoch 302/350\n",
            "3/3 [==============================] - 0s 21ms/step - loss: 0.4291 - accuracy: 0.9200\n",
            "Epoch 303/350\n",
            "3/3 [==============================] - 0s 23ms/step - loss: 0.4273 - accuracy: 0.9333\n",
            "Epoch 304/350\n",
            "3/3 [==============================] - 0s 14ms/step - loss: 0.4203 - accuracy: 0.9333\n",
            "Epoch 305/350\n",
            "3/3 [==============================] - 0s 12ms/step - loss: 0.4254 - accuracy: 0.9200\n",
            "Epoch 306/350\n",
            "3/3 [==============================] - 0s 15ms/step - loss: 0.4108 - accuracy: 0.9333\n",
            "Epoch 307/350\n",
            "3/3 [==============================] - 0s 17ms/step - loss: 0.4044 - accuracy: 0.9600\n",
            "Epoch 308/350\n",
            "3/3 [==============================] - 0s 15ms/step - loss: 0.4066 - accuracy: 0.9867\n",
            "Epoch 309/350\n",
            "3/3 [==============================] - 0s 16ms/step - loss: 0.4100 - accuracy: 0.9467\n",
            "Epoch 310/350\n",
            "3/3 [==============================] - 0s 13ms/step - loss: 0.4020 - accuracy: 0.9467\n",
            "Epoch 311/350\n",
            "3/3 [==============================] - 0s 12ms/step - loss: 0.4026 - accuracy: 0.9333\n",
            "Epoch 312/350\n",
            "3/3 [==============================] - 0s 37ms/step - loss: 0.4038 - accuracy: 0.9200\n",
            "Epoch 313/350\n",
            "3/3 [==============================] - 0s 12ms/step - loss: 0.4005 - accuracy: 0.9333\n",
            "Epoch 314/350\n",
            "3/3 [==============================] - 0s 13ms/step - loss: 0.3947 - accuracy: 0.9200\n",
            "Epoch 315/350\n",
            "3/3 [==============================] - 0s 11ms/step - loss: 0.3872 - accuracy: 0.9600\n",
            "Epoch 316/350\n",
            "3/3 [==============================] - 0s 25ms/step - loss: 0.3864 - accuracy: 0.9467\n",
            "Epoch 317/350\n",
            "3/3 [==============================] - 0s 14ms/step - loss: 0.3796 - accuracy: 0.9333\n",
            "Epoch 318/350\n",
            "3/3 [==============================] - 0s 14ms/step - loss: 0.3818 - accuracy: 0.9467\n",
            "Epoch 319/350\n",
            "3/3 [==============================] - 0s 14ms/step - loss: 0.3833 - accuracy: 0.9333\n",
            "Epoch 320/350\n",
            "3/3 [==============================] - 0s 14ms/step - loss: 0.3785 - accuracy: 0.9333\n",
            "Epoch 321/350\n",
            "3/3 [==============================] - 0s 12ms/step - loss: 0.3804 - accuracy: 0.9333\n",
            "Epoch 322/350\n",
            "3/3 [==============================] - 0s 14ms/step - loss: 0.3693 - accuracy: 0.9467\n",
            "Epoch 323/350\n",
            "3/3 [==============================] - 0s 12ms/step - loss: 0.3664 - accuracy: 0.9600\n",
            "Epoch 324/350\n",
            "3/3 [==============================] - 0s 15ms/step - loss: 0.3630 - accuracy: 0.9600\n",
            "Epoch 325/350\n",
            "3/3 [==============================] - 0s 13ms/step - loss: 0.3606 - accuracy: 0.9333\n",
            "Epoch 326/350\n",
            "3/3 [==============================] - 0s 18ms/step - loss: 0.3583 - accuracy: 0.9600\n",
            "Epoch 327/350\n",
            "3/3 [==============================] - 0s 17ms/step - loss: 0.3563 - accuracy: 0.9733\n",
            "Epoch 328/350\n",
            "3/3 [==============================] - 0s 16ms/step - loss: 0.3533 - accuracy: 0.9467\n",
            "Epoch 329/350\n",
            "3/3 [==============================] - 0s 22ms/step - loss: 0.3512 - accuracy: 0.9600\n",
            "Epoch 330/350\n",
            "3/3 [==============================] - 0s 35ms/step - loss: 0.3549 - accuracy: 0.9333\n",
            "Epoch 331/350\n",
            "3/3 [==============================] - 0s 12ms/step - loss: 0.3511 - accuracy: 0.9600\n",
            "Epoch 332/350\n",
            "3/3 [==============================] - 0s 18ms/step - loss: 0.3486 - accuracy: 0.9200\n",
            "Epoch 333/350\n",
            "3/3 [==============================] - 0s 15ms/step - loss: 0.3448 - accuracy: 0.9600\n",
            "Epoch 334/350\n",
            "3/3 [==============================] - 0s 15ms/step - loss: 0.3383 - accuracy: 0.9600\n",
            "Epoch 335/350\n",
            "3/3 [==============================] - 0s 15ms/step - loss: 0.3407 - accuracy: 0.9733\n",
            "Epoch 336/350\n",
            "3/3 [==============================] - 0s 14ms/step - loss: 0.3342 - accuracy: 0.9867\n",
            "Epoch 337/350\n",
            "3/3 [==============================] - 0s 16ms/step - loss: 0.3394 - accuracy: 0.9867\n",
            "Epoch 338/350\n",
            "3/3 [==============================] - 0s 16ms/step - loss: 0.3333 - accuracy: 0.9733\n",
            "Epoch 339/350\n",
            "3/3 [==============================] - 0s 12ms/step - loss: 0.3316 - accuracy: 0.9600\n",
            "Epoch 340/350\n",
            "3/3 [==============================] - 0s 12ms/step - loss: 0.3222 - accuracy: 0.9733\n",
            "Epoch 341/350\n",
            "3/3 [==============================] - 0s 18ms/step - loss: 0.3272 - accuracy: 0.9600\n",
            "Epoch 342/350\n",
            "3/3 [==============================] - 0s 14ms/step - loss: 0.3215 - accuracy: 0.9600\n",
            "Epoch 343/350\n",
            "3/3 [==============================] - 0s 14ms/step - loss: 0.3168 - accuracy: 0.9600\n",
            "Epoch 344/350\n",
            "3/3 [==============================] - 0s 16ms/step - loss: 0.3259 - accuracy: 0.9600\n",
            "Epoch 345/350\n",
            "3/3 [==============================] - 0s 18ms/step - loss: 0.3161 - accuracy: 0.9733\n",
            "Epoch 346/350\n",
            "3/3 [==============================] - 0s 13ms/step - loss: 0.3120 - accuracy: 0.9867\n",
            "Epoch 347/350\n",
            "3/3 [==============================] - 0s 20ms/step - loss: 0.3196 - accuracy: 0.9467\n",
            "Epoch 348/350\n",
            "3/3 [==============================] - 0s 11ms/step - loss: 0.3127 - accuracy: 0.9600\n",
            "Epoch 349/350\n",
            "3/3 [==============================] - 0s 20ms/step - loss: 0.3061 - accuracy: 0.9733\n",
            "Epoch 350/350\n",
            "3/3 [==============================] - 0s 19ms/step - loss: 0.3077 - accuracy: 0.9600\n"
          ]
        }
      ],
      "source": [
        "# Training the model (Melatih model data sampai 350 kali)\n",
        "train = model.fit(x_train, y_train, epochs=350)"
      ]
    },
    {
      "cell_type": "code",
      "execution_count": 18,
      "metadata": {},
      "outputs": [],
      "source": [
        "import os\n",
        "\n",
        "directory = 'D:/'\n",
        "os.makedirs(directory, exist_ok=True)\n",
        "\n",
        "model.save('D:/model_chatbot_kampus_merdeka.h5')"
      ]
    },
    {
      "cell_type": "code",
      "execution_count": 15,
      "metadata": {
        "colab": {
          "base_uri": "https://localhost:8080/",
          "height": 414
        },
        "id": "Pcu57pgf0cOR",
        "outputId": "53db5eb0-9f1e-4d53-fa9d-5946dd0926ba"
      },
      "outputs": [
        {
          "data": {
            "image/png": "[encoded data removed]",
            "text/plain": [
              "<Figure size 1008x360 with 2 Axes>"
            ]
          },
          "metadata": {
            "needs_background": "light"
          },
          "output_type": "display_data"
        }
      ],
      "source": [
        "# Plotting model Accuracy and Loss (Visualisasi Plot Hasil Akurasi dan Loss)\n",
        "# Plot Akurasi\n",
        "plt.figure(figsize=(14, 5))\n",
        "plt.subplot(1, 2, 1)\n",
        "plt.plot(train.history['accuracy'], label='Training Set Accuracy')\n",
        "plt.legend(loc='lower right')\n",
        "plt.title('Accuracy')\n",
        "# Plot Loss\n",
        "plt.subplot(1, 2, 2)\n",
        "plt.plot(train.history['loss'], label='Training Set Loss')\n",
        "plt.legend(loc='upper right')\n",
        "plt.title('Loss')\n",
        "plt.show()"
      ]
    },
    {
      "cell_type": "markdown",
      "metadata": {},
      "source": [
        "## Testing Chatbot"
      ]
    },
    {
      "cell_type": "code",
      "execution_count": 16,
      "metadata": {},
      "outputs": [],
      "source": [
        "from gtts import gTTS\n",
        "import random\n",
        "import time\n",
        "import os\n",
        "import IPython.display as ipd"
      ]
    },
    {
      "cell_type": "code",
      "execution_count": 21,
      "metadata": {
        "id": "iwM0FvzT0lp2"
      },
      "outputs": [
        {
          "name": "stdout",
          "output_type": "stream",
          "text": [
            "1/1 [==============================] - 0s 33ms/step\n",
            "1\n",
            "🤖 Bot :  greeting\n",
            "🤖 Bot :  Hai! Mau tau informasi tentang apa nih?\n",
            "1/1 [==============================] - 0s 114ms/step\n",
            "1\n",
            "🤖 Bot :  greeting\n",
            "🤖 Bot :  Hello!  Lagi kepo tentang kampus merdeka ya?\n",
            "1/1 [==============================] - 0s 45ms/step\n",
            "19\n",
            "🤖 Bot :  penjelasan_pertukaran_mahasiswa\n",
            "🤖 Bot :  Pertukaran Mahasiswa Merdeka merupakan pertukaran pelajar dengan program studi yang sama ke Perguruan Tinggi berbeda maupun pertukaran pelajar dengan program studi berbeda ke Perguruan Tinggi berbeda. Kegiatan pembelajaran dapat secara tatap muka atau daring. Program ini bertujuan untuk memperkaya pengalaman dan konteks keilmuan mahasiswa\n"
          ]
        },
        {
          "ename": "KeyboardInterrupt",
          "evalue": "Interrupted by user",
          "output_type": "error",
          "traceback": [
            "\u001b[1;31m---------------------------------------------------------------------------\u001b[0m",
            "\u001b[1;31mKeyboardInterrupt\u001b[0m                         Traceback (most recent call last)",
            "\u001b[1;32md:\\Kuliah\\Semester 7\\Deep Learning\\chatbot-kampus-merdeka-deep-learning\\pra_pemrosesan.ipynb Cell 38\u001b[0m line \u001b[0;36m<cell line: 5>\u001b[1;34m()\u001b[0m\n\u001b[0;32m      <a href='vscode-notebook-cell:/d%3A/Kuliah/Semester%207/Deep%20Learning/chatbot-kampus-merdeka-deep-learning/pra_pemrosesan.ipynb#X52sZmlsZQ%3D%3D?line=4'>5</a>\u001b[0m \u001b[39mwhile\u001b[39;00m \u001b[39mTrue\u001b[39;00m:\n\u001b[0;32m      <a href='vscode-notebook-cell:/d%3A/Kuliah/Semester%207/Deep%20Learning/chatbot-kampus-merdeka-deep-learning/pra_pemrosesan.ipynb#X52sZmlsZQ%3D%3D?line=5'>6</a>\u001b[0m     texts_p \u001b[39m=\u001b[39m []\n\u001b[1;32m----> <a href='vscode-notebook-cell:/d%3A/Kuliah/Semester%207/Deep%20Learning/chatbot-kampus-merdeka-deep-learning/pra_pemrosesan.ipynb#X52sZmlsZQ%3D%3D?line=6'>7</a>\u001b[0m     prediction_input \u001b[39m=\u001b[39m \u001b[39minput\u001b[39;49m(\u001b[39m'\u001b[39;49m\u001b[39m👨‍🦰 Kamu : \u001b[39;49m\u001b[39m'\u001b[39;49m)\n\u001b[0;32m      <a href='vscode-notebook-cell:/d%3A/Kuliah/Semester%207/Deep%20Learning/chatbot-kampus-merdeka-deep-learning/pra_pemrosesan.ipynb#X52sZmlsZQ%3D%3D?line=8'>9</a>\u001b[0m     \u001b[39m# Menghapus punktuasi atau tanda baca dan konversi ke huruf kecil\u001b[39;00m\n\u001b[0;32m     <a href='vscode-notebook-cell:/d%3A/Kuliah/Semester%207/Deep%20Learning/chatbot-kampus-merdeka-deep-learning/pra_pemrosesan.ipynb#X52sZmlsZQ%3D%3D?line=9'>10</a>\u001b[0m     prediction_input \u001b[39m=\u001b[39m [letters\u001b[39m.\u001b[39mlower() \u001b[39mfor\u001b[39;00m letters \u001b[39min\u001b[39;00m prediction_input \u001b[39mif\u001b[39;00m letters \u001b[39mnot\u001b[39;00m \u001b[39min\u001b[39;00m string\u001b[39m.\u001b[39mpunctuation]\n",
            "File \u001b[1;32mc:\\Users\\Owner\\AppData\\Local\\Programs\\Python\\Python310\\lib\\site-packages\\ipykernel\\kernelbase.py:1152\u001b[0m, in \u001b[0;36mKernel.raw_input\u001b[1;34m(self, prompt)\u001b[0m\n\u001b[0;32m   1148\u001b[0m \u001b[39mif\u001b[39;00m \u001b[39mnot\u001b[39;00m \u001b[39mself\u001b[39m\u001b[39m.\u001b[39m_allow_stdin:\n\u001b[0;32m   1149\u001b[0m     \u001b[39mraise\u001b[39;00m StdinNotImplementedError(\n\u001b[0;32m   1150\u001b[0m         \u001b[39m\"\u001b[39m\u001b[39mraw_input was called, but this frontend does not support input requests.\u001b[39m\u001b[39m\"\u001b[39m\n\u001b[0;32m   1151\u001b[0m     )\n\u001b[1;32m-> 1152\u001b[0m \u001b[39mreturn\u001b[39;00m \u001b[39mself\u001b[39;49m\u001b[39m.\u001b[39;49m_input_request(\n\u001b[0;32m   1153\u001b[0m     \u001b[39mstr\u001b[39;49m(prompt),\n\u001b[0;32m   1154\u001b[0m     \u001b[39mself\u001b[39;49m\u001b[39m.\u001b[39;49m_parent_ident[\u001b[39m\"\u001b[39;49m\u001b[39mshell\u001b[39;49m\u001b[39m\"\u001b[39;49m],\n\u001b[0;32m   1155\u001b[0m     \u001b[39mself\u001b[39;49m\u001b[39m.\u001b[39;49mget_parent(\u001b[39m\"\u001b[39;49m\u001b[39mshell\u001b[39;49m\u001b[39m\"\u001b[39;49m),\n\u001b[0;32m   1156\u001b[0m     password\u001b[39m=\u001b[39;49m\u001b[39mFalse\u001b[39;49;00m,\n\u001b[0;32m   1157\u001b[0m )\n",
            "File \u001b[1;32mc:\\Users\\Owner\\AppData\\Local\\Programs\\Python\\Python310\\lib\\site-packages\\ipykernel\\kernelbase.py:1194\u001b[0m, in \u001b[0;36mKernel._input_request\u001b[1;34m(self, prompt, ident, parent, password)\u001b[0m\n\u001b[0;32m   1191\u001b[0m             \u001b[39mbreak\u001b[39;00m\n\u001b[0;32m   1192\u001b[0m \u001b[39mexcept\u001b[39;00m \u001b[39mKeyboardInterrupt\u001b[39;00m:\n\u001b[0;32m   1193\u001b[0m     \u001b[39m# re-raise KeyboardInterrupt, to truncate traceback\u001b[39;00m\n\u001b[1;32m-> 1194\u001b[0m     \u001b[39mraise\u001b[39;00m \u001b[39mKeyboardInterrupt\u001b[39;00m(\u001b[39m\"\u001b[39m\u001b[39mInterrupted by user\u001b[39m\u001b[39m\"\u001b[39m) \u001b[39mfrom\u001b[39;00m \u001b[39mNone\u001b[39m\n\u001b[0;32m   1195\u001b[0m \u001b[39mexcept\u001b[39;00m \u001b[39mException\u001b[39;00m:\n\u001b[0;32m   1196\u001b[0m     \u001b[39mself\u001b[39m\u001b[39m.\u001b[39mlog\u001b[39m.\u001b[39mwarning(\u001b[39m\"\u001b[39m\u001b[39mInvalid Message:\u001b[39m\u001b[39m\"\u001b[39m, exc_info\u001b[39m=\u001b[39m\u001b[39mTrue\u001b[39;00m)\n",
            "\u001b[1;31mKeyboardInterrupt\u001b[0m: Interrupted by user"
          ]
        }
      ],
      "source": [
        "import os\n",
        "from pydub import AudioSegment\n",
        "\n",
        "# Membuat Input Chat\n",
        "while True:\n",
        "    texts_p = []\n",
        "    prediction_input = input('👨‍🦰 Kamu : ')\n",
        "\n",
        "    # Menghapus punktuasi atau tanda baca dan konversi ke huruf kecil\n",
        "    prediction_input = [letters.lower() for letters in prediction_input if letters not in string.punctuation]\n",
        "    prediction_input = ''.join(prediction_input)\n",
        "    texts_p.append(prediction_input)\n",
        "\n",
        "    # Melakukan Tokenisasi dan Padding pada data teks\n",
        "    prediction_input = tokenizer.texts_to_sequences(texts_p)\n",
        "    # Konversi data teks menjadi array\n",
        "    prediction_input = np.array(prediction_input).reshape(-1)\n",
        "    prediction_input = pad_sequences([prediction_input], input_shape)\n",
        "\n",
        "    # Mendapatkan hasil prediksi keluaran pada model\n",
        "    output = model.predict(prediction_input)\n",
        "    output = output.argmax()\n",
        "    print(output)\n",
        "\n",
        "    # Menemukan respon sesuai data tag dan memainkan suara bot\n",
        "    response_tag = le.inverse_transform([output])[0]\n",
        "    \n",
        "    # print response tag\n",
        "    print(\"🤖 Bot : \", response_tag)\n",
        "    \n",
        "    # Bot akan melakukan random jawaban percakapan dari hasil pertanyaan\n",
        "    print(\"🤖 Bot : \", random.choice(responses[response_tag]))\n",
        "    \n",
        "    # Tambahkan respon 'goodbye' agar bot bisa berhenti melakukan percakapan\n",
        "    if response_tag == \"goodbye\":\n",
        "        break"
      ]
    }
  ],
  "metadata": {
    "colab": {
      "include_colab_link": true,
      "provenance": []
    },
    "kernelspec": {
      "display_name": "Python 3",
      "language": "python",
      "name": "python3"
    },
    "language_info": {
      "codemirror_mode": {
        "name": "ipython",
        "version": 3
      },
      "file_extension": ".py",
      "mimetype": "text/x-python",
      "name": "python",
      "nbconvert_exporter": "python",
      "pygments_lexer": "ipython3",
      "version": "3.10.2"
    }
  },
  "nbformat": 4,
  "nbformat_minor": 0
}
