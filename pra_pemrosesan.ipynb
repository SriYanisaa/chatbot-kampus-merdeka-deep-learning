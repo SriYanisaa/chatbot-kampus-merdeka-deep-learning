{
  "cells": [
    {
      "cell_type": "markdown",
      "metadata": {
        "colab_type": "text",
        "id": "view-in-github"
      },
      "source": [
        "<a href=\"https://colab.research.google.com/github/SriYanisaa/chatbot-kampus-merdeka-deep-learning/blob/main/pra_pemrosesan.ipynb\" target=\"_parent\"><img src=\"https://colab.research.google.com/assets/colab-badge.svg\" alt=\"Open In Colab\"/></a>"
      ]
    },
    {
      "cell_type": "markdown",
      "metadata": {
        "id": "xubIAqKVykMO"
      },
      "source": [
        "# PraPemrosesan Data"
      ]
    },
    {
      "cell_type": "code",
      "execution_count": 1,
      "metadata": {
        "colab": {
          "base_uri": "https://localhost:8080/"
        },
        "id": "8a74dn6XykMc",
        "outputId": "5d970c8f-03f0-4fa5-8fd7-365530c670af"
      },
      "outputs": [
        {
          "name": "stderr",
          "output_type": "stream",
          "text": [
            "[nltk_data] Downloading package punkt to\n",
            "[nltk_data]     C:\\Users\\LENOVO\\AppData\\Roaming\\nltk_data...\n",
            "[nltk_data]   Package punkt is already up-to-date!\n",
            "[nltk_data] Downloading package wordnet to\n",
            "[nltk_data]     C:\\Users\\LENOVO\\AppData\\Roaming\\nltk_data...\n",
            "[nltk_data]   Package wordnet is already up-to-date!\n"
          ]
        },
        {
          "data": {
            "text/plain": [
              "True"
            ]
          },
          "execution_count": 1,
          "metadata": {},
          "output_type": "execute_result"
        }
      ],
      "source": [
        "import pandas as pd\n",
        "import numpy as np\n",
        "import json\n",
        "import nltk\n",
        "from nltk.stem import WordNetLemmatizer\n",
        "import string\n",
        "import tensorflow as tf\n",
        "import matplotlib.pyplot as plt\n",
        "from tensorflow.keras.preprocessing.text import Tokenizer\n",
        "from tensorflow.keras.preprocessing.sequence import pad_sequences\n",
        "from tensorflow.keras.models import Model\n",
        "from tensorflow.keras.utils import plot_model\n",
        "from tensorflow.keras.layers import Input, Embedding, LSTM\n",
        "from tensorflow.keras.layers import Flatten, Dense, GlobalMaxPool1D\n",
        "from sklearn.preprocessing import LabelEncoder\n",
        "import pickle\n",
        "\n",
        "nltk.download('punkt')\n",
        "nltk.download('wordnet')"
      ]
    },
    {
      "cell_type": "code",
      "execution_count": 2,
      "metadata": {
        "id": "RJkh6Q6PykMk"
      },
      "outputs": [],
      "source": [
        "# Importing the dataset\n",
        "with open('kampus_merdeka.json') as content:\n",
        "  data1 = json.load(content)\n",
        "\n",
        "# Mendapatkan semua data ke dalam list\n",
        "tags = [] # data tag\n",
        "inputs = [] # data input atau pattern\n",
        "responses = {} # data respon\n",
        "words = [] # Data kata\n",
        "classes = [] # Data Kelas atau Tag\n",
        "documents = [] # Data Kalimat Dokumen\n",
        "ignore_words = ['?', '!'] # Mengabaikan tanda spesial karakter\n",
        "# Tambahkan data intents dalam json\n",
        "for intent in data1['intents']:\n",
        "  responses[intent['tag']]=intent['responses']\n",
        "  for lines in intent['patterns']:\n",
        "    inputs.append(lines)\n",
        "    tags.append(intent['tag'])\n",
        "    # digunakan untuk pattern atau teks pertanyaan dalam json\n",
        "    for pattern in intent['patterns']:\n",
        "      w = nltk.word_tokenize(pattern)\n",
        "      words.extend(w)\n",
        "      documents.append((w, intent['tag']))\n",
        "      # tambahkan ke dalam list kelas dalam data\n",
        "      if intent['tag'] not in classes:\n",
        "        classes.append(intent['tag'])\n",
        "\n",
        "# Konversi data json ke dalam dataframe\n",
        "data = pd.DataFrame({\"patterns\":inputs, \"tags\":tags})"
      ]
    },
    {
      "cell_type": "code",
      "execution_count": 3,
      "metadata": {
        "colab": {
          "base_uri": "https://localhost:8080/",
          "height": 423
        },
        "id": "KUqlqgcbykMn",
        "outputId": "f4bc5e2b-65ec-417b-9d86-7fad39ce6103"
      },
      "outputs": [
        {
          "data": {
            "text/html": [
              "<div>\n",
              "<style scoped>\n",
              "    .dataframe tbody tr th:only-of-type {\n",
              "        vertical-align: middle;\n",
              "    }\n",
              "\n",
              "    .dataframe tbody tr th {\n",
              "        vertical-align: top;\n",
              "    }\n",
              "\n",
              "    .dataframe thead th {\n",
              "        text-align: right;\n",
              "    }\n",
              "</style>\n",
              "<table border=\"1\" class=\"dataframe\">\n",
              "  <thead>\n",
              "    <tr style=\"text-align: right;\">\n",
              "      <th></th>\n",
              "      <th>patterns</th>\n",
              "      <th>tags</th>\n",
              "    </tr>\n",
              "  </thead>\n",
              "  <tbody>\n",
              "    <tr>\n",
              "      <th>0</th>\n",
              "      <td>hallo</td>\n",
              "      <td>greeting</td>\n",
              "    </tr>\n",
              "    <tr>\n",
              "      <th>1</th>\n",
              "      <td>hai</td>\n",
              "      <td>greeting</td>\n",
              "    </tr>\n",
              "    <tr>\n",
              "      <th>2</th>\n",
              "      <td>halo</td>\n",
              "      <td>greeting</td>\n",
              "    </tr>\n",
              "    <tr>\n",
              "      <th>3</th>\n",
              "      <td>hei</td>\n",
              "      <td>greeting</td>\n",
              "    </tr>\n",
              "    <tr>\n",
              "      <th>4</th>\n",
              "      <td>hi</td>\n",
              "      <td>greeting</td>\n",
              "    </tr>\n",
              "    <tr>\n",
              "      <th>...</th>\n",
              "      <td>...</td>\n",
              "      <td>...</td>\n",
              "    </tr>\n",
              "    <tr>\n",
              "      <th>107</th>\n",
              "      <td>PMMB</td>\n",
              "      <td>penjelasan_PMMB</td>\n",
              "    </tr>\n",
              "    <tr>\n",
              "      <th>108</th>\n",
              "      <td>Apa saja persyaratan IISMA?</td>\n",
              "      <td>persyaratan_IISMA</td>\n",
              "    </tr>\n",
              "    <tr>\n",
              "      <th>109</th>\n",
              "      <td>Bagaimana periode pelaksanaan dan cara mendaft...</td>\n",
              "      <td>periode_dan_pendaftaran_PMMB</td>\n",
              "    </tr>\n",
              "    <tr>\n",
              "      <th>110</th>\n",
              "      <td>Apa saja manfaat apabila mengikuti PMMB?</td>\n",
              "      <td>manfaat_PMMB</td>\n",
              "    </tr>\n",
              "    <tr>\n",
              "      <th>111</th>\n",
              "      <td>Apa saja universitas yang tergabung dalam prog...</td>\n",
              "      <td>mitra_PMMB</td>\n",
              "    </tr>\n",
              "  </tbody>\n",
              "</table>\n",
              "<p>112 rows × 2 columns</p>\n",
              "</div>"
            ],
            "text/plain": [
              "                                              patterns  \\\n",
              "0                                                hallo   \n",
              "1                                                  hai   \n",
              "2                                                 halo   \n",
              "3                                                  hei   \n",
              "4                                                   hi   \n",
              "..                                                 ...   \n",
              "107                                               PMMB   \n",
              "108                        Apa saja persyaratan IISMA?   \n",
              "109  Bagaimana periode pelaksanaan dan cara mendaft...   \n",
              "110           Apa saja manfaat apabila mengikuti PMMB?   \n",
              "111  Apa saja universitas yang tergabung dalam prog...   \n",
              "\n",
              "                             tags  \n",
              "0                        greeting  \n",
              "1                        greeting  \n",
              "2                        greeting  \n",
              "3                        greeting  \n",
              "4                        greeting  \n",
              "..                            ...  \n",
              "107               penjelasan_PMMB  \n",
              "108             persyaratan_IISMA  \n",
              "109  periode_dan_pendaftaran_PMMB  \n",
              "110                  manfaat_PMMB  \n",
              "111                    mitra_PMMB  \n",
              "\n",
              "[112 rows x 2 columns]"
            ]
          },
          "execution_count": 3,
          "metadata": {},
          "output_type": "execute_result"
        }
      ],
      "source": [
        "data"
      ]
    },
    {
      "cell_type": "markdown",
      "metadata": {
        "id": "o4SjsjpWykMp"
      },
      "source": [
        "## Remove Punctuaction"
      ]
    },
    {
      "cell_type": "code",
      "execution_count": 4,
      "metadata": {
        "id": "GhOV5HO3ykMr"
      },
      "outputs": [],
      "source": [
        "# Removing Punctuations (Menghilangkan Punktuasi)\n",
        "data['patterns'] = data['patterns'].apply(lambda wrd:[ltrs.lower() for ltrs in wrd if ltrs not in string.punctuation])\n",
        "data['patterns'] = data['patterns'].apply(lambda wrd: ''.join(wrd))"
      ]
    },
    {
      "cell_type": "code",
      "execution_count": 5,
      "metadata": {
        "colab": {
          "base_uri": "https://localhost:8080/",
          "height": 423
        },
        "id": "202-SHjSykMs",
        "outputId": "792902d0-1933-42aa-d717-8b3e36e611f7"
      },
      "outputs": [
        {
          "data": {
            "text/html": [
              "<div>\n",
              "<style scoped>\n",
              "    .dataframe tbody tr th:only-of-type {\n",
              "        vertical-align: middle;\n",
              "    }\n",
              "\n",
              "    .dataframe tbody tr th {\n",
              "        vertical-align: top;\n",
              "    }\n",
              "\n",
              "    .dataframe thead th {\n",
              "        text-align: right;\n",
              "    }\n",
              "</style>\n",
              "<table border=\"1\" class=\"dataframe\">\n",
              "  <thead>\n",
              "    <tr style=\"text-align: right;\">\n",
              "      <th></th>\n",
              "      <th>patterns</th>\n",
              "      <th>tags</th>\n",
              "    </tr>\n",
              "  </thead>\n",
              "  <tbody>\n",
              "    <tr>\n",
              "      <th>0</th>\n",
              "      <td>hallo</td>\n",
              "      <td>greeting</td>\n",
              "    </tr>\n",
              "    <tr>\n",
              "      <th>1</th>\n",
              "      <td>hai</td>\n",
              "      <td>greeting</td>\n",
              "    </tr>\n",
              "    <tr>\n",
              "      <th>2</th>\n",
              "      <td>halo</td>\n",
              "      <td>greeting</td>\n",
              "    </tr>\n",
              "    <tr>\n",
              "      <th>3</th>\n",
              "      <td>hei</td>\n",
              "      <td>greeting</td>\n",
              "    </tr>\n",
              "    <tr>\n",
              "      <th>4</th>\n",
              "      <td>hi</td>\n",
              "      <td>greeting</td>\n",
              "    </tr>\n",
              "    <tr>\n",
              "      <th>...</th>\n",
              "      <td>...</td>\n",
              "      <td>...</td>\n",
              "    </tr>\n",
              "    <tr>\n",
              "      <th>107</th>\n",
              "      <td>pmmb</td>\n",
              "      <td>penjelasan_PMMB</td>\n",
              "    </tr>\n",
              "    <tr>\n",
              "      <th>108</th>\n",
              "      <td>apa saja persyaratan iisma</td>\n",
              "      <td>persyaratan_IISMA</td>\n",
              "    </tr>\n",
              "    <tr>\n",
              "      <th>109</th>\n",
              "      <td>bagaimana periode pelaksanaan dan cara mendaft...</td>\n",
              "      <td>periode_dan_pendaftaran_PMMB</td>\n",
              "    </tr>\n",
              "    <tr>\n",
              "      <th>110</th>\n",
              "      <td>apa saja manfaat apabila mengikuti pmmb</td>\n",
              "      <td>manfaat_PMMB</td>\n",
              "    </tr>\n",
              "    <tr>\n",
              "      <th>111</th>\n",
              "      <td>apa saja universitas yang tergabung dalam prog...</td>\n",
              "      <td>mitra_PMMB</td>\n",
              "    </tr>\n",
              "  </tbody>\n",
              "</table>\n",
              "<p>112 rows × 2 columns</p>\n",
              "</div>"
            ],
            "text/plain": [
              "                                              patterns  \\\n",
              "0                                                hallo   \n",
              "1                                                  hai   \n",
              "2                                                 halo   \n",
              "3                                                  hei   \n",
              "4                                                   hi   \n",
              "..                                                 ...   \n",
              "107                                               pmmb   \n",
              "108                         apa saja persyaratan iisma   \n",
              "109  bagaimana periode pelaksanaan dan cara mendaft...   \n",
              "110            apa saja manfaat apabila mengikuti pmmb   \n",
              "111  apa saja universitas yang tergabung dalam prog...   \n",
              "\n",
              "                             tags  \n",
              "0                        greeting  \n",
              "1                        greeting  \n",
              "2                        greeting  \n",
              "3                        greeting  \n",
              "4                        greeting  \n",
              "..                            ...  \n",
              "107               penjelasan_PMMB  \n",
              "108             persyaratan_IISMA  \n",
              "109  periode_dan_pendaftaran_PMMB  \n",
              "110                  manfaat_PMMB  \n",
              "111                    mitra_PMMB  \n",
              "\n",
              "[112 rows x 2 columns]"
            ]
          },
          "execution_count": 5,
          "metadata": {},
          "output_type": "execute_result"
        }
      ],
      "source": [
        "data"
      ]
    },
    {
      "cell_type": "code",
      "execution_count": 6,
      "metadata": {
        "id": "A2Fcru9jykMv"
      },
      "outputs": [],
      "source": [
        "data.to_csv(\"clean_data_chatbot.csv\")"
      ]
    },
    {
      "cell_type": "markdown",
      "metadata": {
        "id": "cY6uM5qcykMx"
      },
      "source": [
        "## Lemmatization"
      ]
    },
    {
      "cell_type": "code",
      "execution_count": 7,
      "metadata": {
        "colab": {
          "base_uri": "https://localhost:8080/"
        },
        "id": "YEsLemsGykMy",
        "outputId": "5162ee96-b5df-4fdd-ba03-066de6355541"
      },
      "outputs": [
        {
          "name": "stdout",
          "output_type": "stream",
          "text": [
            "120 kata-kata yang di lematisasi :  ['ada', 'afternoon', 'akan', 'akhir', 'apa', 'apabila', 'apakah', 'bagaimana', 'bai', 'banyak', 'benar', 'berapa', 'berserikat', 'bersertifikat', 'bidang/jurusan', 'bisa', 'bro', 'bumn', 'bye', 'byebye', 'byee', 'cara', 'dadah', 'daftarkan', 'dah', 'dalam', 'dan', 'dapat', 'dari', 'dengan', 'di', 'dilakukan', 'gaji/tunjangan', 'good', 'hai', 'haii', 'hallo', 'halo', 'harus', 'hei', 'hi', 'hy', 'iisma', 'independen', 'itu', 'iya', 'iyaaaa', 'jenjang', 'jumpa', 'jurusan', 'kampus', 'kasih', 'kawan', 'kegiatan', 'kemendikbud', 'kemensos', 'kinerja', 'lowongan', 'luar', 'maaci', 'magang', 'mahasiswa', 'makasi', 'makasih', 'malam', 'manfaat', 'masih', 'mempengaruhi', 'mendaftar', 'mendapatkan', 'menerima', 'mengajar', 'mengikuti', 'merdeka', 'mitra', 'morning', 'muda', 'pada', 'pagi', 'pejuang', 'pelaksanaan', 'penilaian', 'periode', 'perkuliahan', 'persyaratan', 'pertukaran', 'perusahaan', 'pilihan', 'platform', 'pmmb', 'posisi', 'program', 'programnya', 'prose', 'saja', 'saku', 'sampai', 'saya', 'sebutkan', 'see', 'selama', 'selamat', 'seleksi', 'sesuai', 'si', 'siang', 'sore', 'studi', 'tergabung', 'terima', 'thank', 'thanks', 'thx', 'tinggal', 'tujuan', 'uang', 'universitas', 'website', 'yang', 'you']\n"
          ]
        }
      ],
      "source": [
        "lemmatizer = WordNetLemmatizer()\n",
        "words = [lemmatizer.lemmatize(w.lower()) for w in words if w not in ignore_words]\n",
        "words = sorted(list(set(words)))\n",
        "\n",
        "print (len(words), \"kata-kata yang di lematisasi : \", words)"
      ]
    },
    {
      "cell_type": "markdown",
      "metadata": {
        "id": "WNTw6U9KykM0"
      },
      "source": [
        "### Menyortir Data Kelas Tags"
      ]
    },
    {
      "cell_type": "code",
      "execution_count": 8,
      "metadata": {
        "colab": {
          "base_uri": "https://localhost:8080/"
        },
        "id": "zsdg35vtykM1",
        "outputId": "95fad4de-6292-43a6-bcd0-74f96cd2b1cd"
      },
      "outputs": [
        {
          "name": "stdout",
          "output_type": "stream",
          "text": [
            "41 classes ['goodbye', 'greeting', 'magang', 'manfaat_IISMA', 'manfaat_PMMB', 'manfaat_kampus_mengajar', 'manfaat_kampus_merdeka', 'manfaat_magang', 'manfaat_pejuang_muda', 'manfaat_pertukaran_mahasiswa', 'manfaat_studi_independen', 'mitra_IISMA', 'mitra_PMMB', 'mitra_magang', 'mitra_studi_independen', 'penjelasan_IISMA', 'penjelasan_PMMB', 'penjelasan_kampus_mengajar', 'penjelasan_kampus_merdeka', 'penjelasan_magang', 'penjelasan_pejuang_muda', 'penjelasan_pertukaran_mahasiswa', 'penjelasan_studi_independen', 'periode_dan_pendaftaran_IISMA', 'periode_dan_pendaftaran_PMMB', 'periode_dan_pendaftaran_kampus_mengajar', 'periode_dan_pendaftaran_magang', 'periode_dan_pendaftaran_pejuang_muda', 'periode_dan_pendaftaran_pertukaran_mahasiswa', 'periode_dan_pendaftaran_studi_independen', 'persyaratan_IISMA', 'persyaratan_kampus_mengajar', 'persyaratan_kampus_merdeka', 'persyaratan_magang', 'persyaratan_pejuang_muda', 'persyaratan_pertukaran_mahasiswa', 'persyaratan_studi_independen', 'program_kampus_merdeka', 'studi_independen', 'terimakasih', 'tujuan_kampus_merdeka']\n"
          ]
        }
      ],
      "source": [
        "# sorting pada data class\n",
        "classes = sorted(list(set(classes)))\n",
        "print (len(classes), \"classes\", classes)"
      ]
    },
    {
      "cell_type": "markdown",
      "metadata": {
        "id": "I3jrMXVVykM2"
      },
      "source": [
        "### Mencari Jumlah Keseluruhan Data Teks"
      ]
    },
    {
      "cell_type": "code",
      "execution_count": 9,
      "metadata": {
        "colab": {
          "base_uri": "https://localhost:8080/"
        },
        "id": "sOFQlDt-ykM3",
        "outputId": "d1946150-97c0-496f-fd9c-313758422849"
      },
      "outputs": [
        {
          "name": "stdout",
          "output_type": "stream",
          "text": [
            "732 documents\n"
          ]
        }
      ],
      "source": [
        "# documents = kombinasi antara data pattern dengan data tag dalam intents json\n",
        "print (len(documents), \"documents\")"
      ]
    },
    {
      "cell_type": "markdown",
      "metadata": {
        "id": "eLF1-xcIykM5"
      },
      "source": [
        "## Tokenisasi"
      ]
    },
    {
      "cell_type": "code",
      "execution_count": 10,
      "metadata": {
        "colab": {
          "base_uri": "https://localhost:8080/"
        },
        "id": "66nNB3ZbykM5",
        "outputId": "f0666168-66ff-4b53-fba7-f87eabb3e347"
      },
      "outputs": [
        {
          "data": {
            "text/plain": [
              "[[63],\n",
              " [64],\n",
              " [65],\n",
              " [66],\n",
              " [67],\n",
              " [68],\n",
              " [69],\n",
              " [70],\n",
              " [71],\n",
              " [72],\n",
              " [73],\n",
              " [74],\n",
              " [75],\n",
              " [76],\n",
              " [77],\n",
              " [78],\n",
              " [79],\n",
              " [80],\n",
              " [44],\n",
              " [81],\n",
              " [82, 44],\n",
              " [83, 84],\n",
              " [85, 86],\n",
              " [87],\n",
              " [88],\n",
              " [89, 45],\n",
              " [90],\n",
              " [91],\n",
              " [92],\n",
              " [93],\n",
              " [94, 45],\n",
              " [46, 47],\n",
              " [95],\n",
              " [46, 47, 48],\n",
              " [1, 13, 2, 3],\n",
              " [96],\n",
              " [97],\n",
              " [98],\n",
              " [1, 99, 2, 3],\n",
              " [1, 4, 18, 7, 2, 3],\n",
              " [1, 19, 7, 2, 3],\n",
              " [1, 4, 5, 2, 3],\n",
              " [5, 1, 4, 9, 36, 49, 2, 3],\n",
              " [5, 2, 3, 50],\n",
              " [5, 2, 3, 51],\n",
              " [5, 2, 3, 52],\n",
              " [1, 4, 5, 9, 36],\n",
              " [1, 4, 13, 100],\n",
              " [37, 5, 31, 2, 3, 50],\n",
              " [37, 5, 31, 2, 3, 51],\n",
              " [37, 5, 31, 2, 3, 52],\n",
              " [1, 4, 5, 9, 36, 49, 2, 3],\n",
              " [8, 10],\n",
              " [6],\n",
              " [2, 26],\n",
              " [20],\n",
              " [27, 14, 3],\n",
              " [28, 29],\n",
              " [30],\n",
              " [1, 13, 8, 10],\n",
              " [8, 10],\n",
              " [1, 4, 19, 8, 10],\n",
              " [15, 23, 21, 11, 24, 16, 5, 8, 10],\n",
              " [1, 4, 18, 25, 7, 8, 10],\n",
              " [1, 4, 53, 9, 34, 35, 8, 10],\n",
              " [14, 31, 38, 11, 54, 1, 17, 9, 32, 7, 5, 8, 10, 12, 2, 3],\n",
              " [22, 39, 8, 40, 41, 42, 55, 17],\n",
              " [39, 8, 40, 41, 42, 38, 33, 2],\n",
              " [101, 21, 5, 8, 10, 12, 2, 3, 22, 17, 102, 32, 7, 103, 104, 33, 2],\n",
              " [22, 8, 10, 12, 2, 3, 56, 57, 58],\n",
              " [1, 13, 6, 12],\n",
              " [6],\n",
              " [1, 4, 19, 6, 12],\n",
              " [15, 23, 21, 11, 24, 16, 5, 6, 12],\n",
              " [1, 4, 18, 25, 7, 6, 12],\n",
              " [1, 4, 53, 9, 34, 35, 6, 12],\n",
              " [1, 13, 2, 26],\n",
              " [2, 26],\n",
              " [1, 4, 19, 2, 26],\n",
              " [14, 31, 38, 11, 54, 1, 17, 9, 32, 7, 5, 6, 105, 2, 3],\n",
              " [22, 14, 9, 7, 5, 6, 12, 2, 3, 106, 107, 108],\n",
              " [15, 59, 109, 6, 2, 3, 110],\n",
              " [22, 39, 111, 11, 112, 6, 40, 41, 42, 55, 17],\n",
              " [15, 59, 60, 113, 6, 17, 114, 60, 115, 17, 33, 2],\n",
              " [116, 48, 43, 6, 9, 32, 17, 117],\n",
              " [22, 17, 32, 16, 43, 6, 33, 61, 118, 6, 12, 2, 3],\n",
              " [22, 6, 56, 57, 58],\n",
              " [22, 119, 16, 43, 6, 33, 61, 120, 2, 3],\n",
              " [15, 23, 21, 11, 24, 16, 5, 2, 26],\n",
              " [1, 4, 18, 25, 7, 2, 26],\n",
              " [1, 13, 20],\n",
              " [20],\n",
              " [1, 4, 19, 20],\n",
              " [15, 23, 21, 11, 24, 16, 5, 20],\n",
              " [1, 4, 18, 25, 7, 20],\n",
              " [1, 4, 62, 9, 34, 35, 5, 20],\n",
              " [1, 13, 27, 14, 3],\n",
              " [27, 14, 3],\n",
              " [1, 4, 19, 27, 14, 3],\n",
              " [15, 23, 21, 11, 24, 16, 5, 27, 14, 3],\n",
              " [1, 4, 18, 25, 7, 27, 14, 3],\n",
              " [1, 13, 28, 29],\n",
              " [28, 29],\n",
              " [1, 4, 19, 28, 29],\n",
              " [15, 23, 21, 11, 24, 16, 5, 28, 29],\n",
              " [1, 4, 18, 25, 7, 28, 29],\n",
              " [1, 13, 30],\n",
              " [30],\n",
              " [1, 4, 19, 20],\n",
              " [15, 23, 21, 11, 24, 16, 5, 30],\n",
              " [1, 4, 18, 25, 7, 30],\n",
              " [1, 4, 62, 9, 34, 35, 5, 30]]"
            ]
          },
          "execution_count": 10,
          "metadata": {},
          "output_type": "execute_result"
        }
      ],
      "source": [
        "# Tokenize the data (Tokenisasi Data)\n",
        "tokenizer = Tokenizer(num_words=2000)\n",
        "tokenizer.fit_on_texts(data['patterns'])\n",
        "train = tokenizer.texts_to_sequences(data['patterns'])\n",
        "train"
      ]
    },
    {
      "cell_type": "markdown",
      "metadata": {
        "id": "CbkPdzP-ykM6"
      },
      "source": [
        "## Padding"
      ]
    },
    {
      "cell_type": "code",
      "execution_count": 11,
      "metadata": {
        "colab": {
          "base_uri": "https://localhost:8080/"
        },
        "id": "TJSJ-MUYykM7",
        "outputId": "e37d4e96-f76a-4a7b-eb93-65cafd9a6fcc"
      },
      "outputs": [
        {
          "name": "stdout",
          "output_type": "stream",
          "text": [
            "[[ 0  0  0 ...  0  0 63]\n",
            " [ 0  0  0 ...  0  0 64]\n",
            " [ 0  0  0 ...  0  0 65]\n",
            " ...\n",
            " [ 0  0  0 ... 16  5 30]\n",
            " [ 0  0  0 ... 25  7 30]\n",
            " [ 0  0  0 ... 35  5 30]]\n"
          ]
        }
      ],
      "source": [
        "# Melakukan proses padding pada data\n",
        "x_train = pad_sequences(train)\n",
        "# Menampilkan hasil padding\n",
        "print(x_train)"
      ]
    },
    {
      "cell_type": "markdown",
      "metadata": {
        "id": "YqmZVix_ykM8"
      },
      "source": [
        "## Encoding Text"
      ]
    },
    {
      "cell_type": "code",
      "execution_count": 12,
      "metadata": {
        "colab": {
          "base_uri": "https://localhost:8080/"
        },
        "id": "cn1TE6FsykM8",
        "outputId": "a974fba4-7b44-47d1-bdd8-fb5e631167c0"
      },
      "outputs": [
        {
          "name": "stdout",
          "output_type": "stream",
          "text": [
            "[ 1  1  1  1  1  1  1  1  1  1  1  1  1  1  1  1  0  0  0  0  0  0  0  0\n",
            "  0  0 39 39 39 39 39 39 39 39 18 18 18 18 40  6 32 37 37 37 37 37 37 37\n",
            " 37 37 37 37 37 37 37 37 37 37 37 22 22 36 29 10 14 38 38 38 38 38 19 19\n",
            " 33 26  7 13 17 17 31  2  2  2  2  2  2  2  2  2 25  5 15 15 30 23  3 11\n",
            " 21 21 35 28  9 20 20 34 27  8 16 16 30 24  4 12]\n"
          ]
        }
      ],
      "source": [
        "# Melakukan konversi data label tags dengan encoding\n",
        "le = LabelEncoder()\n",
        "y_train = le.fit_transform(data['tags'])\n",
        "print(y_train)"
      ]
    },
    {
      "cell_type": "markdown",
      "metadata": {
        "id": "BLvFUEmHykM9"
      },
      "source": [
        "## Input Length, Output Length and Vocabulary"
      ]
    },
    {
      "cell_type": "code",
      "execution_count": 13,
      "metadata": {
        "colab": {
          "base_uri": "https://localhost:8080/"
        },
        "id": "yU5iC369ykM-",
        "outputId": "184847b9-040b-434f-ee9b-4c3543e6dba3"
      },
      "outputs": [
        {
          "name": "stdout",
          "output_type": "stream",
          "text": [
            "17\n"
          ]
        }
      ],
      "source": [
        "# Melihat hasil input pada data teks\n",
        "input_shape = x_train.shape[1]\n",
        "print(input_shape)"
      ]
    },
    {
      "cell_type": "code",
      "execution_count": 14,
      "metadata": {
        "colab": {
          "base_uri": "https://localhost:8080/"
        },
        "id": "26jfn_99ykM_",
        "outputId": "c6af2c71-e545-4ff5-e190-a16902b67eb7"
      },
      "outputs": [
        {
          "name": "stdout",
          "output_type": "stream",
          "text": [
            "jumlah kata unik :  120\n",
            "panjang output:  41\n"
          ]
        }
      ],
      "source": [
        "# Melakukan definisi tiap kalimat dan kata pada data teks\n",
        "vocabulary = len(tokenizer.word_index)\n",
        "print(\"jumlah kata unik : \", vocabulary)\n",
        "\n",
        "# Melakukan pemeriksaan pada data output label teks\n",
        "output_length = le.classes_.shape[0]\n",
        "print(\"panjang output: \", output_length)"
      ]
    },
    {
      "cell_type": "markdown",
      "metadata": {
        "id": "ll0-FZ55ykNA"
      },
      "source": [
        "Input length dan output length terlihat sangat jelas hasilnya. Mereka adalah untuk bentuk input dan bentuk output dari data train atau latih yang akan diproses pada algoritma LSTM yang akan dilatih.\n",
        "\n",
        "Vocabulary Size adalah untuk lapisan penyematan untuk membuat representasi vektor unik untuk setiap kata."
      ]
    },
    {
      "cell_type": "markdown",
      "metadata": {
        "id": "9WLhL740ykNA"
      },
      "source": [
        "## Save Model Words & Classes"
      ]
    },
    {
      "cell_type": "code",
      "execution_count": 15,
      "metadata": {
        "id": "V6pjTNzAykNB"
      },
      "outputs": [],
      "source": [
        "# Simpan hasil pemrosesan teks dengan menggunakan pickle\n",
        "pickle.dump(words, open('words.pkl','wb'))\n",
        "pickle.dump(classes, open('classes.pkl','wb'))"
      ]
    },
    {
      "cell_type": "markdown",
      "metadata": {
        "id": "i5MS3qKjykNB"
      },
      "source": [
        "## Save Label Encoder & Tokenizer"
      ]
    },
    {
      "cell_type": "code",
      "execution_count": 16,
      "metadata": {
        "id": "ELhfjai0ykNC"
      },
      "outputs": [],
      "source": [
        "pickle.dump(le, open('le.pkl','wb'))\n",
        "pickle.dump(tokenizer, open('tokenizers.pkl','wb'))"
      ]
    },
    {
      "cell_type": "markdown",
      "metadata": {
        "id": "yrHZf9Rdr4pi"
      },
      "source": [
        "# MODEL"
      ]
    },
    {
      "cell_type": "code",
      "execution_count": 17,
      "metadata": {
        "id": "wTMM7B4h3bV2"
      },
      "outputs": [],
      "source": [
        "# Creating the model (Membuat Modelling)\n",
        "i = Input(shape=(input_shape,)) # Layer Input\n",
        "x = Embedding(vocabulary+1,10)(i) # Layer Embedding\n",
        "x = LSTM(10, return_sequences=True, recurrent_dropout=0.2)(x) # Layer Long Short Term Memory\n",
        "x = Flatten()(x) # Layer Flatten\n",
        "x = Dense(output_length, activation=\"softmax\")(x) # Layer Dense\n",
        "model  = Model(i,x) # Model yang telah disusun dari layer Input sampai layer Output\n",
        "\n",
        "# Compiling the model (Kompilasi Model)\n",
        "model.compile(loss=\"sparse_categorical_crossentropy\", optimizer='adam', metrics=['accuracy'])"
      ]
    },
    {
      "cell_type": "code",
      "execution_count": 18,
      "metadata": {
        "colab": {
          "base_uri": "https://localhost:8080/",
          "height": 533
        },
        "id": "kCI4EmXCyQ5q",
        "outputId": "5a5eab0c-525f-41d1-ddbc-43c7e2dd8402"
      },
      "outputs": [
        {
          "name": "stdout",
          "output_type": "stream",
          "text": [
            "You must install pydot (`pip install pydot`) and install graphviz (see instructions at https://graphviz.gitlab.io/download/) for plot_model to work.\n"
          ]
        }
      ],
      "source": [
        "# Visualization Plot Architecture Model (Visualisasi Plot Arsitektur Model)\n",
        "plot_model(model, to_file='model_plot.png', show_shapes=True, show_layer_names=True)"
      ]
    },
    {
      "cell_type": "code",
      "execution_count": 19,
      "metadata": {
        "colab": {
          "base_uri": "https://localhost:8080/"
        },
        "id": "Tq0qnNhRz6jf",
        "outputId": "a86500df-728a-45e2-d7db-9a0773e8d62b"
      },
      "outputs": [
        {
          "name": "stdout",
          "output_type": "stream",
          "text": [
            "Model: \"model\"\n",
            "_________________________________________________________________\n",
            " Layer (type)                Output Shape              Param #   \n",
            "=================================================================\n",
            " input_1 (InputLayer)        [(None, 17)]              0         \n",
            "                                                                 \n",
            " embedding (Embedding)       (None, 17, 10)            1210      \n",
            "                                                                 \n",
            " lstm (LSTM)                 (None, 17, 10)            840       \n",
            "                                                                 \n",
            " flatten (Flatten)           (None, 170)               0         \n",
            "                                                                 \n",
            " dense (Dense)               (None, 41)                7011      \n",
            "                                                                 \n",
            "=================================================================\n",
            "Total params: 9061 (35.39 KB)\n",
            "Trainable params: 9061 (35.39 KB)\n",
            "Non-trainable params: 0 (0.00 Byte)\n",
            "_________________________________________________________________\n"
          ]
        }
      ],
      "source": [
        "# Menampilkan parameter pada model LSTM\n",
        "model.summary()"
      ]
    },
    {
      "cell_type": "code",
      "execution_count": 20,
      "metadata": {
        "colab": {
          "base_uri": "https://localhost:8080/"
        },
        "id": "C0pc-Drx0ZQt",
        "outputId": "9f6c8149-c179-4889-9d23-5d2fa685ee32"
      },
      "outputs": [
        {
          "name": "stdout",
          "output_type": "stream",
          "text": [
            "Epoch 1/350\n"
          ]
        },
        {
          "name": "stdout",
          "output_type": "stream",
          "text": [
            "4/4 [==============================] - 4s 14ms/step - loss: 3.7043 - accuracy: 0.1607\n",
            "Epoch 2/350\n",
            "4/4 [==============================] - 0s 11ms/step - loss: 3.6915 - accuracy: 0.1607\n",
            "Epoch 3/350\n",
            "4/4 [==============================] - 0s 11ms/step - loss: 3.6735 - accuracy: 0.1607\n",
            "Epoch 4/350\n",
            "4/4 [==============================] - 0s 12ms/step - loss: 3.6495 - accuracy: 0.1607\n",
            "Epoch 5/350\n",
            "4/4 [==============================] - 0s 11ms/step - loss: 3.6165 - accuracy: 0.1607\n",
            "Epoch 6/350\n",
            "4/4 [==============================] - 0s 10ms/step - loss: 3.5706 - accuracy: 0.1607\n",
            "Epoch 7/350\n",
            "4/4 [==============================] - 0s 10ms/step - loss: 3.5063 - accuracy: 0.1607\n",
            "Epoch 8/350\n",
            "4/4 [==============================] - 0s 11ms/step - loss: 3.4309 - accuracy: 0.1607\n",
            "Epoch 9/350\n",
            "4/4 [==============================] - 0s 11ms/step - loss: 3.3320 - accuracy: 0.1607\n",
            "Epoch 10/350\n",
            "4/4 [==============================] - 0s 14ms/step - loss: 3.2158 - accuracy: 0.1607\n",
            "Epoch 11/350\n",
            "4/4 [==============================] - 0s 12ms/step - loss: 3.1210 - accuracy: 0.1607\n",
            "Epoch 12/350\n",
            "4/4 [==============================] - 0s 15ms/step - loss: 3.0686 - accuracy: 0.1607\n",
            "Epoch 13/350\n",
            "4/4 [==============================] - 0s 12ms/step - loss: 3.1046 - accuracy: 0.1607\n",
            "Epoch 14/350\n",
            "4/4 [==============================] - 0s 12ms/step - loss: 3.0914 - accuracy: 0.1607\n",
            "Epoch 15/350\n",
            "4/4 [==============================] - 0s 14ms/step - loss: 3.0654 - accuracy: 0.1607\n",
            "Epoch 16/350\n",
            "4/4 [==============================] - 0s 13ms/step - loss: 3.0511 - accuracy: 0.1607\n",
            "Epoch 17/350\n",
            "4/4 [==============================] - 0s 13ms/step - loss: 3.0445 - accuracy: 0.1607\n",
            "Epoch 18/350\n",
            "4/4 [==============================] - 0s 11ms/step - loss: 3.0290 - accuracy: 0.1607\n",
            "Epoch 19/350\n",
            "4/4 [==============================] - 0s 11ms/step - loss: 3.0323 - accuracy: 0.1607\n",
            "Epoch 20/350\n",
            "4/4 [==============================] - 0s 13ms/step - loss: 3.0230 - accuracy: 0.1607\n",
            "Epoch 21/350\n",
            "4/4 [==============================] - 0s 13ms/step - loss: 3.0164 - accuracy: 0.1607\n",
            "Epoch 22/350\n",
            "4/4 [==============================] - 0s 13ms/step - loss: 3.0065 - accuracy: 0.1607\n",
            "Epoch 23/350\n",
            "4/4 [==============================] - 0s 11ms/step - loss: 2.9884 - accuracy: 0.1607\n",
            "Epoch 24/350\n",
            "4/4 [==============================] - 0s 11ms/step - loss: 2.9771 - accuracy: 0.1607\n",
            "Epoch 25/350\n",
            "4/4 [==============================] - 0s 10ms/step - loss: 2.9680 - accuracy: 0.1607\n",
            "Epoch 26/350\n",
            "4/4 [==============================] - 0s 11ms/step - loss: 2.9634 - accuracy: 0.1607\n",
            "Epoch 27/350\n",
            "4/4 [==============================] - 0s 14ms/step - loss: 2.9548 - accuracy: 0.1607\n",
            "Epoch 28/350\n",
            "4/4 [==============================] - 0s 10ms/step - loss: 2.9309 - accuracy: 0.1607\n",
            "Epoch 29/350\n",
            "4/4 [==============================] - 0s 10ms/step - loss: 2.9268 - accuracy: 0.1607\n",
            "Epoch 30/350\n",
            "4/4 [==============================] - 0s 9ms/step - loss: 2.9171 - accuracy: 0.1607\n",
            "Epoch 31/350\n",
            "4/4 [==============================] - 0s 10ms/step - loss: 2.8884 - accuracy: 0.1696\n",
            "Epoch 32/350\n",
            "4/4 [==============================] - 0s 9ms/step - loss: 2.8747 - accuracy: 0.1786\n",
            "Epoch 33/350\n",
            "4/4 [==============================] - 0s 10ms/step - loss: 2.8631 - accuracy: 0.1696\n",
            "Epoch 34/350\n",
            "4/4 [==============================] - 0s 10ms/step - loss: 2.8494 - accuracy: 0.1964\n",
            "Epoch 35/350\n",
            "4/4 [==============================] - 0s 12ms/step - loss: 2.8342 - accuracy: 0.2589\n",
            "Epoch 36/350\n",
            "4/4 [==============================] - 0s 13ms/step - loss: 2.8181 - accuracy: 0.2143\n",
            "Epoch 37/350\n",
            "4/4 [==============================] - 0s 12ms/step - loss: 2.7947 - accuracy: 0.2232\n",
            "Epoch 38/350\n",
            "4/4 [==============================] - 0s 13ms/step - loss: 2.7684 - accuracy: 0.2411\n",
            "Epoch 39/350\n",
            "4/4 [==============================] - 0s 11ms/step - loss: 2.7465 - accuracy: 0.2768\n",
            "Epoch 40/350\n",
            "4/4 [==============================] - 0s 11ms/step - loss: 2.7206 - accuracy: 0.2768\n",
            "Epoch 41/350\n",
            "4/4 [==============================] - 0s 10ms/step - loss: 2.6970 - accuracy: 0.2500\n",
            "Epoch 42/350\n",
            "4/4 [==============================] - 0s 13ms/step - loss: 2.6721 - accuracy: 0.2768\n",
            "Epoch 43/350\n",
            "4/4 [==============================] - 0s 11ms/step - loss: 2.6543 - accuracy: 0.2768\n",
            "Epoch 44/350\n",
            "4/4 [==============================] - 0s 12ms/step - loss: 2.6303 - accuracy: 0.2589\n",
            "Epoch 45/350\n",
            "4/4 [==============================] - 0s 9ms/step - loss: 2.6045 - accuracy: 0.2589\n",
            "Epoch 46/350\n",
            "4/4 [==============================] - 0s 11ms/step - loss: 2.5728 - accuracy: 0.2679\n",
            "Epoch 47/350\n",
            "4/4 [==============================] - 0s 12ms/step - loss: 2.5493 - accuracy: 0.2857\n",
            "Epoch 48/350\n",
            "4/4 [==============================] - 0s 12ms/step - loss: 2.5263 - accuracy: 0.2768\n",
            "Epoch 49/350\n",
            "4/4 [==============================] - 0s 14ms/step - loss: 2.4985 - accuracy: 0.2857\n",
            "Epoch 50/350\n",
            "4/4 [==============================] - 0s 10ms/step - loss: 2.4724 - accuracy: 0.2857\n",
            "Epoch 51/350\n",
            "4/4 [==============================] - 0s 11ms/step - loss: 2.4432 - accuracy: 0.2679\n",
            "Epoch 52/350\n",
            "4/4 [==============================] - 0s 11ms/step - loss: 2.4333 - accuracy: 0.2768\n",
            "Epoch 53/350\n",
            "4/4 [==============================] - 0s 11ms/step - loss: 2.4008 - accuracy: 0.2679\n",
            "Epoch 54/350\n",
            "4/4 [==============================] - 0s 13ms/step - loss: 2.3658 - accuracy: 0.2946\n",
            "Epoch 55/350\n",
            "4/4 [==============================] - 0s 11ms/step - loss: 2.3439 - accuracy: 0.3036\n",
            "Epoch 56/350\n",
            "4/4 [==============================] - 0s 11ms/step - loss: 2.3175 - accuracy: 0.3125\n",
            "Epoch 57/350\n",
            "4/4 [==============================] - 0s 11ms/step - loss: 2.3068 - accuracy: 0.3214\n",
            "Epoch 58/350\n",
            "4/4 [==============================] - 0s 10ms/step - loss: 2.2865 - accuracy: 0.3304\n",
            "Epoch 59/350\n",
            "4/4 [==============================] - 0s 11ms/step - loss: 2.2714 - accuracy: 0.3125\n",
            "Epoch 60/350\n",
            "4/4 [==============================] - 0s 12ms/step - loss: 2.2448 - accuracy: 0.3214\n",
            "Epoch 61/350\n",
            "4/4 [==============================] - 0s 11ms/step - loss: 2.2321 - accuracy: 0.3661\n",
            "Epoch 62/350\n",
            "4/4 [==============================] - 0s 10ms/step - loss: 2.2065 - accuracy: 0.3571\n",
            "Epoch 63/350\n",
            "4/4 [==============================] - 0s 12ms/step - loss: 2.1861 - accuracy: 0.4018\n",
            "Epoch 64/350\n",
            "4/4 [==============================] - 0s 11ms/step - loss: 2.1794 - accuracy: 0.3750\n",
            "Epoch 65/350\n",
            "4/4 [==============================] - 0s 10ms/step - loss: 2.1601 - accuracy: 0.3571\n",
            "Epoch 66/350\n",
            "4/4 [==============================] - 0s 10ms/step - loss: 2.1490 - accuracy: 0.4196\n",
            "Epoch 67/350\n",
            "4/4 [==============================] - 0s 10ms/step - loss: 2.1450 - accuracy: 0.4196\n",
            "Epoch 68/350\n",
            "4/4 [==============================] - 0s 10ms/step - loss: 2.0908 - accuracy: 0.4196\n",
            "Epoch 69/350\n",
            "4/4 [==============================] - 0s 10ms/step - loss: 2.1023 - accuracy: 0.3661\n",
            "Epoch 70/350\n",
            "4/4 [==============================] - 0s 12ms/step - loss: 2.0735 - accuracy: 0.3929\n",
            "Epoch 71/350\n",
            "4/4 [==============================] - 0s 11ms/step - loss: 2.0759 - accuracy: 0.3750\n",
            "Epoch 72/350\n",
            "4/4 [==============================] - 0s 10ms/step - loss: 2.0632 - accuracy: 0.4107\n",
            "Epoch 73/350\n",
            "4/4 [==============================] - 0s 11ms/step - loss: 2.0487 - accuracy: 0.4464\n",
            "Epoch 74/350\n",
            "4/4 [==============================] - 0s 10ms/step - loss: 2.0243 - accuracy: 0.4018\n",
            "Epoch 75/350\n",
            "4/4 [==============================] - 0s 10ms/step - loss: 2.0040 - accuracy: 0.3929\n",
            "Epoch 76/350\n",
            "4/4 [==============================] - 0s 10ms/step - loss: 1.9887 - accuracy: 0.4375\n",
            "Epoch 77/350\n",
            "4/4 [==============================] - 0s 11ms/step - loss: 1.9752 - accuracy: 0.4196\n",
            "Epoch 78/350\n",
            "4/4 [==============================] - 0s 10ms/step - loss: 1.9619 - accuracy: 0.4643\n",
            "Epoch 79/350\n",
            "4/4 [==============================] - 0s 9ms/step - loss: 1.9535 - accuracy: 0.4464\n",
            "Epoch 80/350\n",
            "4/4 [==============================] - 0s 10ms/step - loss: 1.9233 - accuracy: 0.4643\n",
            "Epoch 81/350\n",
            "4/4 [==============================] - 0s 9ms/step - loss: 1.9111 - accuracy: 0.4554\n",
            "Epoch 82/350\n",
            "4/4 [==============================] - 0s 11ms/step - loss: 1.9138 - accuracy: 0.4107\n",
            "Epoch 83/350\n",
            "4/4 [==============================] - 0s 9ms/step - loss: 1.8946 - accuracy: 0.4911\n",
            "Epoch 84/350\n",
            "4/4 [==============================] - 0s 11ms/step - loss: 1.8761 - accuracy: 0.4821\n",
            "Epoch 85/350\n",
            "4/4 [==============================] - 0s 10ms/step - loss: 1.8692 - accuracy: 0.4554\n",
            "Epoch 86/350\n",
            "4/4 [==============================] - 0s 12ms/step - loss: 1.8514 - accuracy: 0.4911\n",
            "Epoch 87/350\n",
            "4/4 [==============================] - 0s 9ms/step - loss: 1.8420 - accuracy: 0.4643\n",
            "Epoch 88/350\n",
            "4/4 [==============================] - 0s 10ms/step - loss: 1.8128 - accuracy: 0.4554\n",
            "Epoch 89/350\n",
            "4/4 [==============================] - 0s 10ms/step - loss: 1.8064 - accuracy: 0.4821\n",
            "Epoch 90/350\n",
            "4/4 [==============================] - 0s 10ms/step - loss: 1.7809 - accuracy: 0.4911\n",
            "Epoch 91/350\n",
            "4/4 [==============================] - 0s 14ms/step - loss: 1.7860 - accuracy: 0.4821\n",
            "Epoch 92/350\n",
            "4/4 [==============================] - 0s 13ms/step - loss: 1.7545 - accuracy: 0.4911\n",
            "Epoch 93/350\n",
            "4/4 [==============================] - 0s 16ms/step - loss: 1.7628 - accuracy: 0.4643\n",
            "Epoch 94/350\n",
            "4/4 [==============================] - 0s 13ms/step - loss: 1.7329 - accuracy: 0.4554\n",
            "Epoch 95/350\n",
            "4/4 [==============================] - 0s 12ms/step - loss: 1.7116 - accuracy: 0.4821\n",
            "Epoch 96/350\n",
            "4/4 [==============================] - 0s 14ms/step - loss: 1.7206 - accuracy: 0.4732\n",
            "Epoch 97/350\n",
            "4/4 [==============================] - 0s 22ms/step - loss: 1.6924 - accuracy: 0.4732\n",
            "Epoch 98/350\n",
            "4/4 [==============================] - 0s 20ms/step - loss: 1.6962 - accuracy: 0.4911\n",
            "Epoch 99/350\n",
            "4/4 [==============================] - 0s 18ms/step - loss: 1.6821 - accuracy: 0.4911\n",
            "Epoch 100/350\n",
            "4/4 [==============================] - 0s 13ms/step - loss: 1.6798 - accuracy: 0.4821\n",
            "Epoch 101/350\n",
            "4/4 [==============================] - 0s 12ms/step - loss: 1.6507 - accuracy: 0.4821\n",
            "Epoch 102/350\n",
            "4/4 [==============================] - 0s 11ms/step - loss: 1.6377 - accuracy: 0.4911\n",
            "Epoch 103/350\n",
            "4/4 [==============================] - 0s 16ms/step - loss: 1.6279 - accuracy: 0.5179\n",
            "Epoch 104/350\n",
            "4/4 [==============================] - 0s 18ms/step - loss: 1.6172 - accuracy: 0.5089\n",
            "Epoch 105/350\n",
            "4/4 [==============================] - 0s 13ms/step - loss: 1.5984 - accuracy: 0.5268\n",
            "Epoch 106/350\n",
            "4/4 [==============================] - 0s 11ms/step - loss: 1.6001 - accuracy: 0.5179\n",
            "Epoch 107/350\n",
            "4/4 [==============================] - 0s 12ms/step - loss: 1.5882 - accuracy: 0.5000\n",
            "Epoch 108/350\n",
            "4/4 [==============================] - 0s 10ms/step - loss: 1.5704 - accuracy: 0.5268\n",
            "Epoch 109/350\n",
            "4/4 [==============================] - 0s 10ms/step - loss: 1.5660 - accuracy: 0.4911\n",
            "Epoch 110/350\n",
            "4/4 [==============================] - 0s 10ms/step - loss: 1.5430 - accuracy: 0.5446\n",
            "Epoch 111/350\n",
            "4/4 [==============================] - 0s 10ms/step - loss: 1.5333 - accuracy: 0.5804\n",
            "Epoch 112/350\n",
            "4/4 [==============================] - 0s 10ms/step - loss: 1.5164 - accuracy: 0.5000\n",
            "Epoch 113/350\n",
            "4/4 [==============================] - 0s 12ms/step - loss: 1.5078 - accuracy: 0.5357\n",
            "Epoch 114/350\n",
            "4/4 [==============================] - 0s 10ms/step - loss: 1.4946 - accuracy: 0.5714\n",
            "Epoch 115/350\n",
            "4/4 [==============================] - 0s 10ms/step - loss: 1.4901 - accuracy: 0.5268\n",
            "Epoch 116/350\n",
            "4/4 [==============================] - 0s 9ms/step - loss: 1.4652 - accuracy: 0.5357\n",
            "Epoch 117/350\n",
            "4/4 [==============================] - 0s 11ms/step - loss: 1.4733 - accuracy: 0.5357\n",
            "Epoch 118/350\n",
            "4/4 [==============================] - 0s 11ms/step - loss: 1.4659 - accuracy: 0.5625\n",
            "Epoch 119/350\n",
            "4/4 [==============================] - 0s 19ms/step - loss: 1.4476 - accuracy: 0.6071\n",
            "Epoch 120/350\n",
            "4/4 [==============================] - 0s 10ms/step - loss: 1.4261 - accuracy: 0.5982\n",
            "Epoch 121/350\n",
            "4/4 [==============================] - 0s 10ms/step - loss: 1.4320 - accuracy: 0.5804\n",
            "Epoch 122/350\n",
            "4/4 [==============================] - 0s 10ms/step - loss: 1.3926 - accuracy: 0.5893\n",
            "Epoch 123/350\n",
            "4/4 [==============================] - 0s 10ms/step - loss: 1.4006 - accuracy: 0.5804\n",
            "Epoch 124/350\n",
            "4/4 [==============================] - 0s 11ms/step - loss: 1.4021 - accuracy: 0.5714\n",
            "Epoch 125/350\n",
            "4/4 [==============================] - 0s 11ms/step - loss: 1.3794 - accuracy: 0.5536\n",
            "Epoch 126/350\n",
            "4/4 [==============================] - 0s 12ms/step - loss: 1.3524 - accuracy: 0.5625\n",
            "Epoch 127/350\n",
            "4/4 [==============================] - 0s 14ms/step - loss: 1.3717 - accuracy: 0.5625\n",
            "Epoch 128/350\n",
            "4/4 [==============================] - 0s 12ms/step - loss: 1.3658 - accuracy: 0.6161\n",
            "Epoch 129/350\n",
            "4/4 [==============================] - 0s 13ms/step - loss: 1.3479 - accuracy: 0.6161\n",
            "Epoch 130/350\n",
            "4/4 [==============================] - 0s 13ms/step - loss: 1.3224 - accuracy: 0.6250\n",
            "Epoch 131/350\n",
            "4/4 [==============================] - 0s 11ms/step - loss: 1.3236 - accuracy: 0.6339\n",
            "Epoch 132/350\n",
            "4/4 [==============================] - 0s 13ms/step - loss: 1.3067 - accuracy: 0.6875\n",
            "Epoch 133/350\n",
            "4/4 [==============================] - 0s 12ms/step - loss: 1.3086 - accuracy: 0.6607\n",
            "Epoch 134/350\n",
            "4/4 [==============================] - 0s 13ms/step - loss: 1.2830 - accuracy: 0.6339\n",
            "Epoch 135/350\n",
            "4/4 [==============================] - 0s 13ms/step - loss: 1.3001 - accuracy: 0.6161\n",
            "Epoch 136/350\n",
            "4/4 [==============================] - 0s 11ms/step - loss: 1.2669 - accuracy: 0.6607\n",
            "Epoch 137/350\n",
            "4/4 [==============================] - 0s 12ms/step - loss: 1.2661 - accuracy: 0.6339\n",
            "Epoch 138/350\n",
            "4/4 [==============================] - 0s 10ms/step - loss: 1.2622 - accuracy: 0.6696\n",
            "Epoch 139/350\n",
            "4/4 [==============================] - 0s 11ms/step - loss: 1.2362 - accuracy: 0.6786\n",
            "Epoch 140/350\n",
            "4/4 [==============================] - 0s 12ms/step - loss: 1.2316 - accuracy: 0.6786\n",
            "Epoch 141/350\n",
            "4/4 [==============================] - 0s 11ms/step - loss: 1.2182 - accuracy: 0.6696\n",
            "Epoch 142/350\n",
            "4/4 [==============================] - 0s 10ms/step - loss: 1.2225 - accuracy: 0.6875\n",
            "Epoch 143/350\n",
            "4/4 [==============================] - 0s 10ms/step - loss: 1.2008 - accuracy: 0.6875\n",
            "Epoch 144/350\n",
            "4/4 [==============================] - 0s 11ms/step - loss: 1.1987 - accuracy: 0.6875\n",
            "Epoch 145/350\n",
            "4/4 [==============================] - 0s 18ms/step - loss: 1.1774 - accuracy: 0.7054\n",
            "Epoch 146/350\n",
            "4/4 [==============================] - 0s 13ms/step - loss: 1.1776 - accuracy: 0.6875\n",
            "Epoch 147/350\n",
            "4/4 [==============================] - 0s 10ms/step - loss: 1.1639 - accuracy: 0.7143\n",
            "Epoch 148/350\n",
            "4/4 [==============================] - 0s 10ms/step - loss: 1.1593 - accuracy: 0.6786\n",
            "Epoch 149/350\n",
            "4/4 [==============================] - 0s 10ms/step - loss: 1.1388 - accuracy: 0.7232\n",
            "Epoch 150/350\n",
            "4/4 [==============================] - 0s 9ms/step - loss: 1.1424 - accuracy: 0.6875\n",
            "Epoch 151/350\n",
            "4/4 [==============================] - 0s 11ms/step - loss: 1.1299 - accuracy: 0.6964\n",
            "Epoch 152/350\n",
            "4/4 [==============================] - 0s 9ms/step - loss: 1.1349 - accuracy: 0.6964\n",
            "Epoch 153/350\n",
            "4/4 [==============================] - 0s 12ms/step - loss: 1.1077 - accuracy: 0.6964\n",
            "Epoch 154/350\n",
            "4/4 [==============================] - 0s 11ms/step - loss: 1.1085 - accuracy: 0.6875\n",
            "Epoch 155/350\n",
            "4/4 [==============================] - 0s 12ms/step - loss: 1.0913 - accuracy: 0.6964\n",
            "Epoch 156/350\n",
            "4/4 [==============================] - 0s 13ms/step - loss: 1.0875 - accuracy: 0.7321\n",
            "Epoch 157/350\n",
            "4/4 [==============================] - 0s 19ms/step - loss: 1.0765 - accuracy: 0.6875\n",
            "Epoch 158/350\n",
            "4/4 [==============================] - 0s 12ms/step - loss: 1.0733 - accuracy: 0.6964\n",
            "Epoch 159/350\n",
            "4/4 [==============================] - 0s 15ms/step - loss: 1.0687 - accuracy: 0.7500\n",
            "Epoch 160/350\n",
            "4/4 [==============================] - 0s 11ms/step - loss: 1.0352 - accuracy: 0.7143\n",
            "Epoch 161/350\n",
            "4/4 [==============================] - 0s 11ms/step - loss: 1.0398 - accuracy: 0.7143\n",
            "Epoch 162/350\n",
            "4/4 [==============================] - 0s 12ms/step - loss: 1.0283 - accuracy: 0.7321\n",
            "Epoch 163/350\n",
            "4/4 [==============================] - 0s 16ms/step - loss: 1.0242 - accuracy: 0.7054\n",
            "Epoch 164/350\n",
            "4/4 [==============================] - 0s 13ms/step - loss: 1.0179 - accuracy: 0.7500\n",
            "Epoch 165/350\n",
            "4/4 [==============================] - 0s 14ms/step - loss: 0.9977 - accuracy: 0.7321\n",
            "Epoch 166/350\n",
            "4/4 [==============================] - 0s 12ms/step - loss: 0.9945 - accuracy: 0.7321\n",
            "Epoch 167/350\n",
            "4/4 [==============================] - 0s 11ms/step - loss: 0.9813 - accuracy: 0.7500\n",
            "Epoch 168/350\n",
            "4/4 [==============================] - 0s 14ms/step - loss: 0.9818 - accuracy: 0.7500\n",
            "Epoch 169/350\n",
            "4/4 [==============================] - 0s 11ms/step - loss: 0.9690 - accuracy: 0.7946\n",
            "Epoch 170/350\n",
            "4/4 [==============================] - 0s 13ms/step - loss: 0.9647 - accuracy: 0.7768\n",
            "Epoch 171/350\n",
            "4/4 [==============================] - 0s 11ms/step - loss: 0.9573 - accuracy: 0.7768\n",
            "Epoch 172/350\n",
            "4/4 [==============================] - 0s 22ms/step - loss: 0.9425 - accuracy: 0.7679\n",
            "Epoch 173/350\n",
            "4/4 [==============================] - 0s 19ms/step - loss: 0.9205 - accuracy: 0.8214\n",
            "Epoch 174/350\n",
            "4/4 [==============================] - 0s 11ms/step - loss: 0.9355 - accuracy: 0.7589\n",
            "Epoch 175/350\n",
            "4/4 [==============================] - 0s 11ms/step - loss: 0.9192 - accuracy: 0.7768\n",
            "Epoch 176/350\n",
            "4/4 [==============================] - 0s 16ms/step - loss: 0.9120 - accuracy: 0.7857\n",
            "Epoch 177/350\n",
            "4/4 [==============================] - 0s 12ms/step - loss: 0.8958 - accuracy: 0.8036\n",
            "Epoch 178/350\n",
            "4/4 [==============================] - 0s 12ms/step - loss: 0.8969 - accuracy: 0.8304\n",
            "Epoch 179/350\n",
            "4/4 [==============================] - 0s 11ms/step - loss: 0.8875 - accuracy: 0.8304\n",
            "Epoch 180/350\n",
            "4/4 [==============================] - 0s 12ms/step - loss: 0.8890 - accuracy: 0.7768\n",
            "Epoch 181/350\n",
            "4/4 [==============================] - 0s 9ms/step - loss: 0.8791 - accuracy: 0.8036\n",
            "Epoch 182/350\n",
            "4/4 [==============================] - 0s 11ms/step - loss: 0.8576 - accuracy: 0.7946\n",
            "Epoch 183/350\n",
            "4/4 [==============================] - 0s 11ms/step - loss: 0.8520 - accuracy: 0.8125\n",
            "Epoch 184/350\n",
            "4/4 [==============================] - 0s 10ms/step - loss: 0.8410 - accuracy: 0.8125\n",
            "Epoch 185/350\n",
            "4/4 [==============================] - 0s 10ms/step - loss: 0.8382 - accuracy: 0.8304\n",
            "Epoch 186/350\n",
            "4/4 [==============================] - 0s 10ms/step - loss: 0.8259 - accuracy: 0.8036\n",
            "Epoch 187/350\n",
            "4/4 [==============================] - 0s 10ms/step - loss: 0.8312 - accuracy: 0.7946\n",
            "Epoch 188/350\n",
            "4/4 [==============================] - 0s 10ms/step - loss: 0.8236 - accuracy: 0.8393\n",
            "Epoch 189/350\n",
            "4/4 [==============================] - 0s 10ms/step - loss: 0.8140 - accuracy: 0.8214\n",
            "Epoch 190/350\n",
            "4/4 [==============================] - 0s 11ms/step - loss: 0.8101 - accuracy: 0.8125\n",
            "Epoch 191/350\n",
            "4/4 [==============================] - 0s 13ms/step - loss: 0.7966 - accuracy: 0.8393\n",
            "Epoch 192/350\n",
            "4/4 [==============================] - 0s 10ms/step - loss: 0.7915 - accuracy: 0.8214\n",
            "Epoch 193/350\n",
            "4/4 [==============================] - 0s 15ms/step - loss: 0.7820 - accuracy: 0.8304\n",
            "Epoch 194/350\n",
            "4/4 [==============================] - 0s 12ms/step - loss: 0.7764 - accuracy: 0.8393\n",
            "Epoch 195/350\n",
            "4/4 [==============================] - 0s 13ms/step - loss: 0.7626 - accuracy: 0.8482\n",
            "Epoch 196/350\n",
            "4/4 [==============================] - 0s 12ms/step - loss: 0.7662 - accuracy: 0.8125\n",
            "Epoch 197/350\n",
            "4/4 [==============================] - 0s 14ms/step - loss: 0.7540 - accuracy: 0.8482\n",
            "Epoch 198/350\n",
            "4/4 [==============================] - 0s 15ms/step - loss: 0.7445 - accuracy: 0.8482\n",
            "Epoch 199/350\n",
            "4/4 [==============================] - 0s 13ms/step - loss: 0.7394 - accuracy: 0.8661\n",
            "Epoch 200/350\n",
            "4/4 [==============================] - 0s 13ms/step - loss: 0.7390 - accuracy: 0.8304\n",
            "Epoch 201/350\n",
            "4/4 [==============================] - 0s 11ms/step - loss: 0.7291 - accuracy: 0.8571\n",
            "Epoch 202/350\n",
            "4/4 [==============================] - 0s 12ms/step - loss: 0.7245 - accuracy: 0.8214\n",
            "Epoch 203/350\n",
            "4/4 [==============================] - 0s 11ms/step - loss: 0.7219 - accuracy: 0.8482\n",
            "Epoch 204/350\n",
            "4/4 [==============================] - 0s 12ms/step - loss: 0.7128 - accuracy: 0.8304\n",
            "Epoch 205/350\n",
            "4/4 [==============================] - 0s 12ms/step - loss: 0.7087 - accuracy: 0.8304\n",
            "Epoch 206/350\n",
            "4/4 [==============================] - 0s 11ms/step - loss: 0.7114 - accuracy: 0.8304\n",
            "Epoch 207/350\n",
            "4/4 [==============================] - 0s 25ms/step - loss: 0.7011 - accuracy: 0.8571\n",
            "Epoch 208/350\n",
            "4/4 [==============================] - 0s 13ms/step - loss: 0.6958 - accuracy: 0.8304\n",
            "Epoch 209/350\n",
            "4/4 [==============================] - 0s 12ms/step - loss: 0.6968 - accuracy: 0.8482\n",
            "Epoch 210/350\n",
            "4/4 [==============================] - 0s 11ms/step - loss: 0.6739 - accuracy: 0.8393\n",
            "Epoch 211/350\n",
            "4/4 [==============================] - 0s 12ms/step - loss: 0.6748 - accuracy: 0.8304\n",
            "Epoch 212/350\n",
            "4/4 [==============================] - 0s 14ms/step - loss: 0.6714 - accuracy: 0.8393\n",
            "Epoch 213/350\n",
            "4/4 [==============================] - 0s 11ms/step - loss: 0.6628 - accuracy: 0.8214\n",
            "Epoch 214/350\n",
            "4/4 [==============================] - 0s 11ms/step - loss: 0.6635 - accuracy: 0.8304\n",
            "Epoch 215/350\n",
            "4/4 [==============================] - 0s 13ms/step - loss: 0.6537 - accuracy: 0.8482\n",
            "Epoch 216/350\n",
            "4/4 [==============================] - 0s 11ms/step - loss: 0.6365 - accuracy: 0.8839\n",
            "Epoch 217/350\n",
            "4/4 [==============================] - 0s 12ms/step - loss: 0.6475 - accuracy: 0.8393\n",
            "Epoch 218/350\n",
            "4/4 [==============================] - 0s 12ms/step - loss: 0.6405 - accuracy: 0.8304\n",
            "Epoch 219/350\n",
            "4/4 [==============================] - 0s 12ms/step - loss: 0.6292 - accuracy: 0.8393\n",
            "Epoch 220/350\n",
            "4/4 [==============================] - 0s 12ms/step - loss: 0.6292 - accuracy: 0.8393\n",
            "Epoch 221/350\n",
            "4/4 [==============================] - 0s 14ms/step - loss: 0.6093 - accuracy: 0.8661\n",
            "Epoch 222/350\n",
            "4/4 [==============================] - 0s 12ms/step - loss: 0.6207 - accuracy: 0.8482\n",
            "Epoch 223/350\n",
            "4/4 [==============================] - 0s 13ms/step - loss: 0.6128 - accuracy: 0.8482\n",
            "Epoch 224/350\n",
            "4/4 [==============================] - 0s 16ms/step - loss: 0.5960 - accuracy: 0.8661\n",
            "Epoch 225/350\n",
            "4/4 [==============================] - 0s 14ms/step - loss: 0.6106 - accuracy: 0.8661\n",
            "Epoch 226/350\n",
            "4/4 [==============================] - 0s 13ms/step - loss: 0.6106 - accuracy: 0.8571\n",
            "Epoch 227/350\n",
            "4/4 [==============================] - 0s 14ms/step - loss: 0.5957 - accuracy: 0.8393\n",
            "Epoch 228/350\n",
            "4/4 [==============================] - 0s 22ms/step - loss: 0.5823 - accuracy: 0.8750\n",
            "Epoch 229/350\n",
            "4/4 [==============================] - 0s 19ms/step - loss: 0.5878 - accuracy: 0.8571\n",
            "Epoch 230/350\n",
            "4/4 [==============================] - 0s 18ms/step - loss: 0.5835 - accuracy: 0.8482\n",
            "Epoch 231/350\n",
            "4/4 [==============================] - 0s 12ms/step - loss: 0.5775 - accuracy: 0.8482\n",
            "Epoch 232/350\n",
            "4/4 [==============================] - 0s 25ms/step - loss: 0.5832 - accuracy: 0.8393\n",
            "Epoch 233/350\n",
            "4/4 [==============================] - 0s 19ms/step - loss: 0.5684 - accuracy: 0.8393\n",
            "Epoch 234/350\n",
            "4/4 [==============================] - 0s 21ms/step - loss: 0.5694 - accuracy: 0.8482\n",
            "Epoch 235/350\n",
            "4/4 [==============================] - 0s 20ms/step - loss: 0.5636 - accuracy: 0.8482\n",
            "Epoch 236/350\n",
            "4/4 [==============================] - 0s 32ms/step - loss: 0.5617 - accuracy: 0.8482\n",
            "Epoch 237/350\n",
            "4/4 [==============================] - 0s 16ms/step - loss: 0.5470 - accuracy: 0.8661\n",
            "Epoch 238/350\n",
            "4/4 [==============================] - 0s 17ms/step - loss: 0.5493 - accuracy: 0.8482\n",
            "Epoch 239/350\n",
            "4/4 [==============================] - 0s 15ms/step - loss: 0.5512 - accuracy: 0.8661\n",
            "Epoch 240/350\n",
            "4/4 [==============================] - 0s 16ms/step - loss: 0.5434 - accuracy: 0.8750\n",
            "Epoch 241/350\n",
            "4/4 [==============================] - 0s 15ms/step - loss: 0.5417 - accuracy: 0.8750\n",
            "Epoch 242/350\n",
            "4/4 [==============================] - 0s 14ms/step - loss: 0.5344 - accuracy: 0.8750\n",
            "Epoch 243/350\n",
            "4/4 [==============================] - 0s 14ms/step - loss: 0.5441 - accuracy: 0.8482\n",
            "Epoch 244/350\n",
            "4/4 [==============================] - 0s 25ms/step - loss: 0.5340 - accuracy: 0.8661\n",
            "Epoch 245/350\n",
            "4/4 [==============================] - 0s 16ms/step - loss: 0.5203 - accuracy: 0.8839\n",
            "Epoch 246/350\n",
            "4/4 [==============================] - 0s 16ms/step - loss: 0.5263 - accuracy: 0.8661\n",
            "Epoch 247/350\n",
            "4/4 [==============================] - 0s 14ms/step - loss: 0.5228 - accuracy: 0.8750\n",
            "Epoch 248/350\n",
            "4/4 [==============================] - 0s 15ms/step - loss: 0.5189 - accuracy: 0.8929\n",
            "Epoch 249/350\n",
            "4/4 [==============================] - 0s 13ms/step - loss: 0.5164 - accuracy: 0.8839\n",
            "Epoch 250/350\n",
            "4/4 [==============================] - 0s 12ms/step - loss: 0.5128 - accuracy: 0.8839\n",
            "Epoch 251/350\n",
            "4/4 [==============================] - 0s 11ms/step - loss: 0.5063 - accuracy: 0.8750\n",
            "Epoch 252/350\n",
            "4/4 [==============================] - 0s 12ms/step - loss: 0.5119 - accuracy: 0.8839\n",
            "Epoch 253/350\n",
            "4/4 [==============================] - 0s 11ms/step - loss: 0.5038 - accuracy: 0.8750\n",
            "Epoch 254/350\n",
            "4/4 [==============================] - 0s 15ms/step - loss: 0.4955 - accuracy: 0.8839\n",
            "Epoch 255/350\n",
            "4/4 [==============================] - 0s 12ms/step - loss: 0.4972 - accuracy: 0.8839\n",
            "Epoch 256/350\n",
            "4/4 [==============================] - 0s 11ms/step - loss: 0.4827 - accuracy: 0.8750\n",
            "Epoch 257/350\n",
            "4/4 [==============================] - 0s 11ms/step - loss: 0.4924 - accuracy: 0.8661\n",
            "Epoch 258/350\n",
            "4/4 [==============================] - 0s 11ms/step - loss: 0.4809 - accuracy: 0.8929\n",
            "Epoch 259/350\n",
            "4/4 [==============================] - 0s 12ms/step - loss: 0.4872 - accuracy: 0.8661\n",
            "Epoch 260/350\n",
            "4/4 [==============================] - 0s 10ms/step - loss: 0.4877 - accuracy: 0.8571\n",
            "Epoch 261/350\n",
            "4/4 [==============================] - 0s 12ms/step - loss: 0.4714 - accuracy: 0.8929\n",
            "Epoch 262/350\n",
            "4/4 [==============================] - 0s 12ms/step - loss: 0.4765 - accuracy: 0.8839\n",
            "Epoch 263/350\n",
            "4/4 [==============================] - 0s 12ms/step - loss: 0.4629 - accuracy: 0.8929\n",
            "Epoch 264/350\n",
            "4/4 [==============================] - 0s 11ms/step - loss: 0.4621 - accuracy: 0.8929\n",
            "Epoch 265/350\n",
            "4/4 [==============================] - 0s 10ms/step - loss: 0.4653 - accuracy: 0.9018\n",
            "Epoch 266/350\n",
            "4/4 [==============================] - 0s 12ms/step - loss: 0.4628 - accuracy: 0.8839\n",
            "Epoch 267/350\n",
            "4/4 [==============================] - 0s 12ms/step - loss: 0.4577 - accuracy: 0.9018\n",
            "Epoch 268/350\n",
            "4/4 [==============================] - 0s 10ms/step - loss: 0.4583 - accuracy: 0.9018\n",
            "Epoch 269/350\n",
            "4/4 [==============================] - 0s 11ms/step - loss: 0.4502 - accuracy: 0.8929\n",
            "Epoch 270/350\n",
            "4/4 [==============================] - 0s 12ms/step - loss: 0.4387 - accuracy: 0.8929\n",
            "Epoch 271/350\n",
            "4/4 [==============================] - 0s 10ms/step - loss: 0.4491 - accuracy: 0.9018\n",
            "Epoch 272/350\n",
            "4/4 [==============================] - 0s 11ms/step - loss: 0.4372 - accuracy: 0.9107\n",
            "Epoch 273/350\n",
            "4/4 [==============================] - 0s 12ms/step - loss: 0.4449 - accuracy: 0.8839\n",
            "Epoch 274/350\n",
            "4/4 [==============================] - 0s 10ms/step - loss: 0.4458 - accuracy: 0.9018\n",
            "Epoch 275/350\n",
            "4/4 [==============================] - 0s 12ms/step - loss: 0.4296 - accuracy: 0.8839\n",
            "Epoch 276/350\n",
            "4/4 [==============================] - 0s 13ms/step - loss: 0.4252 - accuracy: 0.8929\n",
            "Epoch 277/350\n",
            "4/4 [==============================] - 0s 12ms/step - loss: 0.4333 - accuracy: 0.8661\n",
            "Epoch 278/350\n",
            "4/4 [==============================] - 0s 11ms/step - loss: 0.4310 - accuracy: 0.9018\n",
            "Epoch 279/350\n",
            "4/4 [==============================] - 0s 11ms/step - loss: 0.4325 - accuracy: 0.8661\n",
            "Epoch 280/350\n",
            "4/4 [==============================] - 0s 11ms/step - loss: 0.4256 - accuracy: 0.8929\n",
            "Epoch 281/350\n",
            "4/4 [==============================] - 0s 10ms/step - loss: 0.4144 - accuracy: 0.9107\n",
            "Epoch 282/350\n",
            "4/4 [==============================] - 0s 12ms/step - loss: 0.4085 - accuracy: 0.9018\n",
            "Epoch 283/350\n",
            "4/4 [==============================] - 0s 12ms/step - loss: 0.4081 - accuracy: 0.8929\n",
            "Epoch 284/350\n",
            "4/4 [==============================] - 0s 12ms/step - loss: 0.4067 - accuracy: 0.9018\n",
            "Epoch 285/350\n",
            "4/4 [==============================] - 0s 21ms/step - loss: 0.4159 - accuracy: 0.9107\n",
            "Epoch 286/350\n",
            "4/4 [==============================] - 0s 12ms/step - loss: 0.4082 - accuracy: 0.8839\n",
            "Epoch 287/350\n",
            "4/4 [==============================] - 0s 13ms/step - loss: 0.4066 - accuracy: 0.8661\n",
            "Epoch 288/350\n",
            "4/4 [==============================] - 0s 18ms/step - loss: 0.4049 - accuracy: 0.9018\n",
            "Epoch 289/350\n",
            "4/4 [==============================] - 0s 18ms/step - loss: 0.4080 - accuracy: 0.8929\n",
            "Epoch 290/350\n",
            "4/4 [==============================] - 0s 12ms/step - loss: 0.4052 - accuracy: 0.8839\n",
            "Epoch 291/350\n",
            "4/4 [==============================] - 0s 11ms/step - loss: 0.3881 - accuracy: 0.9286\n",
            "Epoch 292/350\n",
            "4/4 [==============================] - 0s 15ms/step - loss: 0.3959 - accuracy: 0.9018\n",
            "Epoch 293/350\n",
            "4/4 [==============================] - 0s 25ms/step - loss: 0.3898 - accuracy: 0.8839\n",
            "Epoch 294/350\n",
            "4/4 [==============================] - 0s 15ms/step - loss: 0.3837 - accuracy: 0.9018\n",
            "Epoch 295/350\n",
            "4/4 [==============================] - 0s 11ms/step - loss: 0.3833 - accuracy: 0.9196\n",
            "Epoch 296/350\n",
            "4/4 [==============================] - 0s 12ms/step - loss: 0.3898 - accuracy: 0.9018\n",
            "Epoch 297/350\n",
            "4/4 [==============================] - 0s 13ms/step - loss: 0.3868 - accuracy: 0.8839\n",
            "Epoch 298/350\n",
            "4/4 [==============================] - 0s 13ms/step - loss: 0.3875 - accuracy: 0.8929\n",
            "Epoch 299/350\n",
            "4/4 [==============================] - 0s 16ms/step - loss: 0.3816 - accuracy: 0.9018\n",
            "Epoch 300/350\n",
            "4/4 [==============================] - 0s 20ms/step - loss: 0.3757 - accuracy: 0.9018\n",
            "Epoch 301/350\n",
            "4/4 [==============================] - 0s 13ms/step - loss: 0.3721 - accuracy: 0.9107\n",
            "Epoch 302/350\n",
            "4/4 [==============================] - 0s 12ms/step - loss: 0.3686 - accuracy: 0.9286\n",
            "Epoch 303/350\n",
            "4/4 [==============================] - 0s 12ms/step - loss: 0.3631 - accuracy: 0.9196\n",
            "Epoch 304/350\n",
            "4/4 [==============================] - 0s 12ms/step - loss: 0.3661 - accuracy: 0.9107\n",
            "Epoch 305/350\n",
            "4/4 [==============================] - 0s 11ms/step - loss: 0.3624 - accuracy: 0.9107\n",
            "Epoch 306/350\n",
            "4/4 [==============================] - 0s 12ms/step - loss: 0.3680 - accuracy: 0.8929\n",
            "Epoch 307/350\n",
            "4/4 [==============================] - 0s 12ms/step - loss: 0.3633 - accuracy: 0.9018\n",
            "Epoch 308/350\n",
            "4/4 [==============================] - 0s 11ms/step - loss: 0.3609 - accuracy: 0.8929\n",
            "Epoch 309/350\n",
            "4/4 [==============================] - 0s 10ms/step - loss: 0.3555 - accuracy: 0.9196\n",
            "Epoch 310/350\n",
            "4/4 [==============================] - 0s 11ms/step - loss: 0.3513 - accuracy: 0.9375\n",
            "Epoch 311/350\n",
            "4/4 [==============================] - 0s 12ms/step - loss: 0.3585 - accuracy: 0.9286\n",
            "Epoch 312/350\n",
            "4/4 [==============================] - 0s 11ms/step - loss: 0.3522 - accuracy: 0.9286\n",
            "Epoch 313/350\n",
            "4/4 [==============================] - 0s 11ms/step - loss: 0.3550 - accuracy: 0.9107\n",
            "Epoch 314/350\n",
            "4/4 [==============================] - 0s 11ms/step - loss: 0.3528 - accuracy: 0.9107\n",
            "Epoch 315/350\n",
            "4/4 [==============================] - 0s 11ms/step - loss: 0.3528 - accuracy: 0.9018\n",
            "Epoch 316/350\n",
            "4/4 [==============================] - 0s 11ms/step - loss: 0.3373 - accuracy: 0.9107\n",
            "Epoch 317/350\n",
            "4/4 [==============================] - 0s 11ms/step - loss: 0.3467 - accuracy: 0.9196\n",
            "Epoch 318/350\n",
            "4/4 [==============================] - 0s 18ms/step - loss: 0.3519 - accuracy: 0.9196\n",
            "Epoch 319/350\n",
            "4/4 [==============================] - 0s 12ms/step - loss: 0.3398 - accuracy: 0.9107\n",
            "Epoch 320/350\n",
            "4/4 [==============================] - 0s 10ms/step - loss: 0.3374 - accuracy: 0.9196\n",
            "Epoch 321/350\n",
            "4/4 [==============================] - 0s 11ms/step - loss: 0.3333 - accuracy: 0.9196\n",
            "Epoch 322/350\n",
            "4/4 [==============================] - 0s 14ms/step - loss: 0.3360 - accuracy: 0.9286\n",
            "Epoch 323/350\n",
            "4/4 [==============================] - 0s 14ms/step - loss: 0.3355 - accuracy: 0.9107\n",
            "Epoch 324/350\n",
            "4/4 [==============================] - 0s 11ms/step - loss: 0.3322 - accuracy: 0.9018\n",
            "Epoch 325/350\n",
            "4/4 [==============================] - 0s 12ms/step - loss: 0.3313 - accuracy: 0.9286\n",
            "Epoch 326/350\n",
            "4/4 [==============================] - 0s 15ms/step - loss: 0.3302 - accuracy: 0.9107\n",
            "Epoch 327/350\n",
            "4/4 [==============================] - 0s 15ms/step - loss: 0.3260 - accuracy: 0.9196\n",
            "Epoch 328/350\n",
            "4/4 [==============================] - 0s 12ms/step - loss: 0.3241 - accuracy: 0.9286\n",
            "Epoch 329/350\n",
            "4/4 [==============================] - 0s 10ms/step - loss: 0.3190 - accuracy: 0.9375\n",
            "Epoch 330/350\n",
            "4/4 [==============================] - 0s 12ms/step - loss: 0.3265 - accuracy: 0.9107\n",
            "Epoch 331/350\n",
            "4/4 [==============================] - 0s 10ms/step - loss: 0.3206 - accuracy: 0.9375\n",
            "Epoch 332/350\n",
            "4/4 [==============================] - 0s 11ms/step - loss: 0.3119 - accuracy: 0.9107\n",
            "Epoch 333/350\n",
            "4/4 [==============================] - 0s 11ms/step - loss: 0.3241 - accuracy: 0.9018\n",
            "Epoch 334/350\n",
            "4/4 [==============================] - 0s 11ms/step - loss: 0.3200 - accuracy: 0.9107\n",
            "Epoch 335/350\n",
            "4/4 [==============================] - 0s 12ms/step - loss: 0.3136 - accuracy: 0.9196\n",
            "Epoch 336/350\n",
            "4/4 [==============================] - 0s 11ms/step - loss: 0.3086 - accuracy: 0.9196\n",
            "Epoch 337/350\n",
            "4/4 [==============================] - 0s 11ms/step - loss: 0.3136 - accuracy: 0.9286\n",
            "Epoch 338/350\n",
            "4/4 [==============================] - 0s 10ms/step - loss: 0.3053 - accuracy: 0.9196\n",
            "Epoch 339/350\n",
            "4/4 [==============================] - 0s 13ms/step - loss: 0.3120 - accuracy: 0.9286\n",
            "Epoch 340/350\n",
            "4/4 [==============================] - 0s 15ms/step - loss: 0.3043 - accuracy: 0.9196\n",
            "Epoch 341/350\n",
            "4/4 [==============================] - 0s 31ms/step - loss: 0.3040 - accuracy: 0.9196\n",
            "Epoch 342/350\n",
            "4/4 [==============================] - 0s 11ms/step - loss: 0.2950 - accuracy: 0.9286\n",
            "Epoch 343/350\n",
            "4/4 [==============================] - 0s 17ms/step - loss: 0.3000 - accuracy: 0.9196\n",
            "Epoch 344/350\n",
            "4/4 [==============================] - 0s 12ms/step - loss: 0.3006 - accuracy: 0.9286\n",
            "Epoch 345/350\n",
            "4/4 [==============================] - 0s 13ms/step - loss: 0.3033 - accuracy: 0.9107\n",
            "Epoch 346/350\n",
            "4/4 [==============================] - 0s 11ms/step - loss: 0.2904 - accuracy: 0.9375\n",
            "Epoch 347/350\n",
            "4/4 [==============================] - 0s 13ms/step - loss: 0.2983 - accuracy: 0.9286\n",
            "Epoch 348/350\n",
            "4/4 [==============================] - 0s 14ms/step - loss: 0.2970 - accuracy: 0.9286\n",
            "Epoch 349/350\n",
            "4/4 [==============================] - 0s 11ms/step - loss: 0.2857 - accuracy: 0.9464\n",
            "Epoch 350/350\n",
            "4/4 [==============================] - 0s 15ms/step - loss: 0.2887 - accuracy: 0.9464\n"
          ]
        }
      ],
      "source": [
        "# Training the model (Melatih model data sampai 350 kali)\n",
        "train = model.fit(x_train, y_train, epochs=350)"
      ]
    },
    {
      "cell_type": "code",
      "execution_count": 21,
      "metadata": {},
      "outputs": [
        {
          "name": "stderr",
          "output_type": "stream",
          "text": [
            "c:\\Users\\LENOVO\\AppData\\Local\\Programs\\Python\\Python311\\Lib\\site-packages\\keras\\src\\engine\\training.py:3079: UserWarning: You are saving your model as an HDF5 file via `model.save()`. This file format is considered legacy. We recommend using instead the native Keras format, e.g. `model.save('my_model.keras')`.\n",
            "  saving_api.save_model(\n"
          ]
        }
      ],
      "source": [
        "# import os\n",
        "\n",
        "# directory = 'D:/'\n",
        "# os.makedirs(directory, exist_ok=True)\n",
        "\n",
        "model.save('model_chatbot_kampus_merdeka.h5')"
      ]
    },
    {
      "cell_type": "code",
      "execution_count": 22,
      "metadata": {
        "colab": {
          "base_uri": "https://localhost:8080/",
          "height": 414
        },
        "id": "Pcu57pgf0cOR",
        "outputId": "53db5eb0-9f1e-4d53-fa9d-5946dd0926ba"
      },
      "outputs": [
        {
          "data": {
            "image/png": "[encoded data removed]",
            "text/plain": [
              "<Figure size 1400x500 with 2 Axes>"
            ]
          },
          "metadata": {},
          "output_type": "display_data"
        }
      ],
      "source": [
        "# Plotting model Accuracy and Loss (Visualisasi Plot Hasil Akurasi dan Loss)\n",
        "# Plot Akurasi\n",
        "plt.figure(figsize=(14, 5))\n",
        "plt.subplot(1, 2, 1)\n",
        "plt.plot(train.history['accuracy'], label='Training Set Accuracy')\n",
        "plt.legend(loc='lower right')\n",
        "plt.title('Accuracy')\n",
        "# Plot Loss\n",
        "plt.subplot(1, 2, 2)\n",
        "plt.plot(train.history['loss'], label='Training Set Loss')\n",
        "plt.legend(loc='upper right')\n",
        "plt.title('Loss')\n",
        "plt.show()"
      ]
    },
    {
      "cell_type": "markdown",
      "metadata": {},
      "source": [
        "## Evaluasi Model"
      ]
    },
    {
      "cell_type": "code",
      "execution_count": 23,
      "metadata": {},
      "outputs": [
        {
          "name": "stdout",
          "output_type": "stream",
          "text": [
            "Epoch 1/10\n",
            "3/3 [==============================] - 1s 290ms/step - loss: 0.2824 - accuracy: 0.9438 - val_loss: 0.2904 - val_accuracy: 0.9130\n",
            "Epoch 2/10\n",
            "3/3 [==============================] - 0s 37ms/step - loss: 0.2810 - accuracy: 0.9326 - val_loss: 0.2995 - val_accuracy: 0.8696\n",
            "Epoch 3/10\n",
            "3/3 [==============================] - 0s 44ms/step - loss: 0.2766 - accuracy: 0.9326 - val_loss: 0.3113 - val_accuracy: 0.8696\n",
            "Epoch 4/10\n",
            "3/3 [==============================] - 0s 33ms/step - loss: 0.2763 - accuracy: 0.9438 - val_loss: 0.3234 - val_accuracy: 0.8696\n",
            "Epoch 5/10\n",
            "3/3 [==============================] - 0s 28ms/step - loss: 0.2704 - accuracy: 0.9438 - val_loss: 0.3340 - val_accuracy: 0.8696\n",
            "Epoch 6/10\n",
            "3/3 [==============================] - 0s 29ms/step - loss: 0.2662 - accuracy: 0.9551 - val_loss: 0.3458 - val_accuracy: 0.8696\n",
            "Epoch 7/10\n",
            "3/3 [==============================] - 0s 30ms/step - loss: 0.2707 - accuracy: 0.9551 - val_loss: 0.3529 - val_accuracy: 0.8696\n",
            "Epoch 8/10\n",
            "3/3 [==============================] - 0s 27ms/step - loss: 0.2704 - accuracy: 0.9551 - val_loss: 0.3613 - val_accuracy: 0.8696\n",
            "Epoch 9/10\n",
            "3/3 [==============================] - 0s 28ms/step - loss: 0.2614 - accuracy: 0.9326 - val_loss: 0.3663 - val_accuracy: 0.8696\n",
            "Epoch 10/10\n",
            "3/3 [==============================] - 0s 28ms/step - loss: 0.2642 - accuracy: 0.9326 - val_loss: 0.3713 - val_accuracy: 0.8696\n",
            "1/1 [==============================] - 0s 38ms/step - loss: 0.3713 - accuracy: 0.8696\n",
            "Loss: 0.37131625413894653\n",
            "Accuracy: 0.8695651888847351\n"
          ]
        }
      ],
      "source": [
        "from sklearn.model_selection import train_test_split\n",
        "\n",
        "# X_train dan y_train adalah data latih, X_test dan y_test adalah data uji\n",
        "X_train, X_test, y_train, y_test = train_test_split(x_train, y_train, test_size=0.2, random_state=42)\n",
        "\n",
        "# Latih model\n",
        "model.fit(X_train, y_train, epochs=10, batch_size=32, validation_data=(X_test, y_test))\n",
        "\n",
        "# Evaluasi model pada data uji\n",
        "evaluation_result = model.evaluate(X_test, y_test)\n",
        "\n",
        "print(\"Loss:\", evaluation_result[0])\n",
        "print(\"Accuracy:\", evaluation_result[1])"
      ]
    },
    {
      "cell_type": "markdown",
      "metadata": {},
      "source": [
        "## Testing Chatbot"
      ]
    },
    {
      "cell_type": "code",
      "execution_count": null,
      "metadata": {},
      "outputs": [],
      "source": [
        "from gtts import gTTS\n",
        "import random\n",
        "import time\n",
        "import os\n",
        "import IPython.display as ipd"
      ]
    },
    {
      "cell_type": "code",
      "execution_count": null,
      "metadata": {
        "id": "iwM0FvzT0lp2"
      },
      "outputs": [
        {
          "name": "stderr",
          "output_type": "stream",
          "text": [
            "c:\\Users\\Owner\\AppData\\Local\\Programs\\Python\\Python310\\lib\\site-packages\\pydub\\utils.py:170: RuntimeWarning: Couldn't find ffmpeg or avconv - defaulting to ffmpeg, but may not work\n",
            "  warn(\"Couldn't find ffmpeg or avconv - defaulting to ffmpeg, but may not work\", RuntimeWarning)\n"
          ]
        },
        {
          "name": "stdout",
          "output_type": "stream",
          "text": [
            "1/1 [==============================] - 1s 574ms/step\n",
            "1\n",
            "🤖 Bot :  greeting\n",
            "🤖 Bot :  Hai ! Mau tau tentang apa tentang kampus merdeka?\n",
            "1/1 [==============================] - 0s 40ms/step\n",
            "1\n",
            "🤖 Bot :  greeting\n",
            "🤖 Bot :  Hai! Mau tau informasi tentang apa nih?\n",
            "1/1 [==============================] - 0s 48ms/step\n",
            "0\n",
            "🤖 Bot :  goodbye\n",
            "🤖 Bot :  Dahh, semoga harimu menyenangkan yaa!\n"
          ]
        }
      ],
      "source": [
        "import os\n",
        "from pydub import AudioSegment\n",
        "\n",
        "# Membuat Input Chat\n",
        "while True:\n",
        "    texts_p = []\n",
        "    prediction_input = input('👨‍🦰 Kamu : ')\n",
        "\n",
        "    # Menghapus punktuasi atau tanda baca dan konversi ke huruf kecil\n",
        "    prediction_input = [letters.lower() for letters in prediction_input if letters not in string.punctuation]\n",
        "    prediction_input = ''.join(prediction_input)\n",
        "    texts_p.append(prediction_input)\n",
        "\n",
        "    # Melakukan Tokenisasi dan Padding pada data teks\n",
        "    prediction_input = tokenizer.texts_to_sequences(texts_p)\n",
        "    # Konversi data teks menjadi array\n",
        "    prediction_input = np.array(prediction_input).reshape(-1)\n",
        "    prediction_input = pad_sequences([prediction_input], input_shape)\n",
        "\n",
        "    # Mendapatkan hasil prediksi keluaran pada model\n",
        "    output = model.predict(prediction_input)\n",
        "    output = output.argmax()\n",
        "    print(output)\n",
        "\n",
        "    # Menemukan respon sesuai data tag dan memainkan suara bot\n",
        "    response_tag = le.inverse_transform([output])[0]\n",
        "    \n",
        "    # print response tag\n",
        "    print(\"🤖 Bot : \", response_tag)\n",
        "    \n",
        "    # Bot akan melakukan random jawaban percakapan dari hasil pertanyaan\n",
        "    print(\"🤖 Bot : \", random.choice(responses[response_tag]))\n",
        "    \n",
        "    # Tambahkan respon 'goodbye' agar bot bisa berhenti melakukan percakapan\n",
        "    if response_tag == \"goodbye\":\n",
        "        break"
      ]
    }
  ],
  "metadata": {
    "colab": {
      "include_colab_link": true,
      "provenance": []
    },
    "kernelspec": {
      "display_name": "Python 3",
      "language": "python",
      "name": "python3"
    },
    "language_info": {
      "codemirror_mode": {
        "name": "ipython",
        "version": 3
      },
      "file_extension": ".py",
      "mimetype": "text/x-python",
      "name": "python",
      "nbconvert_exporter": "python",
      "pygments_lexer": "ipython3",
      "version": "3.11.3"
    }
  },
  "nbformat": 4,
  "nbformat_minor": 0
}
