{
  "cells": [
    {
      "cell_type": "markdown",
      "metadata": {
        "colab_type": "text",
        "id": "view-in-github"
      },
      "source": [
        "<a href=\"https://colab.research.google.com/github/SriYanisaa/chatbot-kampus-merdeka-deep-learning/blob/main/pra_pemrosesan.ipynb\" target=\"_parent\"><img src=\"https://colab.research.google.com/assets/colab-badge.svg\" alt=\"Open In Colab\"/></a>"
      ]
    },
    {
      "cell_type": "markdown",
      "metadata": {
        "id": "xubIAqKVykMO"
      },
      "source": [
        "# PraPemrosesan Data"
      ]
    },
    {
      "cell_type": "code",
      "execution_count": 1,
      "metadata": {
        "colab": {
          "base_uri": "https://localhost:8080/"
        },
        "id": "8a74dn6XykMc",
        "outputId": "5d970c8f-03f0-4fa5-8fd7-365530c670af"
      },
      "outputs": [
        {
          "name": "stderr",
          "output_type": "stream",
          "text": [
            "[nltk_data] Downloading package punkt to\n",
            "[nltk_data]     C:\\Users\\Owner\\AppData\\Roaming\\nltk_data...\n",
            "[nltk_data]   Package punkt is already up-to-date!\n",
            "[nltk_data] Downloading package wordnet to\n",
            "[nltk_data]     C:\\Users\\Owner\\AppData\\Roaming\\nltk_data...\n",
            "[nltk_data]   Package wordnet is already up-to-date!\n"
          ]
        },
        {
          "data": {
            "text/plain": [
              "True"
            ]
          },
          "execution_count": 1,
          "metadata": {},
          "output_type": "execute_result"
        }
      ],
      "source": [
        "import pandas as pd\n",
        "import numpy as np\n",
        "import json\n",
        "import nltk\n",
        "from nltk.stem import WordNetLemmatizer\n",
        "import string\n",
        "import tensorflow as tf\n",
        "import matplotlib.pyplot as plt\n",
        "from tensorflow.keras.preprocessing.text import Tokenizer\n",
        "from tensorflow.keras.preprocessing.sequence import pad_sequences\n",
        "from tensorflow.keras.models import Model\n",
        "from tensorflow.keras.utils import plot_model\n",
        "from tensorflow.keras.layers import Input, Embedding, LSTM\n",
        "from tensorflow.keras.layers import Flatten, Dense, GlobalMaxPool1D\n",
        "from sklearn.preprocessing import LabelEncoder\n",
        "import pickle\n",
        "\n",
        "nltk.download('punkt')\n",
        "nltk.download('wordnet')"
      ]
    },
    {
      "cell_type": "code",
      "execution_count": 2,
      "metadata": {
        "id": "RJkh6Q6PykMk"
      },
      "outputs": [],
      "source": [
        "# Importing the dataset\n",
        "with open('kampus_merdeka.json') as content:\n",
        "  data1 = json.load(content)\n",
        "\n",
        "# Mendapatkan semua data ke dalam list\n",
        "tags = [] # data tag\n",
        "inputs = [] # data input atau pattern\n",
        "responses = {} # data respon\n",
        "words = [] # Data kata\n",
        "classes = [] # Data Kelas atau Tag\n",
        "documents = [] # Data Kalimat Dokumen\n",
        "ignore_words = ['?', '!'] # Mengabaikan tanda spesial karakter\n",
        "# Tambahkan data intents dalam json\n",
        "for intent in data1['intents']:\n",
        "  responses[intent['tag']]=intent['responses']\n",
        "  for lines in intent['patterns']:\n",
        "    inputs.append(lines)\n",
        "    tags.append(intent['tag'])\n",
        "    # digunakan untuk pattern atau teks pertanyaan dalam json\n",
        "    for pattern in intent['patterns']:\n",
        "      w = nltk.word_tokenize(pattern)\n",
        "      words.extend(w)\n",
        "      documents.append((w, intent['tag']))\n",
        "      # tambahkan ke dalam list kelas dalam data\n",
        "      if intent['tag'] not in classes:\n",
        "        classes.append(intent['tag'])\n",
        "\n",
        "# Konversi data json ke dalam dataframe\n",
        "data = pd.DataFrame({\"patterns\":inputs, \"tags\":tags})"
      ]
    },
    {
      "cell_type": "code",
      "execution_count": 3,
      "metadata": {
        "colab": {
          "base_uri": "https://localhost:8080/",
          "height": 423
        },
        "id": "KUqlqgcbykMn",
        "outputId": "f4bc5e2b-65ec-417b-9d86-7fad39ce6103"
      },
      "outputs": [
        {
          "data": {
            "text/html": [
              "<div>\n",
              "<style scoped>\n",
              "    .dataframe tbody tr th:only-of-type {\n",
              "        vertical-align: middle;\n",
              "    }\n",
              "\n",
              "    .dataframe tbody tr th {\n",
              "        vertical-align: top;\n",
              "    }\n",
              "\n",
              "    .dataframe thead th {\n",
              "        text-align: right;\n",
              "    }\n",
              "</style>\n",
              "<table border=\"1\" class=\"dataframe\">\n",
              "  <thead>\n",
              "    <tr style=\"text-align: right;\">\n",
              "      <th></th>\n",
              "      <th>patterns</th>\n",
              "      <th>tags</th>\n",
              "    </tr>\n",
              "  </thead>\n",
              "  <tbody>\n",
              "    <tr>\n",
              "      <th>0</th>\n",
              "      <td>hallo</td>\n",
              "      <td>greeting</td>\n",
              "    </tr>\n",
              "    <tr>\n",
              "      <th>1</th>\n",
              "      <td>hai</td>\n",
              "      <td>greeting</td>\n",
              "    </tr>\n",
              "    <tr>\n",
              "      <th>2</th>\n",
              "      <td>halo</td>\n",
              "      <td>greeting</td>\n",
              "    </tr>\n",
              "    <tr>\n",
              "      <th>3</th>\n",
              "      <td>hei</td>\n",
              "      <td>greeting</td>\n",
              "    </tr>\n",
              "    <tr>\n",
              "      <th>4</th>\n",
              "      <td>hi</td>\n",
              "      <td>greeting</td>\n",
              "    </tr>\n",
              "    <tr>\n",
              "      <th>...</th>\n",
              "      <td>...</td>\n",
              "      <td>...</td>\n",
              "    </tr>\n",
              "    <tr>\n",
              "      <th>75</th>\n",
              "      <td>Apa itu PMMB?</td>\n",
              "      <td>penjelasan_PMMB</td>\n",
              "    </tr>\n",
              "    <tr>\n",
              "      <th>76</th>\n",
              "      <td>Apa saja persyaratan IISMA?</td>\n",
              "      <td>persyaratan_IISMA</td>\n",
              "    </tr>\n",
              "    <tr>\n",
              "      <th>77</th>\n",
              "      <td>Bagaimana periode pelaksanaan dan cara mendaft...</td>\n",
              "      <td>periode_dan_pendaftaran_PMMB</td>\n",
              "    </tr>\n",
              "    <tr>\n",
              "      <th>78</th>\n",
              "      <td>Apa saja manfaat apabila mengikuti PMMB?</td>\n",
              "      <td>manfaat_PMMB</td>\n",
              "    </tr>\n",
              "    <tr>\n",
              "      <th>79</th>\n",
              "      <td>Apa saja universitas yang tergabung dalam prog...</td>\n",
              "      <td>mitra_PMMB</td>\n",
              "    </tr>\n",
              "  </tbody>\n",
              "</table>\n",
              "<p>80 rows × 2 columns</p>\n",
              "</div>"
            ],
            "text/plain": [
              "                                             patterns  \\\n",
              "0                                               hallo   \n",
              "1                                                 hai   \n",
              "2                                                halo   \n",
              "3                                                 hei   \n",
              "4                                                  hi   \n",
              "..                                                ...   \n",
              "75                                      Apa itu PMMB?   \n",
              "76                        Apa saja persyaratan IISMA?   \n",
              "77  Bagaimana periode pelaksanaan dan cara mendaft...   \n",
              "78           Apa saja manfaat apabila mengikuti PMMB?   \n",
              "79  Apa saja universitas yang tergabung dalam prog...   \n",
              "\n",
              "                            tags  \n",
              "0                       greeting  \n",
              "1                       greeting  \n",
              "2                       greeting  \n",
              "3                       greeting  \n",
              "4                       greeting  \n",
              "..                           ...  \n",
              "75               penjelasan_PMMB  \n",
              "76             persyaratan_IISMA  \n",
              "77  periode_dan_pendaftaran_PMMB  \n",
              "78                  manfaat_PMMB  \n",
              "79                    mitra_PMMB  \n",
              "\n",
              "[80 rows x 2 columns]"
            ]
          },
          "execution_count": 3,
          "metadata": {},
          "output_type": "execute_result"
        }
      ],
      "source": [
        "data"
      ]
    },
    {
      "cell_type": "markdown",
      "metadata": {
        "id": "o4SjsjpWykMp"
      },
      "source": [
        "## Remove Punctuaction"
      ]
    },
    {
      "cell_type": "code",
      "execution_count": 4,
      "metadata": {
        "id": "GhOV5HO3ykMr"
      },
      "outputs": [],
      "source": [
        "# Removing Punctuations (Menghilangkan Punktuasi)\n",
        "data['patterns'] = data['patterns'].apply(lambda wrd:[ltrs.lower() for ltrs in wrd if ltrs not in string.punctuation])\n",
        "data['patterns'] = data['patterns'].apply(lambda wrd: ''.join(wrd))"
      ]
    },
    {
      "cell_type": "code",
      "execution_count": 5,
      "metadata": {
        "colab": {
          "base_uri": "https://localhost:8080/",
          "height": 423
        },
        "id": "202-SHjSykMs",
        "outputId": "792902d0-1933-42aa-d717-8b3e36e611f7"
      },
      "outputs": [
        {
          "data": {
            "text/html": [
              "<div>\n",
              "<style scoped>\n",
              "    .dataframe tbody tr th:only-of-type {\n",
              "        vertical-align: middle;\n",
              "    }\n",
              "\n",
              "    .dataframe tbody tr th {\n",
              "        vertical-align: top;\n",
              "    }\n",
              "\n",
              "    .dataframe thead th {\n",
              "        text-align: right;\n",
              "    }\n",
              "</style>\n",
              "<table border=\"1\" class=\"dataframe\">\n",
              "  <thead>\n",
              "    <tr style=\"text-align: right;\">\n",
              "      <th></th>\n",
              "      <th>patterns</th>\n",
              "      <th>tags</th>\n",
              "    </tr>\n",
              "  </thead>\n",
              "  <tbody>\n",
              "    <tr>\n",
              "      <th>0</th>\n",
              "      <td>hallo</td>\n",
              "      <td>greeting</td>\n",
              "    </tr>\n",
              "    <tr>\n",
              "      <th>1</th>\n",
              "      <td>hai</td>\n",
              "      <td>greeting</td>\n",
              "    </tr>\n",
              "    <tr>\n",
              "      <th>2</th>\n",
              "      <td>halo</td>\n",
              "      <td>greeting</td>\n",
              "    </tr>\n",
              "    <tr>\n",
              "      <th>3</th>\n",
              "      <td>hei</td>\n",
              "      <td>greeting</td>\n",
              "    </tr>\n",
              "    <tr>\n",
              "      <th>4</th>\n",
              "      <td>hi</td>\n",
              "      <td>greeting</td>\n",
              "    </tr>\n",
              "    <tr>\n",
              "      <th>...</th>\n",
              "      <td>...</td>\n",
              "      <td>...</td>\n",
              "    </tr>\n",
              "    <tr>\n",
              "      <th>75</th>\n",
              "      <td>apa itu pmmb</td>\n",
              "      <td>penjelasan_PMMB</td>\n",
              "    </tr>\n",
              "    <tr>\n",
              "      <th>76</th>\n",
              "      <td>apa saja persyaratan iisma</td>\n",
              "      <td>persyaratan_IISMA</td>\n",
              "    </tr>\n",
              "    <tr>\n",
              "      <th>77</th>\n",
              "      <td>bagaimana periode pelaksanaan dan cara mendaft...</td>\n",
              "      <td>periode_dan_pendaftaran_PMMB</td>\n",
              "    </tr>\n",
              "    <tr>\n",
              "      <th>78</th>\n",
              "      <td>apa saja manfaat apabila mengikuti pmmb</td>\n",
              "      <td>manfaat_PMMB</td>\n",
              "    </tr>\n",
              "    <tr>\n",
              "      <th>79</th>\n",
              "      <td>apa saja universitas yang tergabung dalam prog...</td>\n",
              "      <td>mitra_PMMB</td>\n",
              "    </tr>\n",
              "  </tbody>\n",
              "</table>\n",
              "<p>80 rows × 2 columns</p>\n",
              "</div>"
            ],
            "text/plain": [
              "                                             patterns  \\\n",
              "0                                               hallo   \n",
              "1                                                 hai   \n",
              "2                                                halo   \n",
              "3                                                 hei   \n",
              "4                                                  hi   \n",
              "..                                                ...   \n",
              "75                                       apa itu pmmb   \n",
              "76                         apa saja persyaratan iisma   \n",
              "77  bagaimana periode pelaksanaan dan cara mendaft...   \n",
              "78            apa saja manfaat apabila mengikuti pmmb   \n",
              "79  apa saja universitas yang tergabung dalam prog...   \n",
              "\n",
              "                            tags  \n",
              "0                       greeting  \n",
              "1                       greeting  \n",
              "2                       greeting  \n",
              "3                       greeting  \n",
              "4                       greeting  \n",
              "..                           ...  \n",
              "75               penjelasan_PMMB  \n",
              "76             persyaratan_IISMA  \n",
              "77  periode_dan_pendaftaran_PMMB  \n",
              "78                  manfaat_PMMB  \n",
              "79                    mitra_PMMB  \n",
              "\n",
              "[80 rows x 2 columns]"
            ]
          },
          "execution_count": 5,
          "metadata": {},
          "output_type": "execute_result"
        }
      ],
      "source": [
        "data"
      ]
    },
    {
      "cell_type": "code",
      "execution_count": 6,
      "metadata": {
        "id": "A2Fcru9jykMv"
      },
      "outputs": [],
      "source": [
        "data.to_csv(\"D:/clean_data_chatbot.csv\")"
      ]
    },
    {
      "cell_type": "markdown",
      "metadata": {
        "id": "cY6uM5qcykMx"
      },
      "source": [
        "## Lemmatization"
      ]
    },
    {
      "cell_type": "code",
      "execution_count": 7,
      "metadata": {
        "colab": {
          "base_uri": "https://localhost:8080/"
        },
        "id": "YEsLemsGykMy",
        "outputId": "5162ee96-b5df-4fdd-ba03-066de6355541"
      },
      "outputs": [
        {
          "name": "stdout",
          "output_type": "stream",
          "text": [
            "74 kata-kata yang di lematisasi :  ['afternoon', 'apa', 'apabila', 'bagaimana', 'bai', 'banyak', 'bersertifikat', 'bro', 'bumn', 'bye', 'byebye', 'byee', 'cara', 'dadah', 'dah', 'dalam', 'dan', 'good', 'hai', 'haii', 'hallo', 'halo', 'hei', 'hi', 'hy', 'iisma', 'independen', 'itu', 'jumpa', 'kampus', 'kasih', 'kawan', 'kemendikbud', 'kemensos', 'maaci', 'magang', 'mahasiswa', 'makasi', 'makasih', 'malam', 'manfaat', 'mendaftar', 'mengajar', 'mengikuti', 'merdeka', 'mitra', 'morning', 'muda', 'pagi', 'pejuang', 'pelaksanaan', 'periode', 'persyaratan', 'pertukaran', 'pmmb', 'program', 'saja', 'sampai', 'see', 'selamat', 'si', 'siang', 'sore', 'studi', 'tergabung', 'terima', 'thank', 'thanks', 'thx', 'tinggal', 'tujuan', 'universitas', 'yang', 'you']\n"
          ]
        }
      ],
      "source": [
        "lemmatizer = WordNetLemmatizer()\n",
        "words = [lemmatizer.lemmatize(w.lower()) for w in words if w not in ignore_words]\n",
        "words = sorted(list(set(words)))\n",
        "\n",
        "print (len(words), \"kata-kata yang di lematisasi : \", words)"
      ]
    },
    {
      "cell_type": "markdown",
      "metadata": {
        "id": "WNTw6U9KykM0"
      },
      "source": [
        "### Menyortir Data Kelas Tags"
      ]
    },
    {
      "cell_type": "code",
      "execution_count": 8,
      "metadata": {
        "colab": {
          "base_uri": "https://localhost:8080/"
        },
        "id": "zsdg35vtykM1",
        "outputId": "95fad4de-6292-43a6-bcd0-74f96cd2b1cd"
      },
      "outputs": [
        {
          "name": "stdout",
          "output_type": "stream",
          "text": [
            "38 classes ['goodbye', 'greeting', 'manfaat_IISMA', 'manfaat_PMMB', 'manfaat_kampus_mengajar', 'manfaat_magang', 'manfaat_pejuang_muda', 'manfaat_pertukaran_mahasiswa', 'manfaat_studi_independen', 'mitra_IISMA', 'mitra_PMMB', 'mitra_magang', 'mitra_studi_independen', 'penjelasan_IISMA', 'penjelasan_PMMB', 'penjelasan_kampus_mengajar', 'penjelasan_kampus_merdeka', 'penjelasan_magang', 'penjelasan_pejuang_muda', 'penjelasan_pertukaran_mahasiswa', 'penjelasan_studi_independen', 'periode_dan_pendaftaran_IISMA', 'periode_dan_pendaftaran_PMMB', 'periode_dan_pendaftaran_kampus_mengajar', 'periode_dan_pendaftaran_magang', 'periode_dan_pendaftaran_pejuang_muda', 'periode_dan_pendaftaran_pertukaran_mahasiswa', 'periode_dan_pendaftaran_studi_independen', 'persyaratan_IISMA', 'persyaratan_kampus_mengajar', 'persyaratan_kampus_merdeka', 'persyaratan_magang', 'persyaratan_pejuang_muda', 'persyaratan_pertukaran_mahasiswa', 'persyaratan_studi_independen', 'program_kampus_merdeka', 'terimakasih', 'tujuan_kampus_merdeka']\n"
          ]
        }
      ],
      "source": [
        "# sorting pada data class\n",
        "classes = sorted(list(set(classes)))\n",
        "print (len(classes), \"classes\", classes)"
      ]
    },
    {
      "cell_type": "markdown",
      "metadata": {
        "id": "I3jrMXVVykM2"
      },
      "source": [
        "### Mencari Jumlah Keseluruhan Data Teks"
      ]
    },
    {
      "cell_type": "code",
      "execution_count": 10,
      "metadata": {
        "colab": {
          "base_uri": "https://localhost:8080/"
        },
        "id": "sOFQlDt-ykM3",
        "outputId": "d1946150-97c0-496f-fd9c-313758422849"
      },
      "outputs": [
        {
          "name": "stdout",
          "output_type": "stream",
          "text": [
            "514 documents\n"
          ]
        }
      ],
      "source": [
        "# documents = kombinasi antara data pattern dengan data tag dalam intents json\n",
        "print (len(documents), \"documents\")"
      ]
    },
    {
      "cell_type": "markdown",
      "metadata": {
        "id": "eLF1-xcIykM5"
      },
      "source": [
        "## Tokenisasi"
      ]
    },
    {
      "cell_type": "code",
      "execution_count": 11,
      "metadata": {
        "colab": {
          "base_uri": "https://localhost:8080/"
        },
        "id": "66nNB3ZbykM5",
        "outputId": "f0666168-66ff-4b53-fba7-f87eabb3e347"
      },
      "outputs": [
        {
          "data": {
            "text/plain": [
              "[[37],\n",
              " [38],\n",
              " [39],\n",
              " [40],\n",
              " [41],\n",
              " [42],\n",
              " [43],\n",
              " [44],\n",
              " [45],\n",
              " [46],\n",
              " [47],\n",
              " [48],\n",
              " [49],\n",
              " [50],\n",
              " [51],\n",
              " [52],\n",
              " [53],\n",
              " [54],\n",
              " [31],\n",
              " [55],\n",
              " [56, 31],\n",
              " [57, 58],\n",
              " [59, 60],\n",
              " [61],\n",
              " [62],\n",
              " [63, 32],\n",
              " [64],\n",
              " [65],\n",
              " [66],\n",
              " [67],\n",
              " [68, 32],\n",
              " [33, 34],\n",
              " [69],\n",
              " [33, 34, 70],\n",
              " [1, 6, 4, 5],\n",
              " [1, 71, 4, 5],\n",
              " [1, 7, 8, 4, 5],\n",
              " [1, 2, 3, 4, 5],\n",
              " [3, 4, 5, 72],\n",
              " [3, 4, 5, 73],\n",
              " [3, 4, 5, 74],\n",
              " [18, 19],\n",
              " [20],\n",
              " [4, 21],\n",
              " [9],\n",
              " [22, 23, 5],\n",
              " [24, 25],\n",
              " [26],\n",
              " [1, 6, 18, 19],\n",
              " [1, 2, 7, 18, 19],\n",
              " [10, 11, 12, 13, 14, 15, 3, 18, 19],\n",
              " [1, 2, 16, 17, 8, 18, 19],\n",
              " [1, 2, 35, 28, 29, 30, 18, 19],\n",
              " [1, 6, 20, 27],\n",
              " [1, 2, 7, 20, 27],\n",
              " [10, 11, 12, 13, 14, 15, 3, 20, 27],\n",
              " [1, 2, 16, 17, 8, 20, 27],\n",
              " [1, 2, 35, 28, 29, 30, 20, 27],\n",
              " [1, 6, 4, 21],\n",
              " [1, 2, 7, 4, 21],\n",
              " [10, 11, 12, 13, 14, 15, 3, 4, 21],\n",
              " [1, 2, 16, 17, 8, 4, 21],\n",
              " [1, 6, 9],\n",
              " [1, 2, 7, 9],\n",
              " [10, 11, 12, 13, 14, 15, 3, 9],\n",
              " [1, 2, 16, 17, 8, 9],\n",
              " [1, 2, 36, 28, 29, 30, 3, 9],\n",
              " [1, 6, 22, 23, 5],\n",
              " [1, 2, 7, 22, 23, 5],\n",
              " [10, 11, 12, 13, 14, 15, 3, 22, 23, 5],\n",
              " [1, 2, 16, 17, 8, 22, 23, 5],\n",
              " [1, 6, 24, 25],\n",
              " [1, 2, 7, 24, 25],\n",
              " [10, 11, 12, 13, 14, 15, 3, 24, 25],\n",
              " [1, 2, 16, 17, 8, 24, 25],\n",
              " [1, 6, 26],\n",
              " [1, 2, 7, 9],\n",
              " [10, 11, 12, 13, 14, 15, 3, 26],\n",
              " [1, 2, 16, 17, 8, 26],\n",
              " [1, 2, 36, 28, 29, 30, 3, 26]]"
            ]
          },
          "execution_count": 11,
          "metadata": {},
          "output_type": "execute_result"
        }
      ],
      "source": [
        "# Tokenize the data (Tokenisasi Data)\n",
        "tokenizer = Tokenizer(num_words=2000)\n",
        "tokenizer.fit_on_texts(data['patterns'])\n",
        "train = tokenizer.texts_to_sequences(data['patterns'])\n",
        "train"
      ]
    },
    {
      "cell_type": "markdown",
      "metadata": {
        "id": "CbkPdzP-ykM6"
      },
      "source": [
        "## Padding"
      ]
    },
    {
      "cell_type": "code",
      "execution_count": 12,
      "metadata": {
        "colab": {
          "base_uri": "https://localhost:8080/"
        },
        "id": "TJSJ-MUYykM7",
        "outputId": "e37d4e96-f76a-4a7b-eb93-65cafd9a6fcc"
      },
      "outputs": [
        {
          "name": "stdout",
          "output_type": "stream",
          "text": [
            "[[ 0  0  0  0  0  0  0  0  0 37]\n",
            " [ 0  0  0  0  0  0  0  0  0 38]\n",
            " [ 0  0  0  0  0  0  0  0  0 39]\n",
            " [ 0  0  0  0  0  0  0  0  0 40]\n",
            " [ 0  0  0  0  0  0  0  0  0 41]\n",
            " [ 0  0  0  0  0  0  0  0  0 42]\n",
            " [ 0  0  0  0  0  0  0  0  0 43]\n",
            " [ 0  0  0  0  0  0  0  0  0 44]\n",
            " [ 0  0  0  0  0  0  0  0  0 45]\n",
            " [ 0  0  0  0  0  0  0  0  0 46]\n",
            " [ 0  0  0  0  0  0  0  0  0 47]\n",
            " [ 0  0  0  0  0  0  0  0  0 48]\n",
            " [ 0  0  0  0  0  0  0  0  0 49]\n",
            " [ 0  0  0  0  0  0  0  0  0 50]\n",
            " [ 0  0  0  0  0  0  0  0  0 51]\n",
            " [ 0  0  0  0  0  0  0  0  0 52]\n",
            " [ 0  0  0  0  0  0  0  0  0 53]\n",
            " [ 0  0  0  0  0  0  0  0  0 54]\n",
            " [ 0  0  0  0  0  0  0  0  0 31]\n",
            " [ 0  0  0  0  0  0  0  0  0 55]\n",
            " [ 0  0  0  0  0  0  0  0 56 31]\n",
            " [ 0  0  0  0  0  0  0  0 57 58]\n",
            " [ 0  0  0  0  0  0  0  0 59 60]\n",
            " [ 0  0  0  0  0  0  0  0  0 61]\n",
            " [ 0  0  0  0  0  0  0  0  0 62]\n",
            " [ 0  0  0  0  0  0  0  0 63 32]\n",
            " [ 0  0  0  0  0  0  0  0  0 64]\n",
            " [ 0  0  0  0  0  0  0  0  0 65]\n",
            " [ 0  0  0  0  0  0  0  0  0 66]\n",
            " [ 0  0  0  0  0  0  0  0  0 67]\n",
            " [ 0  0  0  0  0  0  0  0 68 32]\n",
            " [ 0  0  0  0  0  0  0  0 33 34]\n",
            " [ 0  0  0  0  0  0  0  0  0 69]\n",
            " [ 0  0  0  0  0  0  0 33 34 70]\n",
            " [ 0  0  0  0  0  0  1  6  4  5]\n",
            " [ 0  0  0  0  0  0  1 71  4  5]\n",
            " [ 0  0  0  0  0  1  7  8  4  5]\n",
            " [ 0  0  0  0  0  1  2  3  4  5]\n",
            " [ 0  0  0  0  0  0  3  4  5 72]\n",
            " [ 0  0  0  0  0  0  3  4  5 73]\n",
            " [ 0  0  0  0  0  0  3  4  5 74]\n",
            " [ 0  0  0  0  0  0  0  0 18 19]\n",
            " [ 0  0  0  0  0  0  0  0  0 20]\n",
            " [ 0  0  0  0  0  0  0  0  4 21]\n",
            " [ 0  0  0  0  0  0  0  0  0  9]\n",
            " [ 0  0  0  0  0  0  0 22 23  5]\n",
            " [ 0  0  0  0  0  0  0  0 24 25]\n",
            " [ 0  0  0  0  0  0  0  0  0 26]\n",
            " [ 0  0  0  0  0  0  1  6 18 19]\n",
            " [ 0  0  0  0  0  1  2  7 18 19]\n",
            " [ 0 10 11 12 13 14 15  3 18 19]\n",
            " [ 0  0  0  1  2 16 17  8 18 19]\n",
            " [ 0  0  1  2 35 28 29 30 18 19]\n",
            " [ 0  0  0  0  0  0  1  6 20 27]\n",
            " [ 0  0  0  0  0  1  2  7 20 27]\n",
            " [ 0 10 11 12 13 14 15  3 20 27]\n",
            " [ 0  0  0  1  2 16 17  8 20 27]\n",
            " [ 0  0  1  2 35 28 29 30 20 27]\n",
            " [ 0  0  0  0  0  0  1  6  4 21]\n",
            " [ 0  0  0  0  0  1  2  7  4 21]\n",
            " [ 0 10 11 12 13 14 15  3  4 21]\n",
            " [ 0  0  0  1  2 16 17  8  4 21]\n",
            " [ 0  0  0  0  0  0  0  1  6  9]\n",
            " [ 0  0  0  0  0  0  1  2  7  9]\n",
            " [ 0  0 10 11 12 13 14 15  3  9]\n",
            " [ 0  0  0  0  1  2 16 17  8  9]\n",
            " [ 0  0  1  2 36 28 29 30  3  9]\n",
            " [ 0  0  0  0  0  1  6 22 23  5]\n",
            " [ 0  0  0  0  1  2  7 22 23  5]\n",
            " [10 11 12 13 14 15  3 22 23  5]\n",
            " [ 0  0  1  2 16 17  8 22 23  5]\n",
            " [ 0  0  0  0  0  0  1  6 24 25]\n",
            " [ 0  0  0  0  0  1  2  7 24 25]\n",
            " [ 0 10 11 12 13 14 15  3 24 25]\n",
            " [ 0  0  0  1  2 16 17  8 24 25]\n",
            " [ 0  0  0  0  0  0  0  1  6 26]\n",
            " [ 0  0  0  0  0  0  1  2  7  9]\n",
            " [ 0  0 10 11 12 13 14 15  3 26]\n",
            " [ 0  0  0  0  1  2 16 17  8 26]\n",
            " [ 0  0  1  2 36 28 29 30  3 26]]\n"
          ]
        }
      ],
      "source": [
        "# Melakukan proses padding pada data\n",
        "x_train = pad_sequences(train)\n",
        "# Menampilkan hasil padding\n",
        "print(x_train)"
      ]
    },
    {
      "cell_type": "markdown",
      "metadata": {
        "id": "YqmZVix_ykM8"
      },
      "source": [
        "## Encoding Text"
      ]
    },
    {
      "cell_type": "code",
      "execution_count": 13,
      "metadata": {
        "colab": {
          "base_uri": "https://localhost:8080/"
        },
        "id": "cn1TE6FsykM8",
        "outputId": "a974fba4-7b44-47d1-bdd8-fb5e631167c0"
      },
      "outputs": [
        {
          "name": "stdout",
          "output_type": "stream",
          "text": [
            "[ 1  1  1  1  1  1  1  1  1  1  1  1  1  1  1  1  0  0  0  0  0  0  0  0\n",
            "  0  0 36 36 36 36 36 36 36 36 16 37 30 35 35 35 35 35 35 35 35 35 35 35\n",
            " 20 34 27  8 12 17 31 24  5 11 15 29 23  4 13 28 21  2  9 19 33 26  7 18\n",
            " 32 25  6 14 28 22  3 10]\n"
          ]
        }
      ],
      "source": [
        "# Melakukan konversi data label tags dengan encoding\n",
        "le = LabelEncoder()\n",
        "y_train = le.fit_transform(data['tags'])\n",
        "print(y_train)"
      ]
    },
    {
      "cell_type": "markdown",
      "metadata": {
        "id": "BLvFUEmHykM9"
      },
      "source": [
        "## Input Length, Output Length and Vocabulary"
      ]
    },
    {
      "cell_type": "code",
      "execution_count": 14,
      "metadata": {
        "colab": {
          "base_uri": "https://localhost:8080/"
        },
        "id": "yU5iC369ykM-",
        "outputId": "184847b9-040b-434f-ee9b-4c3543e6dba3"
      },
      "outputs": [
        {
          "name": "stdout",
          "output_type": "stream",
          "text": [
            "10\n"
          ]
        }
      ],
      "source": [
        "# Melihat hasil input pada data teks\n",
        "input_shape = x_train.shape[1]\n",
        "print(input_shape)"
      ]
    },
    {
      "cell_type": "code",
      "execution_count": 15,
      "metadata": {
        "colab": {
          "base_uri": "https://localhost:8080/"
        },
        "id": "26jfn_99ykM_",
        "outputId": "c6af2c71-e545-4ff5-e190-a16902b67eb7"
      },
      "outputs": [
        {
          "name": "stdout",
          "output_type": "stream",
          "text": [
            "jumlah kata unik :  74\n",
            "panjang output:  38\n"
          ]
        }
      ],
      "source": [
        "# Melakukan definisi tiap kalimat dan kata pada data teks\n",
        "vocabulary = len(tokenizer.word_index)\n",
        "print(\"jumlah kata unik : \", vocabulary)\n",
        "\n",
        "# Melakukan pemeriksaan pada data output label teks\n",
        "output_length = le.classes_.shape[0]\n",
        "print(\"panjang output: \", output_length)"
      ]
    },
    {
      "cell_type": "markdown",
      "metadata": {
        "id": "ll0-FZ55ykNA"
      },
      "source": [
        "Input length dan output length terlihat sangat jelas hasilnya. Mereka adalah untuk bentuk input dan bentuk output dari data train atau latih yang akan diproses pada algoritma LSTM yang akan dilatih.\n",
        "\n",
        "Vocabulary Size adalah untuk lapisan penyematan untuk membuat representasi vektor unik untuk setiap kata."
      ]
    },
    {
      "cell_type": "markdown",
      "metadata": {
        "id": "9WLhL740ykNA"
      },
      "source": [
        "## Save Model Words & Classes"
      ]
    },
    {
      "cell_type": "code",
      "execution_count": 16,
      "metadata": {
        "id": "V6pjTNzAykNB"
      },
      "outputs": [],
      "source": [
        "# Simpan hasil pemrosesan teks dengan menggunakan pickle\n",
        "pickle.dump(words, open('words.pkl','wb'))\n",
        "pickle.dump(classes, open('classes.pkl','wb'))"
      ]
    },
    {
      "cell_type": "markdown",
      "metadata": {
        "id": "i5MS3qKjykNB"
      },
      "source": [
        "## Save Label Encoder & Tokenizer"
      ]
    },
    {
      "cell_type": "code",
      "execution_count": 17,
      "metadata": {
        "id": "ELhfjai0ykNC"
      },
      "outputs": [],
      "source": [
        "pickle.dump(le, open('le.pkl','wb'))\n",
        "pickle.dump(tokenizer, open('tokenizers.pkl','wb'))"
      ]
    },
    {
      "cell_type": "markdown",
      "metadata": {
        "id": "yrHZf9Rdr4pi"
      },
      "source": [
        "# MODEL"
      ]
    },
    {
      "cell_type": "code",
      "execution_count": 18,
      "metadata": {
        "id": "wTMM7B4h3bV2"
      },
      "outputs": [],
      "source": [
        "# Creating the model (Membuat Modelling)\n",
        "i = Input(shape=(input_shape,)) # Layer Input\n",
        "x = Embedding(vocabulary+1,10)(i) # Layer Embedding\n",
        "x = LSTM(10, return_sequences=True, recurrent_dropout=0.2)(x) # Layer Long Short Term Memory\n",
        "x = Flatten()(x) # Layer Flatten\n",
        "x = Dense(output_length, activation=\"softmax\")(x) # Layer Dense\n",
        "model  = Model(i,x) # Model yang telah disusun dari layer Input sampai layer Output\n",
        "\n",
        "# Compiling the model (Kompilasi Model)\n",
        "model.compile(loss=\"sparse_categorical_crossentropy\", optimizer='adam', metrics=['accuracy'])"
      ]
    },
    {
      "cell_type": "code",
      "execution_count": 19,
      "metadata": {
        "colab": {
          "base_uri": "https://localhost:8080/",
          "height": 533
        },
        "id": "kCI4EmXCyQ5q",
        "outputId": "5a5eab0c-525f-41d1-ddbc-43c7e2dd8402"
      },
      "outputs": [
        {
          "name": "stdout",
          "output_type": "stream",
          "text": [
            "You must install pydot (`pip install pydot`) and install graphviz (see instructions at https://graphviz.gitlab.io/download/) for plot_model to work.\n"
          ]
        }
      ],
      "source": [
        "# Visualization Plot Architecture Model (Visualisasi Plot Arsitektur Model)\n",
        "plot_model(model, to_file='model_plot.png', show_shapes=True, show_layer_names=True)"
      ]
    },
    {
      "cell_type": "code",
      "execution_count": 20,
      "metadata": {
        "colab": {
          "base_uri": "https://localhost:8080/"
        },
        "id": "Tq0qnNhRz6jf",
        "outputId": "a86500df-728a-45e2-d7db-9a0773e8d62b"
      },
      "outputs": [
        {
          "name": "stdout",
          "output_type": "stream",
          "text": [
            "Model: \"model\"\n",
            "_________________________________________________________________\n",
            " Layer (type)                Output Shape              Param #   \n",
            "=================================================================\n",
            " input_1 (InputLayer)        [(None, 10)]              0         \n",
            "                                                                 \n",
            " embedding (Embedding)       (None, 10, 10)            750       \n",
            "                                                                 \n",
            " lstm (LSTM)                 (None, 10, 10)            840       \n",
            "                                                                 \n",
            " flatten (Flatten)           (None, 100)               0         \n",
            "                                                                 \n",
            " dense (Dense)               (None, 38)                3838      \n",
            "                                                                 \n",
            "=================================================================\n",
            "Total params: 5428 (21.20 KB)\n",
            "Trainable params: 5428 (21.20 KB)\n",
            "Non-trainable params: 0 (0.00 Byte)\n",
            "_________________________________________________________________\n"
          ]
        }
      ],
      "source": [
        "# Menampilkan parameter pada model LSTM\n",
        "model.summary()"
      ]
    },
    {
      "cell_type": "code",
      "execution_count": 21,
      "metadata": {
        "colab": {
          "base_uri": "https://localhost:8080/"
        },
        "id": "C0pc-Drx0ZQt",
        "outputId": "9f6c8149-c179-4889-9d23-5d2fa685ee32"
      },
      "outputs": [
        {
          "name": "stdout",
          "output_type": "stream",
          "text": [
            "Epoch 1/350\n",
            "3/3 [==============================] - 5s 15ms/step - loss: 3.6324 - accuracy: 0.0125\n",
            "Epoch 2/350\n",
            "3/3 [==============================] - 0s 10ms/step - loss: 3.6209 - accuracy: 0.0875\n",
            "Epoch 3/350\n",
            "3/3 [==============================] - 0s 10ms/step - loss: 3.6078 - accuracy: 0.1000\n",
            "Epoch 4/350\n",
            "3/3 [==============================] - 0s 14ms/step - loss: 3.5947 - accuracy: 0.1000\n",
            "Epoch 5/350\n",
            "3/3 [==============================] - 0s 24ms/step - loss: 3.5805 - accuracy: 0.1000\n",
            "Epoch 6/350\n",
            "3/3 [==============================] - 0s 13ms/step - loss: 3.5610 - accuracy: 0.1000\n",
            "Epoch 7/350\n",
            "3/3 [==============================] - 0s 13ms/step - loss: 3.5409 - accuracy: 0.1000\n",
            "Epoch 8/350\n",
            "3/3 [==============================] - 0s 17ms/step - loss: 3.5152 - accuracy: 0.1000\n",
            "Epoch 9/350\n",
            "3/3 [==============================] - 0s 13ms/step - loss: 3.4840 - accuracy: 0.1000\n",
            "Epoch 10/350\n",
            "3/3 [==============================] - 0s 14ms/step - loss: 3.4472 - accuracy: 0.1250\n",
            "Epoch 11/350\n",
            "3/3 [==============================] - 0s 13ms/step - loss: 3.4078 - accuracy: 0.1625\n",
            "Epoch 12/350\n",
            "3/3 [==============================] - 0s 17ms/step - loss: 3.3553 - accuracy: 0.2250\n",
            "Epoch 13/350\n",
            "3/3 [==============================] - 0s 16ms/step - loss: 3.2931 - accuracy: 0.2500\n",
            "Epoch 14/350\n",
            "3/3 [==============================] - 0s 15ms/step - loss: 3.2276 - accuracy: 0.2375\n",
            "Epoch 15/350\n",
            "3/3 [==============================] - 0s 14ms/step - loss: 3.1520 - accuracy: 0.2125\n",
            "Epoch 16/350\n",
            "3/3 [==============================] - 0s 13ms/step - loss: 3.0674 - accuracy: 0.2000\n",
            "Epoch 17/350\n",
            "3/3 [==============================] - 0s 14ms/step - loss: 2.9788 - accuracy: 0.2000\n",
            "Epoch 18/350\n",
            "3/3 [==============================] - 0s 14ms/step - loss: 2.8874 - accuracy: 0.2000\n",
            "Epoch 19/350\n",
            "3/3 [==============================] - 0s 29ms/step - loss: 2.8265 - accuracy: 0.2000\n",
            "Epoch 20/350\n",
            "3/3 [==============================] - 0s 13ms/step - loss: 2.7820 - accuracy: 0.2000\n",
            "Epoch 21/350\n",
            "3/3 [==============================] - 0s 19ms/step - loss: 2.7382 - accuracy: 0.2000\n",
            "Epoch 22/350\n",
            "3/3 [==============================] - 0s 15ms/step - loss: 2.7175 - accuracy: 0.2000\n",
            "Epoch 23/350\n",
            "3/3 [==============================] - 0s 14ms/step - loss: 2.7060 - accuracy: 0.2000\n",
            "Epoch 24/350\n",
            "3/3 [==============================] - 0s 18ms/step - loss: 2.6822 - accuracy: 0.2000\n",
            "Epoch 25/350\n",
            "3/3 [==============================] - 0s 12ms/step - loss: 2.6722 - accuracy: 0.2000\n",
            "Epoch 26/350\n",
            "3/3 [==============================] - 0s 13ms/step - loss: 2.6472 - accuracy: 0.2000\n",
            "Epoch 27/350\n",
            "3/3 [==============================] - 0s 16ms/step - loss: 2.6210 - accuracy: 0.2000\n",
            "Epoch 28/350\n",
            "3/3 [==============================] - 0s 14ms/step - loss: 2.6057 - accuracy: 0.2000\n",
            "Epoch 29/350\n",
            "3/3 [==============================] - 0s 34ms/step - loss: 2.5896 - accuracy: 0.2000\n",
            "Epoch 30/350\n",
            "3/3 [==============================] - 0s 22ms/step - loss: 2.5720 - accuracy: 0.2000\n",
            "Epoch 31/350\n",
            "3/3 [==============================] - 0s 32ms/step - loss: 2.5476 - accuracy: 0.2000\n",
            "Epoch 32/350\n",
            "3/3 [==============================] - 0s 19ms/step - loss: 2.5310 - accuracy: 0.2000\n",
            "Epoch 33/350\n",
            "3/3 [==============================] - 0s 16ms/step - loss: 2.5156 - accuracy: 0.2125\n",
            "Epoch 34/350\n",
            "3/3 [==============================] - 0s 12ms/step - loss: 2.5008 - accuracy: 0.2125\n",
            "Epoch 35/350\n",
            "3/3 [==============================] - 0s 16ms/step - loss: 2.4852 - accuracy: 0.2125\n",
            "Epoch 36/350\n",
            "3/3 [==============================] - 0s 15ms/step - loss: 2.4631 - accuracy: 0.2125\n",
            "Epoch 37/350\n",
            "3/3 [==============================] - 0s 13ms/step - loss: 2.4526 - accuracy: 0.2125\n",
            "Epoch 38/350\n",
            "3/3 [==============================] - 0s 20ms/step - loss: 2.4429 - accuracy: 0.2125\n",
            "Epoch 39/350\n",
            "3/3 [==============================] - 0s 13ms/step - loss: 2.4178 - accuracy: 0.2125\n",
            "Epoch 40/350\n",
            "3/3 [==============================] - 0s 13ms/step - loss: 2.4059 - accuracy: 0.2125\n",
            "Epoch 41/350\n",
            "3/3 [==============================] - 0s 18ms/step - loss: 2.3890 - accuracy: 0.2250\n",
            "Epoch 42/350\n",
            "3/3 [==============================] - 0s 21ms/step - loss: 2.3699 - accuracy: 0.2375\n",
            "Epoch 43/350\n",
            "3/3 [==============================] - 0s 20ms/step - loss: 2.3526 - accuracy: 0.2625\n",
            "Epoch 44/350\n",
            "3/3 [==============================] - 0s 18ms/step - loss: 2.3261 - accuracy: 0.2500\n",
            "Epoch 45/350\n",
            "3/3 [==============================] - 0s 13ms/step - loss: 2.3270 - accuracy: 0.2625\n",
            "Epoch 46/350\n",
            "3/3 [==============================] - 0s 12ms/step - loss: 2.3133 - accuracy: 0.2625\n",
            "Epoch 47/350\n",
            "3/3 [==============================] - 0s 13ms/step - loss: 2.2856 - accuracy: 0.2625\n",
            "Epoch 48/350\n",
            "3/3 [==============================] - 0s 14ms/step - loss: 2.2707 - accuracy: 0.2625\n",
            "Epoch 49/350\n",
            "3/3 [==============================] - 0s 13ms/step - loss: 2.2604 - accuracy: 0.2625\n",
            "Epoch 50/350\n",
            "3/3 [==============================] - 0s 16ms/step - loss: 2.2480 - accuracy: 0.2625\n",
            "Epoch 51/350\n",
            "3/3 [==============================] - 0s 27ms/step - loss: 2.2337 - accuracy: 0.3000\n",
            "Epoch 52/350\n",
            "3/3 [==============================] - 0s 14ms/step - loss: 2.2185 - accuracy: 0.3125\n",
            "Epoch 53/350\n",
            "3/3 [==============================] - 0s 15ms/step - loss: 2.2044 - accuracy: 0.3000\n",
            "Epoch 54/350\n",
            "3/3 [==============================] - 0s 15ms/step - loss: 2.1992 - accuracy: 0.3250\n",
            "Epoch 55/350\n",
            "3/3 [==============================] - 0s 14ms/step - loss: 2.1752 - accuracy: 0.3250\n",
            "Epoch 56/350\n",
            "3/3 [==============================] - 0s 19ms/step - loss: 2.1649 - accuracy: 0.3250\n",
            "Epoch 57/350\n",
            "3/3 [==============================] - 0s 15ms/step - loss: 2.1496 - accuracy: 0.3250\n",
            "Epoch 58/350\n",
            "3/3 [==============================] - 0s 16ms/step - loss: 2.1368 - accuracy: 0.3125\n",
            "Epoch 59/350\n",
            "3/3 [==============================] - 0s 18ms/step - loss: 2.1113 - accuracy: 0.3250\n",
            "Epoch 60/350\n",
            "3/3 [==============================] - 0s 24ms/step - loss: 2.0999 - accuracy: 0.3250\n",
            "Epoch 61/350\n",
            "3/3 [==============================] - 0s 20ms/step - loss: 2.0973 - accuracy: 0.3375\n",
            "Epoch 62/350\n",
            "3/3 [==============================] - 0s 13ms/step - loss: 2.0801 - accuracy: 0.3375\n",
            "Epoch 63/350\n",
            "3/3 [==============================] - 0s 12ms/step - loss: 2.0586 - accuracy: 0.3500\n",
            "Epoch 64/350\n",
            "3/3 [==============================] - 0s 15ms/step - loss: 2.0498 - accuracy: 0.3625\n",
            "Epoch 65/350\n",
            "3/3 [==============================] - 0s 15ms/step - loss: 2.0355 - accuracy: 0.3375\n",
            "Epoch 66/350\n",
            "3/3 [==============================] - 0s 11ms/step - loss: 2.0315 - accuracy: 0.3500\n",
            "Epoch 67/350\n",
            "3/3 [==============================] - 0s 16ms/step - loss: 2.0123 - accuracy: 0.3750\n",
            "Epoch 68/350\n",
            "3/3 [==============================] - 0s 13ms/step - loss: 2.0038 - accuracy: 0.3625\n",
            "Epoch 69/350\n",
            "3/3 [==============================] - 0s 14ms/step - loss: 1.9859 - accuracy: 0.3750\n",
            "Epoch 70/350\n",
            "3/3 [==============================] - 0s 13ms/step - loss: 1.9697 - accuracy: 0.3500\n",
            "Epoch 71/350\n",
            "3/3 [==============================] - 0s 19ms/step - loss: 1.9575 - accuracy: 0.3625\n",
            "Epoch 72/350\n",
            "3/3 [==============================] - 0s 16ms/step - loss: 1.9487 - accuracy: 0.3750\n",
            "Epoch 73/350\n",
            "3/3 [==============================] - 0s 15ms/step - loss: 1.9263 - accuracy: 0.3875\n",
            "Epoch 74/350\n",
            "3/3 [==============================] - 0s 18ms/step - loss: 1.9215 - accuracy: 0.3625\n",
            "Epoch 75/350\n",
            "3/3 [==============================] - 0s 13ms/step - loss: 1.9145 - accuracy: 0.3875\n",
            "Epoch 76/350\n",
            "3/3 [==============================] - 0s 12ms/step - loss: 1.8911 - accuracy: 0.4000\n",
            "Epoch 77/350\n",
            "3/3 [==============================] - 0s 14ms/step - loss: 1.8805 - accuracy: 0.4375\n",
            "Epoch 78/350\n",
            "3/3 [==============================] - 0s 14ms/step - loss: 1.8617 - accuracy: 0.4250\n",
            "Epoch 79/350\n",
            "3/3 [==============================] - 0s 19ms/step - loss: 1.8591 - accuracy: 0.3875\n",
            "Epoch 80/350\n",
            "3/3 [==============================] - 0s 13ms/step - loss: 1.8320 - accuracy: 0.4375\n",
            "Epoch 81/350\n",
            "3/3 [==============================] - 0s 17ms/step - loss: 1.8322 - accuracy: 0.4250\n",
            "Epoch 82/350\n",
            "3/3 [==============================] - 0s 13ms/step - loss: 1.8214 - accuracy: 0.4125\n",
            "Epoch 83/350\n",
            "3/3 [==============================] - 0s 15ms/step - loss: 1.8052 - accuracy: 0.4625\n",
            "Epoch 84/350\n",
            "3/3 [==============================] - 0s 14ms/step - loss: 1.8076 - accuracy: 0.4375\n",
            "Epoch 85/350\n",
            "3/3 [==============================] - 0s 17ms/step - loss: 1.7807 - accuracy: 0.5000\n",
            "Epoch 86/350\n",
            "3/3 [==============================] - 0s 16ms/step - loss: 1.7536 - accuracy: 0.4750\n",
            "Epoch 87/350\n",
            "3/3 [==============================] - 0s 13ms/step - loss: 1.7592 - accuracy: 0.5000\n",
            "Epoch 88/350\n",
            "3/3 [==============================] - 0s 13ms/step - loss: 1.7391 - accuracy: 0.5000\n",
            "Epoch 89/350\n",
            "3/3 [==============================] - 0s 14ms/step - loss: 1.7181 - accuracy: 0.5125\n",
            "Epoch 90/350\n",
            "3/3 [==============================] - 0s 14ms/step - loss: 1.7326 - accuracy: 0.4625\n",
            "Epoch 91/350\n",
            "3/3 [==============================] - 0s 13ms/step - loss: 1.6955 - accuracy: 0.4750\n",
            "Epoch 92/350\n",
            "3/3 [==============================] - 0s 14ms/step - loss: 1.6810 - accuracy: 0.4625\n",
            "Epoch 93/350\n",
            "3/3 [==============================] - 0s 16ms/step - loss: 1.6660 - accuracy: 0.4625\n",
            "Epoch 94/350\n",
            "3/3 [==============================] - 0s 13ms/step - loss: 1.6536 - accuracy: 0.5250\n",
            "Epoch 95/350\n",
            "3/3 [==============================] - 0s 14ms/step - loss: 1.6603 - accuracy: 0.4625\n",
            "Epoch 96/350\n",
            "3/3 [==============================] - 0s 12ms/step - loss: 1.6441 - accuracy: 0.4875\n",
            "Epoch 97/350\n",
            "3/3 [==============================] - 0s 13ms/step - loss: 1.6367 - accuracy: 0.4750\n",
            "Epoch 98/350\n",
            "3/3 [==============================] - 0s 16ms/step - loss: 1.6090 - accuracy: 0.5625\n",
            "Epoch 99/350\n",
            "3/3 [==============================] - 0s 14ms/step - loss: 1.6134 - accuracy: 0.5250\n",
            "Epoch 100/350\n",
            "3/3 [==============================] - 0s 13ms/step - loss: 1.6090 - accuracy: 0.5500\n",
            "Epoch 101/350\n",
            "3/3 [==============================] - 0s 36ms/step - loss: 1.5800 - accuracy: 0.5375\n",
            "Epoch 102/350\n",
            "3/3 [==============================] - 0s 12ms/step - loss: 1.5692 - accuracy: 0.5250\n",
            "Epoch 103/350\n",
            "3/3 [==============================] - 0s 13ms/step - loss: 1.5674 - accuracy: 0.5500\n",
            "Epoch 104/350\n",
            "3/3 [==============================] - 0s 14ms/step - loss: 1.5546 - accuracy: 0.5875\n",
            "Epoch 105/350\n",
            "3/3 [==============================] - 0s 13ms/step - loss: 1.5159 - accuracy: 0.5625\n",
            "Epoch 106/350\n",
            "3/3 [==============================] - 0s 14ms/step - loss: 1.5248 - accuracy: 0.5750\n",
            "Epoch 107/350\n",
            "3/3 [==============================] - 0s 13ms/step - loss: 1.5012 - accuracy: 0.6000\n",
            "Epoch 108/350\n",
            "3/3 [==============================] - 0s 11ms/step - loss: 1.4945 - accuracy: 0.6250\n",
            "Epoch 109/350\n",
            "3/3 [==============================] - 0s 14ms/step - loss: 1.4871 - accuracy: 0.6125\n",
            "Epoch 110/350\n",
            "3/3 [==============================] - 0s 13ms/step - loss: 1.4825 - accuracy: 0.5500\n",
            "Epoch 111/350\n",
            "3/3 [==============================] - 0s 17ms/step - loss: 1.4666 - accuracy: 0.5625\n",
            "Epoch 112/350\n",
            "3/3 [==============================] - 0s 19ms/step - loss: 1.4561 - accuracy: 0.5750\n",
            "Epoch 113/350\n",
            "3/3 [==============================] - 0s 17ms/step - loss: 1.4316 - accuracy: 0.5750\n",
            "Epoch 114/350\n",
            "3/3 [==============================] - 0s 22ms/step - loss: 1.4351 - accuracy: 0.6500\n",
            "Epoch 115/350\n",
            "3/3 [==============================] - 0s 14ms/step - loss: 1.4183 - accuracy: 0.6125\n",
            "Epoch 116/350\n",
            "3/3 [==============================] - 0s 17ms/step - loss: 1.4072 - accuracy: 0.6125\n",
            "Epoch 117/350\n",
            "3/3 [==============================] - 0s 15ms/step - loss: 1.3897 - accuracy: 0.6625\n",
            "Epoch 118/350\n",
            "3/3 [==============================] - 0s 14ms/step - loss: 1.3830 - accuracy: 0.6750\n",
            "Epoch 119/350\n",
            "3/3 [==============================] - 0s 13ms/step - loss: 1.3731 - accuracy: 0.6750\n",
            "Epoch 120/350\n",
            "3/3 [==============================] - 0s 12ms/step - loss: 1.3451 - accuracy: 0.7000\n",
            "Epoch 121/350\n",
            "3/3 [==============================] - 0s 13ms/step - loss: 1.3376 - accuracy: 0.7375\n",
            "Epoch 122/350\n",
            "3/3 [==============================] - 0s 13ms/step - loss: 1.3336 - accuracy: 0.7375\n",
            "Epoch 123/350\n",
            "3/3 [==============================] - 0s 12ms/step - loss: 1.3274 - accuracy: 0.7250\n",
            "Epoch 124/350\n",
            "3/3 [==============================] - 0s 14ms/step - loss: 1.3135 - accuracy: 0.7125\n",
            "Epoch 125/350\n",
            "3/3 [==============================] - 0s 14ms/step - loss: 1.2958 - accuracy: 0.7375\n",
            "Epoch 126/350\n",
            "3/3 [==============================] - 0s 13ms/step - loss: 1.2907 - accuracy: 0.7250\n",
            "Epoch 127/350\n",
            "3/3 [==============================] - 0s 15ms/step - loss: 1.2709 - accuracy: 0.7250\n",
            "Epoch 128/350\n",
            "3/3 [==============================] - 0s 14ms/step - loss: 1.2627 - accuracy: 0.7125\n",
            "Epoch 129/350\n",
            "3/3 [==============================] - 0s 17ms/step - loss: 1.2407 - accuracy: 0.7250\n",
            "Epoch 130/350\n",
            "3/3 [==============================] - 0s 12ms/step - loss: 1.2315 - accuracy: 0.7375\n",
            "Epoch 131/350\n",
            "3/3 [==============================] - 0s 12ms/step - loss: 1.2373 - accuracy: 0.7250\n",
            "Epoch 132/350\n",
            "3/3 [==============================] - 0s 31ms/step - loss: 1.2268 - accuracy: 0.7125\n",
            "Epoch 133/350\n",
            "3/3 [==============================] - 0s 17ms/step - loss: 1.2182 - accuracy: 0.7125\n",
            "Epoch 134/350\n",
            "3/3 [==============================] - 0s 14ms/step - loss: 1.2062 - accuracy: 0.7250\n",
            "Epoch 135/350\n",
            "3/3 [==============================] - 0s 14ms/step - loss: 1.1838 - accuracy: 0.7500\n",
            "Epoch 136/350\n",
            "3/3 [==============================] - 0s 13ms/step - loss: 1.1756 - accuracy: 0.7250\n",
            "Epoch 137/350\n",
            "3/3 [==============================] - 0s 14ms/step - loss: 1.1780 - accuracy: 0.7500\n",
            "Epoch 138/350\n",
            "3/3 [==============================] - 0s 15ms/step - loss: 1.1590 - accuracy: 0.7750\n",
            "Epoch 139/350\n",
            "3/3 [==============================] - 0s 14ms/step - loss: 1.1498 - accuracy: 0.7375\n",
            "Epoch 140/350\n",
            "3/3 [==============================] - 0s 19ms/step - loss: 1.1316 - accuracy: 0.7625\n",
            "Epoch 141/350\n",
            "3/3 [==============================] - 0s 13ms/step - loss: 1.1296 - accuracy: 0.7625\n",
            "Epoch 142/350\n",
            "3/3 [==============================] - 0s 14ms/step - loss: 1.1273 - accuracy: 0.7750\n",
            "Epoch 143/350\n",
            "3/3 [==============================] - 0s 10ms/step - loss: 1.1294 - accuracy: 0.7750\n",
            "Epoch 144/350\n",
            "3/3 [==============================] - 0s 11ms/step - loss: 1.0932 - accuracy: 0.7625\n",
            "Epoch 145/350\n",
            "3/3 [==============================] - 0s 18ms/step - loss: 1.0861 - accuracy: 0.7500\n",
            "Epoch 146/350\n",
            "3/3 [==============================] - 0s 12ms/step - loss: 1.0889 - accuracy: 0.7375\n",
            "Epoch 147/350\n",
            "3/3 [==============================] - 0s 14ms/step - loss: 1.0737 - accuracy: 0.7625\n",
            "Epoch 148/350\n",
            "3/3 [==============================] - 0s 14ms/step - loss: 1.0610 - accuracy: 0.7625\n",
            "Epoch 149/350\n",
            "3/3 [==============================] - 0s 12ms/step - loss: 1.0456 - accuracy: 0.7750\n",
            "Epoch 150/350\n",
            "3/3 [==============================] - 0s 14ms/step - loss: 1.0380 - accuracy: 0.7625\n",
            "Epoch 151/350\n",
            "3/3 [==============================] - 0s 22ms/step - loss: 1.0452 - accuracy: 0.7500\n",
            "Epoch 152/350\n",
            "3/3 [==============================] - 0s 17ms/step - loss: 1.0324 - accuracy: 0.7625\n",
            "Epoch 153/350\n",
            "3/3 [==============================] - 0s 12ms/step - loss: 1.0126 - accuracy: 0.7750\n",
            "Epoch 154/350\n",
            "3/3 [==============================] - 0s 18ms/step - loss: 1.0175 - accuracy: 0.7625\n",
            "Epoch 155/350\n",
            "3/3 [==============================] - 0s 14ms/step - loss: 0.9944 - accuracy: 0.8000\n",
            "Epoch 156/350\n",
            "3/3 [==============================] - 0s 12ms/step - loss: 0.9899 - accuracy: 0.7750\n",
            "Epoch 157/350\n",
            "3/3 [==============================] - 0s 14ms/step - loss: 0.9837 - accuracy: 0.7625\n",
            "Epoch 158/350\n",
            "3/3 [==============================] - 0s 14ms/step - loss: 0.9808 - accuracy: 0.7875\n",
            "Epoch 159/350\n",
            "3/3 [==============================] - 0s 13ms/step - loss: 0.9697 - accuracy: 0.8125\n",
            "Epoch 160/350\n",
            "3/3 [==============================] - 0s 15ms/step - loss: 0.9694 - accuracy: 0.7625\n",
            "Epoch 161/350\n",
            "3/3 [==============================] - 0s 22ms/step - loss: 0.9497 - accuracy: 0.7875\n",
            "Epoch 162/350\n",
            "3/3 [==============================] - 0s 12ms/step - loss: 0.9466 - accuracy: 0.8125\n",
            "Epoch 163/350\n",
            "3/3 [==============================] - 0s 12ms/step - loss: 0.9357 - accuracy: 0.7750\n",
            "Epoch 164/350\n",
            "3/3 [==============================] - 0s 12ms/step - loss: 0.9268 - accuracy: 0.8375\n",
            "Epoch 165/350\n",
            "3/3 [==============================] - 0s 23ms/step - loss: 0.9199 - accuracy: 0.8000\n",
            "Epoch 166/350\n",
            "3/3 [==============================] - 0s 14ms/step - loss: 0.9186 - accuracy: 0.8000\n",
            "Epoch 167/350\n",
            "3/3 [==============================] - 0s 13ms/step - loss: 0.8982 - accuracy: 0.8375\n",
            "Epoch 168/350\n",
            "3/3 [==============================] - 0s 19ms/step - loss: 0.8937 - accuracy: 0.8250\n",
            "Epoch 169/350\n",
            "3/3 [==============================] - 0s 14ms/step - loss: 0.8935 - accuracy: 0.8000\n",
            "Epoch 170/350\n",
            "3/3 [==============================] - 0s 15ms/step - loss: 0.8895 - accuracy: 0.7875\n",
            "Epoch 171/350\n",
            "3/3 [==============================] - 0s 17ms/step - loss: 0.8785 - accuracy: 0.8125\n",
            "Epoch 172/350\n",
            "3/3 [==============================] - 0s 18ms/step - loss: 0.8662 - accuracy: 0.8125\n",
            "Epoch 173/350\n",
            "3/3 [==============================] - 0s 12ms/step - loss: 0.8642 - accuracy: 0.8125\n",
            "Epoch 174/350\n",
            "3/3 [==============================] - 0s 16ms/step - loss: 0.8557 - accuracy: 0.8500\n",
            "Epoch 175/350\n",
            "3/3 [==============================] - 0s 13ms/step - loss: 0.8401 - accuracy: 0.8250\n",
            "Epoch 176/350\n",
            "3/3 [==============================] - 0s 12ms/step - loss: 0.8400 - accuracy: 0.8125\n",
            "Epoch 177/350\n",
            "3/3 [==============================] - 0s 14ms/step - loss: 0.8436 - accuracy: 0.8000\n",
            "Epoch 178/350\n",
            "3/3 [==============================] - 0s 15ms/step - loss: 0.8320 - accuracy: 0.8375\n",
            "Epoch 179/350\n",
            "3/3 [==============================] - 0s 12ms/step - loss: 0.8177 - accuracy: 0.8250\n",
            "Epoch 180/350\n",
            "3/3 [==============================] - 0s 13ms/step - loss: 0.8131 - accuracy: 0.8500\n",
            "Epoch 181/350\n",
            "3/3 [==============================] - 0s 14ms/step - loss: 0.8060 - accuracy: 0.8375\n",
            "Epoch 182/350\n",
            "3/3 [==============================] - 0s 12ms/step - loss: 0.8038 - accuracy: 0.8250\n",
            "Epoch 183/350\n",
            "3/3 [==============================] - 0s 12ms/step - loss: 0.7953 - accuracy: 0.8625\n",
            "Epoch 184/350\n",
            "3/3 [==============================] - 0s 13ms/step - loss: 0.7870 - accuracy: 0.8875\n",
            "Epoch 185/350\n",
            "3/3 [==============================] - 0s 12ms/step - loss: 0.7913 - accuracy: 0.8250\n",
            "Epoch 186/350\n",
            "3/3 [==============================] - 0s 14ms/step - loss: 0.7804 - accuracy: 0.8625\n",
            "Epoch 187/350\n",
            "3/3 [==============================] - 0s 15ms/step - loss: 0.7684 - accuracy: 0.8750\n",
            "Epoch 188/350\n",
            "3/3 [==============================] - 0s 14ms/step - loss: 0.7693 - accuracy: 0.8375\n",
            "Epoch 189/350\n",
            "3/3 [==============================] - 0s 14ms/step - loss: 0.7601 - accuracy: 0.8750\n",
            "Epoch 190/350\n",
            "3/3 [==============================] - 0s 16ms/step - loss: 0.7498 - accuracy: 0.8750\n",
            "Epoch 191/350\n",
            "3/3 [==============================] - 0s 11ms/step - loss: 0.7422 - accuracy: 0.8875\n",
            "Epoch 192/350\n",
            "3/3 [==============================] - 0s 25ms/step - loss: 0.7372 - accuracy: 0.8500\n",
            "Epoch 193/350\n",
            "3/3 [==============================] - 0s 16ms/step - loss: 0.7393 - accuracy: 0.8500\n",
            "Epoch 194/350\n",
            "3/3 [==============================] - 0s 30ms/step - loss: 0.7216 - accuracy: 0.8500\n",
            "Epoch 195/350\n",
            "3/3 [==============================] - 0s 11ms/step - loss: 0.7229 - accuracy: 0.8500\n",
            "Epoch 196/350\n",
            "3/3 [==============================] - 0s 12ms/step - loss: 0.7107 - accuracy: 0.8875\n",
            "Epoch 197/350\n",
            "3/3 [==============================] - 0s 13ms/step - loss: 0.7100 - accuracy: 0.8625\n",
            "Epoch 198/350\n",
            "3/3 [==============================] - 0s 13ms/step - loss: 0.7027 - accuracy: 0.8375\n",
            "Epoch 199/350\n",
            "3/3 [==============================] - 0s 13ms/step - loss: 0.6980 - accuracy: 0.8625\n",
            "Epoch 200/350\n",
            "3/3 [==============================] - 0s 26ms/step - loss: 0.6827 - accuracy: 0.8875\n",
            "Epoch 201/350\n",
            "3/3 [==============================] - 0s 13ms/step - loss: 0.6925 - accuracy: 0.8750\n",
            "Epoch 202/350\n",
            "3/3 [==============================] - 0s 18ms/step - loss: 0.6723 - accuracy: 0.9125\n",
            "Epoch 203/350\n",
            "3/3 [==============================] - 0s 14ms/step - loss: 0.6728 - accuracy: 0.8625\n",
            "Epoch 204/350\n",
            "3/3 [==============================] - 0s 12ms/step - loss: 0.6738 - accuracy: 0.8625\n",
            "Epoch 205/350\n",
            "3/3 [==============================] - 0s 13ms/step - loss: 0.6647 - accuracy: 0.8625\n",
            "Epoch 206/350\n",
            "3/3 [==============================] - 0s 14ms/step - loss: 0.6609 - accuracy: 0.8750\n",
            "Epoch 207/350\n",
            "3/3 [==============================] - 0s 13ms/step - loss: 0.6563 - accuracy: 0.8625\n",
            "Epoch 208/350\n",
            "3/3 [==============================] - 0s 21ms/step - loss: 0.6550 - accuracy: 0.8750\n",
            "Epoch 209/350\n",
            "3/3 [==============================] - 0s 19ms/step - loss: 0.6342 - accuracy: 0.8500\n",
            "Epoch 210/350\n",
            "3/3 [==============================] - 0s 37ms/step - loss: 0.6442 - accuracy: 0.8625\n",
            "Epoch 211/350\n",
            "3/3 [==============================] - 0s 14ms/step - loss: 0.6186 - accuracy: 0.8750\n",
            "Epoch 212/350\n",
            "3/3 [==============================] - 0s 20ms/step - loss: 0.6226 - accuracy: 0.8875\n",
            "Epoch 213/350\n",
            "3/3 [==============================] - 0s 16ms/step - loss: 0.6191 - accuracy: 0.8875\n",
            "Epoch 214/350\n",
            "3/3 [==============================] - 0s 13ms/step - loss: 0.6096 - accuracy: 0.8750\n",
            "Epoch 215/350\n",
            "3/3 [==============================] - 0s 14ms/step - loss: 0.6037 - accuracy: 0.8875\n",
            "Epoch 216/350\n",
            "3/3 [==============================] - 0s 13ms/step - loss: 0.6072 - accuracy: 0.8500\n",
            "Epoch 217/350\n",
            "3/3 [==============================] - 0s 15ms/step - loss: 0.5974 - accuracy: 0.8875\n",
            "Epoch 218/350\n",
            "3/3 [==============================] - 0s 13ms/step - loss: 0.5964 - accuracy: 0.8750\n",
            "Epoch 219/350\n",
            "3/3 [==============================] - 0s 15ms/step - loss: 0.5926 - accuracy: 0.8750\n",
            "Epoch 220/350\n",
            "3/3 [==============================] - 0s 14ms/step - loss: 0.5922 - accuracy: 0.8875\n",
            "Epoch 221/350\n",
            "3/3 [==============================] - 0s 12ms/step - loss: 0.5734 - accuracy: 0.9000\n",
            "Epoch 222/350\n",
            "3/3 [==============================] - 0s 14ms/step - loss: 0.5780 - accuracy: 0.9000\n",
            "Epoch 223/350\n",
            "3/3 [==============================] - 0s 14ms/step - loss: 0.5781 - accuracy: 0.8875\n",
            "Epoch 224/350\n",
            "3/3 [==============================] - 0s 13ms/step - loss: 0.5650 - accuracy: 0.8875\n",
            "Epoch 225/350\n",
            "3/3 [==============================] - 0s 12ms/step - loss: 0.5662 - accuracy: 0.9000\n",
            "Epoch 226/350\n",
            "3/3 [==============================] - 0s 14ms/step - loss: 0.5536 - accuracy: 0.9125\n",
            "Epoch 227/350\n",
            "3/3 [==============================] - 0s 15ms/step - loss: 0.5513 - accuracy: 0.9375\n",
            "Epoch 228/350\n",
            "3/3 [==============================] - 0s 13ms/step - loss: 0.5523 - accuracy: 0.9000\n",
            "Epoch 229/350\n",
            "3/3 [==============================] - 0s 16ms/step - loss: 0.5487 - accuracy: 0.9125\n",
            "Epoch 230/350\n",
            "3/3 [==============================] - 0s 14ms/step - loss: 0.5317 - accuracy: 0.9000\n",
            "Epoch 231/350\n",
            "3/3 [==============================] - 0s 13ms/step - loss: 0.5369 - accuracy: 0.9125\n",
            "Epoch 232/350\n",
            "3/3 [==============================] - 0s 16ms/step - loss: 0.5292 - accuracy: 0.9125\n",
            "Epoch 233/350\n",
            "3/3 [==============================] - 0s 35ms/step - loss: 0.5235 - accuracy: 0.9375\n",
            "Epoch 234/350\n",
            "3/3 [==============================] - 0s 35ms/step - loss: 0.5181 - accuracy: 0.9125\n",
            "Epoch 235/350\n",
            "3/3 [==============================] - 0s 14ms/step - loss: 0.5238 - accuracy: 0.9000\n",
            "Epoch 236/350\n",
            "3/3 [==============================] - 0s 23ms/step - loss: 0.5146 - accuracy: 0.9250\n",
            "Epoch 237/350\n",
            "3/3 [==============================] - 0s 20ms/step - loss: 0.5181 - accuracy: 0.9375\n",
            "Epoch 238/350\n",
            "3/3 [==============================] - 0s 17ms/step - loss: 0.4989 - accuracy: 0.9125\n",
            "Epoch 239/350\n",
            "3/3 [==============================] - 0s 15ms/step - loss: 0.5000 - accuracy: 0.9250\n",
            "Epoch 240/350\n",
            "3/3 [==============================] - 0s 17ms/step - loss: 0.5077 - accuracy: 0.9125\n",
            "Epoch 241/350\n",
            "3/3 [==============================] - 0s 15ms/step - loss: 0.4929 - accuracy: 0.9375\n",
            "Epoch 242/350\n",
            "3/3 [==============================] - 0s 13ms/step - loss: 0.4889 - accuracy: 0.9375\n",
            "Epoch 243/350\n",
            "3/3 [==============================] - 0s 13ms/step - loss: 0.4803 - accuracy: 0.9250\n",
            "Epoch 244/350\n",
            "3/3 [==============================] - 0s 14ms/step - loss: 0.4783 - accuracy: 0.9125\n",
            "Epoch 245/350\n",
            "3/3 [==============================] - 0s 18ms/step - loss: 0.4841 - accuracy: 0.9125\n",
            "Epoch 246/350\n",
            "3/3 [==============================] - 0s 18ms/step - loss: 0.4666 - accuracy: 0.9500\n",
            "Epoch 247/350\n",
            "3/3 [==============================] - 0s 16ms/step - loss: 0.4807 - accuracy: 0.9000\n",
            "Epoch 248/350\n",
            "3/3 [==============================] - 0s 13ms/step - loss: 0.4882 - accuracy: 0.9250\n",
            "Epoch 249/350\n",
            "3/3 [==============================] - 0s 12ms/step - loss: 0.4646 - accuracy: 0.9250\n",
            "Epoch 250/350\n",
            "3/3 [==============================] - 0s 15ms/step - loss: 0.4623 - accuracy: 0.9375\n",
            "Epoch 251/350\n",
            "3/3 [==============================] - 0s 13ms/step - loss: 0.4601 - accuracy: 0.9125\n",
            "Epoch 252/350\n",
            "3/3 [==============================] - 0s 14ms/step - loss: 0.4592 - accuracy: 0.9000\n",
            "Epoch 253/350\n",
            "3/3 [==============================] - 0s 13ms/step - loss: 0.4507 - accuracy: 0.9625\n",
            "Epoch 254/350\n",
            "3/3 [==============================] - 0s 13ms/step - loss: 0.4486 - accuracy: 0.9250\n",
            "Epoch 255/350\n",
            "3/3 [==============================] - 0s 31ms/step - loss: 0.4404 - accuracy: 0.9125\n",
            "Epoch 256/350\n",
            "3/3 [==============================] - 0s 16ms/step - loss: 0.4473 - accuracy: 0.9125\n",
            "Epoch 257/350\n",
            "3/3 [==============================] - 0s 13ms/step - loss: 0.4462 - accuracy: 0.9125\n",
            "Epoch 258/350\n",
            "3/3 [==============================] - 0s 13ms/step - loss: 0.4376 - accuracy: 0.9500\n",
            "Epoch 259/350\n",
            "3/3 [==============================] - 0s 16ms/step - loss: 0.4316 - accuracy: 0.9375\n",
            "Epoch 260/350\n",
            "3/3 [==============================] - 0s 14ms/step - loss: 0.4339 - accuracy: 0.9250\n",
            "Epoch 261/350\n",
            "3/3 [==============================] - 0s 17ms/step - loss: 0.4267 - accuracy: 0.9250\n",
            "Epoch 262/350\n",
            "3/3 [==============================] - 0s 12ms/step - loss: 0.4210 - accuracy: 0.9500\n",
            "Epoch 263/350\n",
            "3/3 [==============================] - 0s 22ms/step - loss: 0.4178 - accuracy: 0.9375\n",
            "Epoch 264/350\n",
            "3/3 [==============================] - 0s 14ms/step - loss: 0.4174 - accuracy: 0.9375\n",
            "Epoch 265/350\n",
            "3/3 [==============================] - 0s 16ms/step - loss: 0.4122 - accuracy: 0.9250\n",
            "Epoch 266/350\n",
            "3/3 [==============================] - 0s 13ms/step - loss: 0.4116 - accuracy: 0.9250\n",
            "Epoch 267/350\n",
            "3/3 [==============================] - 0s 18ms/step - loss: 0.4104 - accuracy: 0.9375\n",
            "Epoch 268/350\n",
            "3/3 [==============================] - 0s 13ms/step - loss: 0.4048 - accuracy: 0.9250\n",
            "Epoch 269/350\n",
            "3/3 [==============================] - 0s 19ms/step - loss: 0.4013 - accuracy: 0.9250\n",
            "Epoch 270/350\n",
            "3/3 [==============================] - 0s 13ms/step - loss: 0.4048 - accuracy: 0.9375\n",
            "Epoch 271/350\n",
            "3/3 [==============================] - 0s 15ms/step - loss: 0.3993 - accuracy: 0.9375\n",
            "Epoch 272/350\n",
            "3/3 [==============================] - 0s 11ms/step - loss: 0.3956 - accuracy: 0.9750\n",
            "Epoch 273/350\n",
            "3/3 [==============================] - 0s 23ms/step - loss: 0.3891 - accuracy: 0.9625\n",
            "Epoch 274/350\n",
            "3/3 [==============================] - 0s 14ms/step - loss: 0.3839 - accuracy: 0.9375\n",
            "Epoch 275/350\n",
            "3/3 [==============================] - 0s 24ms/step - loss: 0.3872 - accuracy: 0.9500\n",
            "Epoch 276/350\n",
            "3/3 [==============================] - 0s 12ms/step - loss: 0.3807 - accuracy: 0.9375\n",
            "Epoch 277/350\n",
            "3/3 [==============================] - 0s 15ms/step - loss: 0.3844 - accuracy: 0.9625\n",
            "Epoch 278/350\n",
            "3/3 [==============================] - 0s 17ms/step - loss: 0.3778 - accuracy: 0.9625\n",
            "Epoch 279/350\n",
            "3/3 [==============================] - 0s 16ms/step - loss: 0.3740 - accuracy: 0.9875\n",
            "Epoch 280/350\n",
            "3/3 [==============================] - 0s 13ms/step - loss: 0.3741 - accuracy: 0.9750\n",
            "Epoch 281/350\n",
            "3/3 [==============================] - 0s 15ms/step - loss: 0.3729 - accuracy: 0.9750\n",
            "Epoch 282/350\n",
            "3/3 [==============================] - 0s 12ms/step - loss: 0.3650 - accuracy: 0.9750\n",
            "Epoch 283/350\n",
            "3/3 [==============================] - 0s 17ms/step - loss: 0.3665 - accuracy: 0.9750\n",
            "Epoch 284/350\n",
            "3/3 [==============================] - 0s 13ms/step - loss: 0.3642 - accuracy: 0.9875\n",
            "Epoch 285/350\n",
            "3/3 [==============================] - 0s 13ms/step - loss: 0.3556 - accuracy: 0.9875\n",
            "Epoch 286/350\n",
            "3/3 [==============================] - 0s 13ms/step - loss: 0.3561 - accuracy: 0.9875\n",
            "Epoch 287/350\n",
            "3/3 [==============================] - 0s 14ms/step - loss: 0.3445 - accuracy: 0.9875\n",
            "Epoch 288/350\n",
            "3/3 [==============================] - 0s 16ms/step - loss: 0.3555 - accuracy: 0.9750\n",
            "Epoch 289/350\n",
            "3/3 [==============================] - 0s 47ms/step - loss: 0.3484 - accuracy: 0.9750\n",
            "Epoch 290/350\n",
            "3/3 [==============================] - 0s 14ms/step - loss: 0.3514 - accuracy: 0.9625\n",
            "Epoch 291/350\n",
            "3/3 [==============================] - 0s 17ms/step - loss: 0.3430 - accuracy: 1.0000\n",
            "Epoch 292/350\n",
            "3/3 [==============================] - 0s 18ms/step - loss: 0.3456 - accuracy: 0.9875\n",
            "Epoch 293/350\n",
            "3/3 [==============================] - 0s 14ms/step - loss: 0.3426 - accuracy: 0.9875\n",
            "Epoch 294/350\n",
            "3/3 [==============================] - 0s 18ms/step - loss: 0.3365 - accuracy: 0.9875\n",
            "Epoch 295/350\n",
            "3/3 [==============================] - 0s 12ms/step - loss: 0.3398 - accuracy: 0.9750\n",
            "Epoch 296/350\n",
            "3/3 [==============================] - 0s 14ms/step - loss: 0.3343 - accuracy: 0.9625\n",
            "Epoch 297/350\n",
            "3/3 [==============================] - 0s 12ms/step - loss: 0.3350 - accuracy: 0.9750\n",
            "Epoch 298/350\n",
            "3/3 [==============================] - 0s 14ms/step - loss: 0.3238 - accuracy: 0.9750\n",
            "Epoch 299/350\n",
            "3/3 [==============================] - 0s 15ms/step - loss: 0.3220 - accuracy: 0.9625\n",
            "Epoch 300/350\n",
            "3/3 [==============================] - 0s 14ms/step - loss: 0.3233 - accuracy: 0.9500\n",
            "Epoch 301/350\n",
            "3/3 [==============================] - 0s 13ms/step - loss: 0.3235 - accuracy: 0.9500\n",
            "Epoch 302/350\n",
            "3/3 [==============================] - 0s 15ms/step - loss: 0.3150 - accuracy: 0.9500\n",
            "Epoch 303/350\n",
            "3/3 [==============================] - 0s 16ms/step - loss: 0.3158 - accuracy: 0.9875\n",
            "Epoch 304/350\n",
            "3/3 [==============================] - 0s 13ms/step - loss: 0.3142 - accuracy: 0.9875\n",
            "Epoch 305/350\n",
            "3/3 [==============================] - 0s 15ms/step - loss: 0.3089 - accuracy: 0.9875\n",
            "Epoch 306/350\n",
            "3/3 [==============================] - 0s 13ms/step - loss: 0.3097 - accuracy: 0.9625\n",
            "Epoch 307/350\n",
            "3/3 [==============================] - 0s 14ms/step - loss: 0.3108 - accuracy: 0.9875\n",
            "Epoch 308/350\n",
            "3/3 [==============================] - 0s 12ms/step - loss: 0.3096 - accuracy: 0.9750\n",
            "Epoch 309/350\n",
            "3/3 [==============================] - 0s 20ms/step - loss: 0.3018 - accuracy: 0.9875\n",
            "Epoch 310/350\n",
            "3/3 [==============================] - 0s 12ms/step - loss: 0.3044 - accuracy: 0.9750\n",
            "Epoch 311/350\n",
            "3/3 [==============================] - 0s 15ms/step - loss: 0.3009 - accuracy: 0.9875\n",
            "Epoch 312/350\n",
            "3/3 [==============================] - 0s 17ms/step - loss: 0.2967 - accuracy: 0.9875\n",
            "Epoch 313/350\n",
            "3/3 [==============================] - 0s 14ms/step - loss: 0.3031 - accuracy: 0.9875\n",
            "Epoch 314/350\n",
            "3/3 [==============================] - 0s 14ms/step - loss: 0.2921 - accuracy: 0.9875\n",
            "Epoch 315/350\n",
            "3/3 [==============================] - 0s 14ms/step - loss: 0.2898 - accuracy: 0.9875\n",
            "Epoch 316/350\n",
            "3/3 [==============================] - 0s 17ms/step - loss: 0.2806 - accuracy: 0.9875\n",
            "Epoch 317/350\n",
            "3/3 [==============================] - 0s 14ms/step - loss: 0.2878 - accuracy: 0.9750\n",
            "Epoch 318/350\n",
            "3/3 [==============================] - 0s 15ms/step - loss: 0.2835 - accuracy: 0.9750\n",
            "Epoch 319/350\n",
            "3/3 [==============================] - 0s 16ms/step - loss: 0.2808 - accuracy: 0.9750\n",
            "Epoch 320/350\n",
            "3/3 [==============================] - 0s 13ms/step - loss: 0.2768 - accuracy: 0.9875\n",
            "Epoch 321/350\n",
            "3/3 [==============================] - 0s 13ms/step - loss: 0.2798 - accuracy: 0.9750\n",
            "Epoch 322/350\n",
            "3/3 [==============================] - 0s 13ms/step - loss: 0.2754 - accuracy: 0.9750\n",
            "Epoch 323/350\n",
            "3/3 [==============================] - 0s 14ms/step - loss: 0.2727 - accuracy: 0.9875\n",
            "Epoch 324/350\n",
            "3/3 [==============================] - 0s 16ms/step - loss: 0.2702 - accuracy: 0.9750\n",
            "Epoch 325/350\n",
            "3/3 [==============================] - 0s 12ms/step - loss: 0.2626 - accuracy: 0.9875\n",
            "Epoch 326/350\n",
            "3/3 [==============================] - 0s 13ms/step - loss: 0.2690 - accuracy: 0.9875\n",
            "Epoch 327/350\n",
            "3/3 [==============================] - 0s 13ms/step - loss: 0.2604 - accuracy: 0.9875\n",
            "Epoch 328/350\n",
            "3/3 [==============================] - 0s 14ms/step - loss: 0.2602 - accuracy: 0.9875\n",
            "Epoch 329/350\n",
            "3/3 [==============================] - 0s 13ms/step - loss: 0.2632 - accuracy: 0.9875\n",
            "Epoch 330/350\n",
            "3/3 [==============================] - 0s 14ms/step - loss: 0.2573 - accuracy: 0.9875\n",
            "Epoch 331/350\n",
            "3/3 [==============================] - 0s 31ms/step - loss: 0.2593 - accuracy: 0.9750\n",
            "Epoch 332/350\n",
            "3/3 [==============================] - 0s 13ms/step - loss: 0.2511 - accuracy: 0.9875\n",
            "Epoch 333/350\n",
            "3/3 [==============================] - 0s 20ms/step - loss: 0.2479 - accuracy: 0.9875\n",
            "Epoch 334/350\n",
            "3/3 [==============================] - 0s 13ms/step - loss: 0.2556 - accuracy: 0.9875\n",
            "Epoch 335/350\n",
            "3/3 [==============================] - 0s 17ms/step - loss: 0.2459 - accuracy: 0.9875\n",
            "Epoch 336/350\n",
            "3/3 [==============================] - 0s 12ms/step - loss: 0.2442 - accuracy: 0.9875\n",
            "Epoch 337/350\n",
            "3/3 [==============================] - 0s 15ms/step - loss: 0.2466 - accuracy: 0.9750\n",
            "Epoch 338/350\n",
            "3/3 [==============================] - 0s 11ms/step - loss: 0.2466 - accuracy: 0.9875\n",
            "Epoch 339/350\n",
            "3/3 [==============================] - 0s 15ms/step - loss: 0.2353 - accuracy: 0.9875\n",
            "Epoch 340/350\n",
            "3/3 [==============================] - 0s 13ms/step - loss: 0.2410 - accuracy: 0.9875\n",
            "Epoch 341/350\n",
            "3/3 [==============================] - 0s 21ms/step - loss: 0.2285 - accuracy: 0.9875\n",
            "Epoch 342/350\n",
            "3/3 [==============================] - 0s 18ms/step - loss: 0.2331 - accuracy: 0.9875\n",
            "Epoch 343/350\n",
            "3/3 [==============================] - 0s 16ms/step - loss: 0.2315 - accuracy: 0.9875\n",
            "Epoch 344/350\n",
            "3/3 [==============================] - 0s 13ms/step - loss: 0.2329 - accuracy: 0.9875\n",
            "Epoch 345/350\n",
            "3/3 [==============================] - 0s 13ms/step - loss: 0.2253 - accuracy: 0.9875\n",
            "Epoch 346/350\n",
            "3/3 [==============================] - 0s 19ms/step - loss: 0.2346 - accuracy: 0.9875\n",
            "Epoch 347/350\n",
            "3/3 [==============================] - 0s 19ms/step - loss: 0.2267 - accuracy: 0.9875\n",
            "Epoch 348/350\n",
            "3/3 [==============================] - 0s 12ms/step - loss: 0.2213 - accuracy: 0.9875\n",
            "Epoch 349/350\n",
            "3/3 [==============================] - 0s 18ms/step - loss: 0.2227 - accuracy: 1.0000\n",
            "Epoch 350/350\n",
            "3/3 [==============================] - 0s 16ms/step - loss: 0.2189 - accuracy: 0.9875\n"
          ]
        }
      ],
      "source": [
        "# Training the model (Melatih model data sampai 350 kali)\n",
        "train = model.fit(x_train, y_train, epochs=350)"
      ]
    },
    {
      "cell_type": "code",
      "execution_count": 22,
      "metadata": {},
      "outputs": [
        {
          "name": "stderr",
          "output_type": "stream",
          "text": [
            "c:\\Users\\Owner\\AppData\\Local\\Programs\\Python\\Python310\\lib\\site-packages\\keras\\src\\engine\\training.py:3000: UserWarning: You are saving your model as an HDF5 file via `model.save()`. This file format is considered legacy. We recommend using instead the native Keras format, e.g. `model.save('my_model.keras')`.\n",
            "  saving_api.save_model(\n"
          ]
        }
      ],
      "source": [
        "import os\n",
        "\n",
        "directory = 'D:/'\n",
        "os.makedirs(directory, exist_ok=True)\n",
        "\n",
        "model.save('D:/model_chatbot_kampus_merdeka.h5')"
      ]
    },
    {
      "cell_type": "code",
      "execution_count": 23,
      "metadata": {
        "colab": {
          "base_uri": "https://localhost:8080/",
          "height": 414
        },
        "id": "Pcu57pgf0cOR",
        "outputId": "53db5eb0-9f1e-4d53-fa9d-5946dd0926ba"
      },
      "outputs": [
        {
          "data": {
            "image/png": "[encoded data removed]",
            "text/plain": [
              "<Figure size 1008x360 with 2 Axes>"
            ]
          },
          "metadata": {
            "needs_background": "light"
          },
          "output_type": "display_data"
        }
      ],
      "source": [
        "# Plotting model Accuracy and Loss (Visualisasi Plot Hasil Akurasi dan Loss)\n",
        "# Plot Akurasi\n",
        "plt.figure(figsize=(14, 5))\n",
        "plt.subplot(1, 2, 1)\n",
        "plt.plot(train.history['accuracy'], label='Training Set Accuracy')\n",
        "plt.legend(loc='lower right')\n",
        "plt.title('Accuracy')\n",
        "# Plot Loss\n",
        "plt.subplot(1, 2, 2)\n",
        "plt.plot(train.history['loss'], label='Training Set Loss')\n",
        "plt.legend(loc='upper right')\n",
        "plt.title('Loss')\n",
        "plt.show()"
      ]
    },
    {
      "cell_type": "markdown",
      "metadata": {},
      "source": [
        "## Testing Chatbot"
      ]
    },
    {
      "cell_type": "code",
      "execution_count": 24,
      "metadata": {},
      "outputs": [],
      "source": [
        "from gtts import gTTS\n",
        "import random\n",
        "import time\n",
        "import os\n",
        "import IPython.display as ipd"
      ]
    },
    {
      "cell_type": "code",
      "execution_count": 25,
      "metadata": {
        "id": "iwM0FvzT0lp2"
      },
      "outputs": [
        {
          "name": "stderr",
          "output_type": "stream",
          "text": [
            "c:\\Users\\Owner\\AppData\\Local\\Programs\\Python\\Python310\\lib\\site-packages\\pydub\\utils.py:170: RuntimeWarning: Couldn't find ffmpeg or avconv - defaulting to ffmpeg, but may not work\n",
            "  warn(\"Couldn't find ffmpeg or avconv - defaulting to ffmpeg, but may not work\", RuntimeWarning)\n"
          ]
        },
        {
          "name": "stdout",
          "output_type": "stream",
          "text": [
            "1/1 [==============================] - 0s 484ms/step\n",
            "1\n",
            "🤖 Bot :  greeting\n",
            "🤖 Bot :  Hai! Mau tau informasi tentang apa nih?\n",
            "1/1 [==============================] - 0s 44ms/step\n",
            "35\n",
            "🤖 Bot :  program_kampus_merdeka\n",
            "🤖 Bot :  Mau tau tentang apa nih?\n",
            "1/1 [==============================] - 0s 30ms/step\n",
            "1\n",
            "🤖 Bot :  greeting\n",
            "🤖 Bot :  Halo! Mau tau tentang kampus merdeka, kan?\n"
          ]
        },
        {
          "ename": "KeyboardInterrupt",
          "evalue": "Interrupted by user",
          "output_type": "error",
          "traceback": [
            "\u001b[1;31m---------------------------------------------------------------------------\u001b[0m",
            "\u001b[1;31mKeyboardInterrupt\u001b[0m                         Traceback (most recent call last)",
            "\u001b[1;32md:\\chatbot-kampus-merdeka-deep-learning\\pra_pemrosesan.ipynb Cell 39\u001b[0m line \u001b[0;36m<cell line: 5>\u001b[1;34m()\u001b[0m\n\u001b[0;32m      <a href='vscode-notebook-cell:/d%3A/chatbot-kampus-merdeka-deep-learning/pra_pemrosesan.ipynb#X53sZmlsZQ%3D%3D?line=4'>5</a>\u001b[0m \u001b[39mwhile\u001b[39;00m \u001b[39mTrue\u001b[39;00m:\n\u001b[0;32m      <a href='vscode-notebook-cell:/d%3A/chatbot-kampus-merdeka-deep-learning/pra_pemrosesan.ipynb#X53sZmlsZQ%3D%3D?line=5'>6</a>\u001b[0m     texts_p \u001b[39m=\u001b[39m []\n\u001b[1;32m----> <a href='vscode-notebook-cell:/d%3A/chatbot-kampus-merdeka-deep-learning/pra_pemrosesan.ipynb#X53sZmlsZQ%3D%3D?line=6'>7</a>\u001b[0m     prediction_input \u001b[39m=\u001b[39m \u001b[39minput\u001b[39;49m(\u001b[39m'\u001b[39;49m\u001b[39m👨‍🦰 Kamu : \u001b[39;49m\u001b[39m'\u001b[39;49m)\n\u001b[0;32m      <a href='vscode-notebook-cell:/d%3A/chatbot-kampus-merdeka-deep-learning/pra_pemrosesan.ipynb#X53sZmlsZQ%3D%3D?line=8'>9</a>\u001b[0m     \u001b[39m# Menghapus punktuasi atau tanda baca dan konversi ke huruf kecil\u001b[39;00m\n\u001b[0;32m     <a href='vscode-notebook-cell:/d%3A/chatbot-kampus-merdeka-deep-learning/pra_pemrosesan.ipynb#X53sZmlsZQ%3D%3D?line=9'>10</a>\u001b[0m     prediction_input \u001b[39m=\u001b[39m [letters\u001b[39m.\u001b[39mlower() \u001b[39mfor\u001b[39;00m letters \u001b[39min\u001b[39;00m prediction_input \u001b[39mif\u001b[39;00m letters \u001b[39mnot\u001b[39;00m \u001b[39min\u001b[39;00m string\u001b[39m.\u001b[39mpunctuation]\n",
            "File \u001b[1;32mc:\\Users\\Owner\\AppData\\Local\\Programs\\Python\\Python310\\lib\\site-packages\\ipykernel\\kernelbase.py:1152\u001b[0m, in \u001b[0;36mKernel.raw_input\u001b[1;34m(self, prompt)\u001b[0m\n\u001b[0;32m   1148\u001b[0m \u001b[39mif\u001b[39;00m \u001b[39mnot\u001b[39;00m \u001b[39mself\u001b[39m\u001b[39m.\u001b[39m_allow_stdin:\n\u001b[0;32m   1149\u001b[0m     \u001b[39mraise\u001b[39;00m StdinNotImplementedError(\n\u001b[0;32m   1150\u001b[0m         \u001b[39m\"\u001b[39m\u001b[39mraw_input was called, but this frontend does not support input requests.\u001b[39m\u001b[39m\"\u001b[39m\n\u001b[0;32m   1151\u001b[0m     )\n\u001b[1;32m-> 1152\u001b[0m \u001b[39mreturn\u001b[39;00m \u001b[39mself\u001b[39;49m\u001b[39m.\u001b[39;49m_input_request(\n\u001b[0;32m   1153\u001b[0m     \u001b[39mstr\u001b[39;49m(prompt),\n\u001b[0;32m   1154\u001b[0m     \u001b[39mself\u001b[39;49m\u001b[39m.\u001b[39;49m_parent_ident[\u001b[39m\"\u001b[39;49m\u001b[39mshell\u001b[39;49m\u001b[39m\"\u001b[39;49m],\n\u001b[0;32m   1155\u001b[0m     \u001b[39mself\u001b[39;49m\u001b[39m.\u001b[39;49mget_parent(\u001b[39m\"\u001b[39;49m\u001b[39mshell\u001b[39;49m\u001b[39m\"\u001b[39;49m),\n\u001b[0;32m   1156\u001b[0m     password\u001b[39m=\u001b[39;49m\u001b[39mFalse\u001b[39;49;00m,\n\u001b[0;32m   1157\u001b[0m )\n",
            "File \u001b[1;32mc:\\Users\\Owner\\AppData\\Local\\Programs\\Python\\Python310\\lib\\site-packages\\ipykernel\\kernelbase.py:1194\u001b[0m, in \u001b[0;36mKernel._input_request\u001b[1;34m(self, prompt, ident, parent, password)\u001b[0m\n\u001b[0;32m   1191\u001b[0m             \u001b[39mbreak\u001b[39;00m\n\u001b[0;32m   1192\u001b[0m \u001b[39mexcept\u001b[39;00m \u001b[39mKeyboardInterrupt\u001b[39;00m:\n\u001b[0;32m   1193\u001b[0m     \u001b[39m# re-raise KeyboardInterrupt, to truncate traceback\u001b[39;00m\n\u001b[1;32m-> 1194\u001b[0m     \u001b[39mraise\u001b[39;00m \u001b[39mKeyboardInterrupt\u001b[39;00m(\u001b[39m\"\u001b[39m\u001b[39mInterrupted by user\u001b[39m\u001b[39m\"\u001b[39m) \u001b[39mfrom\u001b[39;00m \u001b[39mNone\u001b[39m\n\u001b[0;32m   1195\u001b[0m \u001b[39mexcept\u001b[39;00m \u001b[39mException\u001b[39;00m:\n\u001b[0;32m   1196\u001b[0m     \u001b[39mself\u001b[39m\u001b[39m.\u001b[39mlog\u001b[39m.\u001b[39mwarning(\u001b[39m\"\u001b[39m\u001b[39mInvalid Message:\u001b[39m\u001b[39m\"\u001b[39m, exc_info\u001b[39m=\u001b[39m\u001b[39mTrue\u001b[39;00m)\n",
            "\u001b[1;31mKeyboardInterrupt\u001b[0m: Interrupted by user"
          ]
        }
      ],
      "source": [
        "import os\n",
        "from pydub import AudioSegment\n",
        "\n",
        "# Membuat Input Chat\n",
        "while True:\n",
        "    texts_p = []\n",
        "    prediction_input = input('👨‍🦰 Kamu : ')\n",
        "\n",
        "    # Menghapus punktuasi atau tanda baca dan konversi ke huruf kecil\n",
        "    prediction_input = [letters.lower() for letters in prediction_input if letters not in string.punctuation]\n",
        "    prediction_input = ''.join(prediction_input)\n",
        "    texts_p.append(prediction_input)\n",
        "\n",
        "    # Melakukan Tokenisasi dan Padding pada data teks\n",
        "    prediction_input = tokenizer.texts_to_sequences(texts_p)\n",
        "    # Konversi data teks menjadi array\n",
        "    prediction_input = np.array(prediction_input).reshape(-1)\n",
        "    prediction_input = pad_sequences([prediction_input], input_shape)\n",
        "\n",
        "    # Mendapatkan hasil prediksi keluaran pada model\n",
        "    output = model.predict(prediction_input)\n",
        "    output = output.argmax()\n",
        "    print(output)\n",
        "\n",
        "    # Menemukan respon sesuai data tag dan memainkan suara bot\n",
        "    response_tag = le.inverse_transform([output])[0]\n",
        "    \n",
        "    # print response tag\n",
        "    print(\"🤖 Bot : \", response_tag)\n",
        "    \n",
        "    # Bot akan melakukan random jawaban percakapan dari hasil pertanyaan\n",
        "    print(\"🤖 Bot : \", random.choice(responses[response_tag]))\n",
        "    \n",
        "    # Tambahkan respon 'goodbye' agar bot bisa berhenti melakukan percakapan\n",
        "    if response_tag == \"goodbye\":\n",
        "        break"
      ]
    }
  ],
  "metadata": {
    "colab": {
      "include_colab_link": true,
      "provenance": []
    },
    "kernelspec": {
      "display_name": "Python 3",
      "language": "python",
      "name": "python3"
    },
    "language_info": {
      "codemirror_mode": {
        "name": "ipython",
        "version": 3
      },
      "file_extension": ".py",
      "mimetype": "text/x-python",
      "name": "python",
      "nbconvert_exporter": "python",
      "pygments_lexer": "ipython3",
      "version": "3.10.2"
    }
  },
  "nbformat": 4,
  "nbformat_minor": 0
}
